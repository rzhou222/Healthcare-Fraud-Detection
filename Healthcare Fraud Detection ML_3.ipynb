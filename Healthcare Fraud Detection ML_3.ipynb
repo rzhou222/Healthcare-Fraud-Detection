{
 "cells": [
  {
   "cell_type": "markdown",
   "id": "5a8298bf",
   "metadata": {},
   "source": [
    "# Module 8: Unsupervised ML techniques 2 on healthcare dataset features"
   ]
  },
  {
   "cell_type": "markdown",
   "id": "819159df",
   "metadata": {},
   "source": [
    "## Section 1: Wrap-up features that created from assignment 5"
   ]
  },
  {
   "cell_type": "markdown",
   "id": "4caf6a64",
   "metadata": {},
   "source": [
    "### Section 1.1: Data Preparation, change columns and data types"
   ]
  },
  {
   "cell_type": "code",
   "execution_count": 84,
   "id": "29021cba",
   "metadata": {},
   "outputs": [
    {
     "data": {
      "text/html": [
       "<div>\n",
       "<style scoped>\n",
       "    .dataframe tbody tr th:only-of-type {\n",
       "        vertical-align: middle;\n",
       "    }\n",
       "\n",
       "    .dataframe tbody tr th {\n",
       "        vertical-align: top;\n",
       "    }\n",
       "\n",
       "    .dataframe thead th {\n",
       "        text-align: right;\n",
       "    }\n",
       "</style>\n",
       "<table border=\"1\" class=\"dataframe\">\n",
       "  <thead>\n",
       "    <tr style=\"text-align: right;\">\n",
       "      <th></th>\n",
       "      <th>DRG</th>\n",
       "      <th>Provider_Id</th>\n",
       "      <th>Provider_Name</th>\n",
       "      <th>Provider_StreetAddress</th>\n",
       "      <th>Provider_City</th>\n",
       "      <th>Provider_State</th>\n",
       "      <th>Provider_Zipcode</th>\n",
       "      <th>Hospital_referral_region_desp</th>\n",
       "      <th>Total_Discharges</th>\n",
       "      <th>Average_Total_Payments</th>\n",
       "      <th>Average_Medicare_Payment</th>\n",
       "    </tr>\n",
       "  </thead>\n",
       "  <tbody>\n",
       "    <tr>\n",
       "      <th>0</th>\n",
       "      <td>039 - EXTRACRANIAL PROCEDURES W/O CC/MCC</td>\n",
       "      <td>10001</td>\n",
       "      <td>SOUTHEAST ALABAMA MEDICAL CENTER</td>\n",
       "      <td>1108 ROSS CLARK CIRCLE</td>\n",
       "      <td>DOTHAN</td>\n",
       "      <td>AL</td>\n",
       "      <td>36301</td>\n",
       "      <td>AL - Dothan</td>\n",
       "      <td>91</td>\n",
       "      <td>$5777.24</td>\n",
       "      <td>$4763.73</td>\n",
       "    </tr>\n",
       "  </tbody>\n",
       "</table>\n",
       "</div>"
      ],
      "text/plain": [
       "                                        DRG  Provider_Id  \\\n",
       "0  039 - EXTRACRANIAL PROCEDURES W/O CC/MCC        10001   \n",
       "\n",
       "                      Provider_Name  Provider_StreetAddress Provider_City  \\\n",
       "0  SOUTHEAST ALABAMA MEDICAL CENTER  1108 ROSS CLARK CIRCLE        DOTHAN   \n",
       "\n",
       "  Provider_State  Provider_Zipcode Hospital_referral_region_desp  \\\n",
       "0             AL             36301                   AL - Dothan   \n",
       "\n",
       "   Total_Discharges Average_Total_Payments Average_Medicare_Payment  \n",
       "0                91               $5777.24                 $4763.73  "
      ]
     },
     "execution_count": 84,
     "metadata": {},
     "output_type": "execute_result"
    }
   ],
   "source": [
    "import pandas as pd\n",
    "import numpy as np\n",
    "import matplotlib.pyplot as plt\n",
    "import seaborn as sns\n",
    "%matplotlib inline\n",
    "\n",
    "data = pd.read_csv('inpatientCharges.csv')\n",
    "data.columns = ['DRG','Provider_Id', 'Provider_Name','Provider_StreetAddress','Provider_City',\n",
    "               'Provider_State','Provider_Zipcode','Hospital_referral_region_desp',\n",
    "                'Total_Discharges','Average_Covered_Charges','Average_Total_Payments',\n",
    "                'Average_Medicare_Payment']\n",
    "data = data.drop('Average_Covered_Charges',axis=1)\n",
    "data.head(1)"
   ]
  },
  {
   "cell_type": "code",
   "execution_count": 85,
   "id": "16c19d06",
   "metadata": {},
   "outputs": [
    {
     "name": "stderr",
     "output_type": "stream",
     "text": [
      "/var/folders/4_/810dy4d13s9c2627491y7jdh0000gn/T/ipykernel_1277/2932651901.py:6: FutureWarning: The default value of regex will change from True to False in a future version.\n",
      "  data['Average_Total_Payments'] = (data['Average_Total_Payments']\n",
      "/var/folders/4_/810dy4d13s9c2627491y7jdh0000gn/T/ipykernel_1277/2932651901.py:8: FutureWarning: The default value of regex will change from True to False in a future version.\n",
      "  data['Average_Medicare_Payment'] = (data['Average_Medicare_Payment']\n"
     ]
    }
   ],
   "source": [
    "# Change data type and transfer spending amount with dollar sign into numeric\n",
    "data['DRG'] = data['DRG'].astype('category')\n",
    "data['Provider_State'] = data['Provider_State'].astype('category')\n",
    "data['Provider_City'] = data['Provider_City'].astype('category')\n",
    "data['Provider_Id'] = data['Provider_Id'].astype('category')\n",
    "data['Average_Total_Payments'] = (data['Average_Total_Payments']\n",
    "                              .str.replace(r'[^-+\\d.]', '').astype(float))\n",
    "data['Average_Medicare_Payment'] = (data['Average_Medicare_Payment']\n",
    "                              .str.replace(r'[^-+\\d.]', '').astype(float))"
   ]
  },
  {
   "cell_type": "markdown",
   "id": "50e6bbb0",
   "metadata": {},
   "source": [
    "### Section 1.2: Feature Engineering"
   ]
  },
  {
   "cell_type": "markdown",
   "id": "21ac5ea5",
   "metadata": {},
   "source": [
    "#### Section 1.2.1: Create benchmark tables - State & DRG average"
   ]
  },
  {
   "cell_type": "code",
   "execution_count": 86,
   "id": "91ea6a91",
   "metadata": {},
   "outputs": [],
   "source": [
    "# AVG\n",
    "benchmark_avg = data.groupby(['Provider_State','DRG'])['Average_Total_Payments'].mean().reset_index()\n",
    "benchmark_avg.columns = ['Provider_State','DRG','Avg_Payment_ByStateDRG']\n",
    "#benchmark_avg.head()\n",
    "\n",
    "# Median\n",
    "benchmark_median = data.groupby(['Provider_State','DRG'])['Average_Total_Payments'].median().reset_index()\n",
    "benchmark_median.columns = ['Provider_State','DRG','Avg_Payment_ByStateDRG']\n",
    "#benchmark_median.head()"
   ]
  },
  {
   "cell_type": "markdown",
   "id": "bea441f4",
   "metadata": {},
   "source": [
    "#### Section 1.2.1: Create benchmark tables - State & DRG average on \"Average Medicare Payments\""
   ]
  },
  {
   "cell_type": "code",
   "execution_count": 87,
   "id": "9418f2b4",
   "metadata": {},
   "outputs": [],
   "source": [
    "# Overall Mean\n",
    "benchmark_overall_avg = data[['Average_Total_Payments','Average_Medicare_Payment','Total_Discharges']].mean()\n",
    "benchmark_overall_avg = pd.DataFrame(benchmark_overall_avg).T\n",
    "benchmark_overall_avg\n",
    "\n",
    "# Overall Median\n",
    "#benchmark_Overall_median = data[['Average_Total_Payments','Average_Medicare_Payment','Total_Discharges']].median()\n",
    "#benchmark_Overall_median = pd.DataFrame(benchmark_Overall_median).T\n",
    "#benchmark_Overall_median\n",
    "\n",
    "benchmark_Overall_Average = data[['Average_Total_Payments','Average_Medicare_Payment','Total_Discharges']].median()\n",
    "benchmark_Overall_Average = pd.DataFrame(benchmark_Overall_Average).T\n",
    "#benchmark_Overall_Average\n",
    "\n",
    "# Median by state\n",
    "benchmark_by_State = data.groupby(['Provider_State'])[['Average_Total_Payments','Average_Medicare_Payment','Total_Discharges']].median().reset_index()\n",
    "benchmark_by_State.columns = ['Provider_State','Median_Average_Total_Payments','Median_Medicare_Payment','Median_Total_Discharges']\n",
    "#benchmark_by_State.head()\n",
    "\n",
    "# Median by state&DRG\n",
    "benchmark_by_StateDRG = data.groupby(['Provider_State','DRG'])[['Average_Total_Payments','Average_Medicare_Payment','Total_Discharges']].median().reset_index()\n",
    "benchmark_by_StateDRG.columns = ['Provider_State','DRG','Median_Average_Total_Payments','Median_Medicare_Payment','Median_Total_Discharges']\n",
    "#benchmark_by_StateDRG.head()\n",
    "\n",
    "# Mean by state&DRG\n",
    "benchmark_by_StateDRG_avg = data.groupby(['Provider_State','DRG'])[['Average_Total_Payments','Average_Medicare_Payment','Total_Discharges']].mean().reset_index()\n",
    "benchmark_by_StateDRG_avg.columns = ['Provider_State','DRG','Median_Average_Total_Payments','Median_Medicare_Payment','Median_Total_Discharges']\n",
    "#benchmark_by_StateDRG_avg.head()"
   ]
  },
  {
   "cell_type": "markdown",
   "id": "d575c1ac",
   "metadata": {},
   "source": [
    "#### Section 1.2.2: Revise Features and merge to dataset"
   ]
  },
  {
   "cell_type": "code",
   "execution_count": 88,
   "id": "b42ddbe2",
   "metadata": {},
   "outputs": [
    {
     "data": {
      "text/html": [
       "<div>\n",
       "<style scoped>\n",
       "    .dataframe tbody tr th:only-of-type {\n",
       "        vertical-align: middle;\n",
       "    }\n",
       "\n",
       "    .dataframe tbody tr th {\n",
       "        vertical-align: top;\n",
       "    }\n",
       "\n",
       "    .dataframe thead th {\n",
       "        text-align: right;\n",
       "    }\n",
       "</style>\n",
       "<table border=\"1\" class=\"dataframe\">\n",
       "  <thead>\n",
       "    <tr style=\"text-align: right;\">\n",
       "      <th></th>\n",
       "      <th>Avg_Total_Pymts_by_id_mean_Ratio</th>\n",
       "      <th>Avg_Medicare_Pymts_by_id_mean_Ratio</th>\n",
       "      <th>Avg_Total_Discharges_by_id_mean_Ratio</th>\n",
       "    </tr>\n",
       "  </thead>\n",
       "  <tbody>\n",
       "    <tr>\n",
       "      <th>0</th>\n",
       "      <td>0.595133</td>\n",
       "      <td>0.560802</td>\n",
       "      <td>2.127346</td>\n",
       "    </tr>\n",
       "  </tbody>\n",
       "</table>\n",
       "</div>"
      ],
      "text/plain": [
       "   Avg_Total_Pymts_by_id_mean_Ratio  Avg_Medicare_Pymts_by_id_mean_Ratio  \\\n",
       "0                          0.595133                             0.560802   \n",
       "\n",
       "   Avg_Total_Discharges_by_id_mean_Ratio  \n",
       "0                               2.127346  "
      ]
     },
     "execution_count": 88,
     "metadata": {},
     "output_type": "execute_result"
    }
   ],
   "source": [
    "Feature123 = pd.DataFrame()\n",
    "Feature123['Avg_Total_Pymts_by_id_mean_Ratio'] = data['Average_Total_Payments']/benchmark_overall_avg['Average_Total_Payments']\n",
    "Feature123['Avg_Medicare_Pymts_by_id_mean_Ratio'] = data['Average_Medicare_Payment']/benchmark_overall_avg['Average_Medicare_Payment']\n",
    "Feature123['Avg_Total_Discharges_by_id_mean_Ratio'] = data['Total_Discharges']/benchmark_overall_avg['Total_Discharges']\n",
    "\n",
    "Feature123.head(1)"
   ]
  },
  {
   "cell_type": "markdown",
   "id": "72174135",
   "metadata": {},
   "source": [
    "##### Thought process:\n",
    "\n",
    "1. On assignment 5, I created 3 features('Average_Total_Payments','Average_Medicare_Payment','Total_Discharges') for 'overall' level in mean, 3 features in 'overall' level in median; 3 features for 'ST' level in mean, 3 features for 'ST&DRG'level in mean\n",
    "2. For better accuracy improvement, I'd like to change the 3 features that created for 'overall' level in mean, change to 'ST&DRG' level in mean; These 3 features are feature 10-12 in the following"
   ]
  },
  {
   "cell_type": "markdown",
   "id": "6ed29f19",
   "metadata": {},
   "source": [
    "#### Feature 1-3: Compare total payments, medicare payments, total discharges to 'overall median' bechmark"
   ]
  },
  {
   "cell_type": "code",
   "execution_count": 89,
   "id": "b684d25a",
   "metadata": {},
   "outputs": [
    {
     "name": "stderr",
     "output_type": "stream",
     "text": [
      "/var/folders/4_/810dy4d13s9c2627491y7jdh0000gn/T/ipykernel_1277/2184401094.py:2: FutureWarning: The frame.append method is deprecated and will be removed from pandas in a future version. Use pandas.concat instead.\n",
      "  df = df.append([benchmark_Overall_Average]*data.shape[0],ignore_index=True)\n"
     ]
    }
   ],
   "source": [
    "df = pd.DataFrame()\n",
    "df = df.append([benchmark_Overall_Average]*data.shape[0],ignore_index=True)\n",
    "# rename columns\n",
    "df = df.rename(columns={'Average_Total_Payments': 'Median_Avg_Total_Pymts', \n",
    "                        'Average_Medicare_Payment': 'Median_Avg_Medicare_Pymt',\n",
    "                       'Total_Discharges': 'Median_Total_Discharges'})\n",
    "#df"
   ]
  },
  {
   "cell_type": "code",
   "execution_count": 90,
   "id": "b327148d",
   "metadata": {},
   "outputs": [
    {
     "data": {
      "text/html": [
       "<div>\n",
       "<style scoped>\n",
       "    .dataframe tbody tr th:only-of-type {\n",
       "        vertical-align: middle;\n",
       "    }\n",
       "\n",
       "    .dataframe tbody tr th {\n",
       "        vertical-align: top;\n",
       "    }\n",
       "\n",
       "    .dataframe thead th {\n",
       "        text-align: right;\n",
       "    }\n",
       "</style>\n",
       "<table border=\"1\" class=\"dataframe\">\n",
       "  <thead>\n",
       "    <tr style=\"text-align: right;\">\n",
       "      <th></th>\n",
       "      <th>ST</th>\n",
       "      <th>DRG</th>\n",
       "      <th>Avg_Total_Pymts_Ratio</th>\n",
       "      <th>Avg_Medicare_Pymt_Ratio</th>\n",
       "      <th>Avg_Total_Discharges_Ratio</th>\n",
       "    </tr>\n",
       "  </thead>\n",
       "  <tbody>\n",
       "    <tr>\n",
       "      <th>0</th>\n",
       "      <td>AL</td>\n",
       "      <td>039 - EXTRACRANIAL PROCEDURES W/O CC/MCC</td>\n",
       "      <td>0.800826</td>\n",
       "      <td>0.773526</td>\n",
       "      <td>3.370370</td>\n",
       "    </tr>\n",
       "    <tr>\n",
       "      <th>1</th>\n",
       "      <td>AL</td>\n",
       "      <td>039 - EXTRACRANIAL PROCEDURES W/O CC/MCC</td>\n",
       "      <td>0.802258</td>\n",
       "      <td>0.808109</td>\n",
       "      <td>0.518519</td>\n",
       "    </tr>\n",
       "    <tr>\n",
       "      <th>2</th>\n",
       "      <td>AL</td>\n",
       "      <td>039 - EXTRACRANIAL PROCEDURES W/O CC/MCC</td>\n",
       "      <td>0.753379</td>\n",
       "      <td>0.723199</td>\n",
       "      <td>0.888889</td>\n",
       "    </tr>\n",
       "  </tbody>\n",
       "</table>\n",
       "</div>"
      ],
      "text/plain": [
       "   ST                                       DRG  Avg_Total_Pymts_Ratio  \\\n",
       "0  AL  039 - EXTRACRANIAL PROCEDURES W/O CC/MCC               0.800826   \n",
       "1  AL  039 - EXTRACRANIAL PROCEDURES W/O CC/MCC               0.802258   \n",
       "2  AL  039 - EXTRACRANIAL PROCEDURES W/O CC/MCC               0.753379   \n",
       "\n",
       "   Avg_Medicare_Pymt_Ratio  Avg_Total_Discharges_Ratio  \n",
       "0                 0.773526                    3.370370  \n",
       "1                 0.808109                    0.518519  \n",
       "2                 0.723199                    0.888889  "
      ]
     },
     "execution_count": 90,
     "metadata": {},
     "output_type": "execute_result"
    }
   ],
   "source": [
    "Feature123 = pd.DataFrame()\n",
    "Feature123['Avg_Total_Pymts_Ratio'] = data['Average_Total_Payments']/df['Median_Avg_Total_Pymts']\n",
    "Feature123['Avg_Medicare_Pymt_Ratio'] = data['Average_Medicare_Payment']/df['Median_Avg_Medicare_Pymt']\n",
    "Feature123['Avg_Total_Discharges_Ratio'] = data['Total_Discharges']/df['Median_Total_Discharges']\n",
    "#Feature123.head()\n",
    "\n",
    "# Create an empty dataframe to collect the features\n",
    "Features = pd.DataFrame()\n",
    "Features[['ST','DRG']] = data[['Provider_State','DRG']]\n",
    "\n",
    "# add the new feature average spending to the dataset \n",
    "Features =  [Features,Feature123]\n",
    "Features = pd.concat(Features,axis=1)\n",
    "Features.head(3)"
   ]
  },
  {
   "cell_type": "markdown",
   "id": "d6864593",
   "metadata": {},
   "source": [
    "#### Feature 4-6: The ratio of total payments, medicare payments, total discharges to 'State level median' bechmark"
   ]
  },
  {
   "cell_type": "code",
   "execution_count": 91,
   "id": "32f7feaf",
   "metadata": {},
   "outputs": [
    {
     "data": {
      "text/html": [
       "<div>\n",
       "<style scoped>\n",
       "    .dataframe tbody tr th:only-of-type {\n",
       "        vertical-align: middle;\n",
       "    }\n",
       "\n",
       "    .dataframe tbody tr th {\n",
       "        vertical-align: top;\n",
       "    }\n",
       "\n",
       "    .dataframe thead th {\n",
       "        text-align: right;\n",
       "    }\n",
       "</style>\n",
       "<table border=\"1\" class=\"dataframe\">\n",
       "  <thead>\n",
       "    <tr style=\"text-align: right;\">\n",
       "      <th></th>\n",
       "      <th>ST</th>\n",
       "      <th>DRG</th>\n",
       "      <th>Avg_Total_Pymts_Ratio</th>\n",
       "      <th>Avg_Medicare_Pymt_Ratio</th>\n",
       "      <th>Avg_Total_Discharges_Ratio</th>\n",
       "      <th>Avg_Total_Pymt_byST</th>\n",
       "      <th>Medicare_Pymt_byST</th>\n",
       "      <th>Total_Discharges_byST</th>\n",
       "    </tr>\n",
       "  </thead>\n",
       "  <tbody>\n",
       "    <tr>\n",
       "      <th>163062</th>\n",
       "      <td>TX</td>\n",
       "      <td>948 - SIGNS &amp; SYMPTOMS W/O MCC</td>\n",
       "      <td>0.790724</td>\n",
       "      <td>0.658989</td>\n",
       "      <td>0.703704</td>\n",
       "      <td>0.823440</td>\n",
       "      <td>0.823440</td>\n",
       "      <td>0.76</td>\n",
       "    </tr>\n",
       "    <tr>\n",
       "      <th>163063</th>\n",
       "      <td>TX</td>\n",
       "      <td>948 - SIGNS &amp; SYMPTOMS W/O MCC</td>\n",
       "      <td>1.062238</td>\n",
       "      <td>1.112054</td>\n",
       "      <td>0.407407</td>\n",
       "      <td>1.106188</td>\n",
       "      <td>1.106188</td>\n",
       "      <td>0.44</td>\n",
       "    </tr>\n",
       "    <tr>\n",
       "      <th>163064</th>\n",
       "      <td>TX</td>\n",
       "      <td>948 - SIGNS &amp; SYMPTOMS W/O MCC</td>\n",
       "      <td>0.490671</td>\n",
       "      <td>0.468853</td>\n",
       "      <td>0.444444</td>\n",
       "      <td>0.510973</td>\n",
       "      <td>0.510973</td>\n",
       "      <td>0.48</td>\n",
       "    </tr>\n",
       "  </tbody>\n",
       "</table>\n",
       "</div>"
      ],
      "text/plain": [
       "        ST                             DRG  Avg_Total_Pymts_Ratio  \\\n",
       "163062  TX  948 - SIGNS & SYMPTOMS W/O MCC               0.790724   \n",
       "163063  TX  948 - SIGNS & SYMPTOMS W/O MCC               1.062238   \n",
       "163064  TX  948 - SIGNS & SYMPTOMS W/O MCC               0.490671   \n",
       "\n",
       "        Avg_Medicare_Pymt_Ratio  Avg_Total_Discharges_Ratio  \\\n",
       "163062                 0.658989                    0.703704   \n",
       "163063                 1.112054                    0.407407   \n",
       "163064                 0.468853                    0.444444   \n",
       "\n",
       "        Avg_Total_Pymt_byST  Medicare_Pymt_byST  Total_Discharges_byST  \n",
       "163062             0.823440            0.823440                   0.76  \n",
       "163063             1.106188            1.106188                   0.44  \n",
       "163064             0.510973            0.510973                   0.48  "
      ]
     },
     "execution_count": 91,
     "metadata": {},
     "output_type": "execute_result"
    }
   ],
   "source": [
    "# add the new feature average spending to the dataset \n",
    "F456 = pd.merge(data, benchmark_by_State, how='left', on='Provider_State')\n",
    "#F456.head()\n",
    "\n",
    "Average_Total_Payments_byST = F456['Average_Total_Payments']/F456['Median_Average_Total_Payments']\n",
    "Medicare_Payment_byST = F456['Average_Medicare_Payment']/F456['Median_Medicare_Payment']\n",
    "Total_Discharges_byST = F456['Total_Discharges']/F456['Median_Total_Discharges']\n",
    "\n",
    "Features['Avg_Total_Pymt_byST'] = Average_Total_Payments_byST\n",
    "Features['Medicare_Pymt_byST'] = Average_Total_Payments_byST\n",
    "Features['Total_Discharges_byST'] = Total_Discharges_byST\n",
    "Features.tail(3)"
   ]
  },
  {
   "cell_type": "markdown",
   "id": "2b956514",
   "metadata": {},
   "source": [
    "#### Feature 7-9: The ratio of total payments, medicare payments, total discharges to 'State&DRG level median bechmark"
   ]
  },
  {
   "cell_type": "code",
   "execution_count": 92,
   "id": "0afa2690",
   "metadata": {},
   "outputs": [],
   "source": [
    "# add the new feature average spending to the dataset \n",
    "F789 = pd.merge(data, benchmark_by_StateDRG, how='left', on='Provider_State' and 'DRG')\n",
    "#F789.head()\n",
    "\n",
    "Average_Total_Payments_bySTDRG = F789['Average_Total_Payments']/F789['Median_Average_Total_Payments']\n",
    "Medicare_Payment_bySTDRG = F789['Average_Medicare_Payment']/F789['Median_Medicare_Payment']\n",
    "Total_Discharges_bySTDRG = F789['Total_Discharges']/F789['Median_Total_Discharges']\n",
    "\n",
    "Features['Avg_Total_Pymt_bySTDRG'] = Average_Total_Payments_bySTDRG\n",
    "Features['Medicare_Pymt_bySTDRG'] = Average_Total_Payments_bySTDRG\n",
    "Features['Total_Discharges_bySTDRG'] = Total_Discharges_bySTDRG"
   ]
  },
  {
   "cell_type": "markdown",
   "id": "d80f5873",
   "metadata": {},
   "source": [
    "#### Feature 10-12: The ratio of total payments, medicare payments, total discharges to 'State&DRG level mean bechmark"
   ]
  },
  {
   "cell_type": "code",
   "execution_count": 93,
   "id": "840fafce",
   "metadata": {},
   "outputs": [
    {
     "name": "stdout",
     "output_type": "stream",
     "text": [
      "<class 'pandas.core.frame.DataFrame'>\n",
      "RangeIndex: 163065 entries, 0 to 163064\n",
      "Data columns (total 14 columns):\n",
      " #   Column                        Non-Null Count   Dtype   \n",
      "---  ------                        --------------   -----   \n",
      " 0   ST                            163065 non-null  category\n",
      " 1   DRG                           163065 non-null  category\n",
      " 2   Avg_Total_Pymts_Ratio         163065 non-null  float64 \n",
      " 3   Avg_Medicare_Pymt_Ratio       163065 non-null  float64 \n",
      " 4   Avg_Total_Discharges_Ratio    163065 non-null  float64 \n",
      " 5   Avg_Total_Pymt_byST           163065 non-null  float64 \n",
      " 6   Medicare_Pymt_byST            163065 non-null  float64 \n",
      " 7   Total_Discharges_byST         163065 non-null  float64 \n",
      " 8   Avg_Total_Pymt_bySTDRG        163065 non-null  float64 \n",
      " 9   Medicare_Pymt_bySTDRG         163065 non-null  float64 \n",
      " 10  Total_Discharges_bySTDRG      163065 non-null  float64 \n",
      " 11  Avg_Total_Pymt_bySTDRG_avg    163065 non-null  float64 \n",
      " 12  Medicare_Pymt_bySTDRG_avg     163065 non-null  float64 \n",
      " 13  Total_Discharges_bySTDRG_avg  163065 non-null  float64 \n",
      "dtypes: category(2), float64(12)\n",
      "memory usage: 15.2 MB\n"
     ]
    }
   ],
   "source": [
    "# add the new feature average spending to the dataset \n",
    "F101112 = pd.merge(data, benchmark_by_StateDRG_avg, how='left', on='Provider_State' and 'DRG')\n",
    "#F101112.head(3)\n",
    "\n",
    "Average_Total_Payments_bySTDRG_avg = F101112['Average_Total_Payments']/F101112['Median_Average_Total_Payments']\n",
    "Medicare_Payment_bySTDRG_avg = F101112['Average_Medicare_Payment']/F101112['Median_Medicare_Payment']\n",
    "Total_Discharges_bySTDRG_avg = F101112['Total_Discharges']/F101112['Median_Total_Discharges']\n",
    "\n",
    "Features['Avg_Total_Pymt_bySTDRG_avg'] = Average_Total_Payments_bySTDRG_avg\n",
    "Features['Medicare_Pymt_bySTDRG_avg'] = Average_Total_Payments_bySTDRG_avg\n",
    "Features['Total_Discharges_bySTDRG_avg'] = Total_Discharges_bySTDRG_avg\n",
    "\n",
    "# For some hospitals, it is possible Total Discharges=0 and cause missing values in the dataset, \n",
    "Features.iloc[:,8:] = Features.iloc[:,8:].fillna(0)\n",
    "Features.info()"
   ]
  },
  {
   "cell_type": "markdown",
   "id": "5862abca",
   "metadata": {},
   "source": [
    "#### Features visualization"
   ]
  },
  {
   "cell_type": "code",
   "execution_count": 94,
   "id": "69348ba4",
   "metadata": {},
   "outputs": [
    {
     "data": {
      "text/plain": [
       "<AxesSubplot:xlabel='variable', ylabel='value'>"
      ]
     },
     "execution_count": 94,
     "metadata": {},
     "output_type": "execute_result"
    },
    {
     "data": {
      "image/png": "[encoded data removed]",
      "text/plain": [
       "<Figure size 1500x500 with 1 Axes>"
      ]
     },
     "metadata": {},
     "output_type": "display_data"
    }
   ],
   "source": [
    "plt.figure(figsize=(15,5)) # Plot a graph with reasonable size.\n",
    "x1,x2,y1,y2 = plt.axis()  \n",
    "plt.axis((x1,x2,0,5))\n",
    "plt.xticks(rotation=-15)\n",
    "\n",
    "sns.boxplot(x=\"variable\", y=\"value\", data=pd.melt(Features.iloc[:,2::]))"
   ]
  },
  {
   "cell_type": "code",
   "execution_count": 95,
   "id": "6960e2a0",
   "metadata": {},
   "outputs": [
    {
     "data": {
      "text/plain": [
       "<AxesSubplot:xlabel='variable', ylabel='value'>"
      ]
     },
     "execution_count": 95,
     "metadata": {},
     "output_type": "execute_result"
    },
    {
     "data": {
      "image/png": "[encoded data removed]",
      "text/plain": [
       "<Figure size 1500x500 with 1 Axes>"
      ]
     },
     "metadata": {},
     "output_type": "display_data"
    }
   ],
   "source": [
    "plt.figure(figsize=(15,5)) # Plot a graph with reasonable size.\n",
    "plt.xticks(rotation=-20)\n",
    "\n",
    "sns.boxplot(x=\"variable\", y=\"value\", data=pd.melt(Features.iloc[:,2::]))"
   ]
  },
  {
   "cell_type": "markdown",
   "id": "20de8e92",
   "metadata": {},
   "source": [
    "### Summary:\n",
    "1. From the features boxplot, we can see that every features are right skewed, and for some features, their anomalous outlier have reached 120 times more than ratio;\n",
    "2. There are so many anomalies in the dataset, and our features can help us to find these data points;\n",
    "3. Since we don't have target variable, we will use unsupervised ML technique to find anomalies."
   ]
  },
  {
   "cell_type": "markdown",
   "id": "33ac1362",
   "metadata": {},
   "source": [
    "# Section 2: Modeling"
   ]
  },
  {
   "cell_type": "markdown",
   "id": "af13da60",
   "metadata": {},
   "source": [
    "## Section 2.1: Standardization"
   ]
  },
  {
   "cell_type": "code",
   "execution_count": 96,
   "id": "8b2e924a",
   "metadata": {},
   "outputs": [
    {
     "data": {
      "text/html": [
       "<div>\n",
       "<style scoped>\n",
       "    .dataframe tbody tr th:only-of-type {\n",
       "        vertical-align: middle;\n",
       "    }\n",
       "\n",
       "    .dataframe tbody tr th {\n",
       "        vertical-align: top;\n",
       "    }\n",
       "\n",
       "    .dataframe thead th {\n",
       "        text-align: right;\n",
       "    }\n",
       "</style>\n",
       "<table border=\"1\" class=\"dataframe\">\n",
       "  <thead>\n",
       "    <tr style=\"text-align: right;\">\n",
       "      <th></th>\n",
       "      <th>Avg_Total_Pymts_Ratio</th>\n",
       "      <th>Avg_Medicare_Pymt_Ratio</th>\n",
       "      <th>Avg_Total_Discharges_Ratio</th>\n",
       "      <th>Avg_Total_Pymt_byST</th>\n",
       "      <th>Medicare_Pymt_byST</th>\n",
       "      <th>Total_Discharges_byST</th>\n",
       "      <th>Avg_Total_Pymt_bySTDRG</th>\n",
       "      <th>Medicare_Pymt_bySTDRG</th>\n",
       "      <th>Total_Discharges_bySTDRG</th>\n",
       "      <th>Avg_Total_Pymt_bySTDRG_avg</th>\n",
       "      <th>Medicare_Pymt_bySTDRG_avg</th>\n",
       "      <th>Total_Discharges_bySTDRG_avg</th>\n",
       "    </tr>\n",
       "  </thead>\n",
       "  <tbody>\n",
       "    <tr>\n",
       "      <th>0</th>\n",
       "      <td>-0.512776</td>\n",
       "      <td>-0.510403</td>\n",
       "      <td>0.943640</td>\n",
       "      <td>-0.344831</td>\n",
       "      <td>-0.344831</td>\n",
       "      <td>1.128103</td>\n",
       "      <td>-1.116364</td>\n",
       "      <td>-1.116364</td>\n",
       "      <td>2.524320</td>\n",
       "      <td>-1.037184</td>\n",
       "      <td>-1.037184</td>\n",
       "      <td>3.286577</td>\n",
       "    </tr>\n",
       "    <tr>\n",
       "      <th>1</th>\n",
       "      <td>-0.511428</td>\n",
       "      <td>-0.481265</td>\n",
       "      <td>-0.563094</td>\n",
       "      <td>-0.343103</td>\n",
       "      <td>-0.343103</td>\n",
       "      <td>-0.547925</td>\n",
       "      <td>-0.120457</td>\n",
       "      <td>-0.120457</td>\n",
       "      <td>1.732056</td>\n",
       "      <td>-0.037967</td>\n",
       "      <td>-0.037967</td>\n",
       "      <td>1.469360</td>\n",
       "    </tr>\n",
       "    <tr>\n",
       "      <th>2</th>\n",
       "      <td>-0.557435</td>\n",
       "      <td>-0.552805</td>\n",
       "      <td>-0.367414</td>\n",
       "      <td>-0.402073</td>\n",
       "      <td>-0.402073</td>\n",
       "      <td>-0.330259</td>\n",
       "      <td>-0.240415</td>\n",
       "      <td>-0.240415</td>\n",
       "      <td>1.536120</td>\n",
       "      <td>-0.231628</td>\n",
       "      <td>-0.231628</td>\n",
       "      <td>1.298659</td>\n",
       "    </tr>\n",
       "  </tbody>\n",
       "</table>\n",
       "</div>"
      ],
      "text/plain": [
       "   Avg_Total_Pymts_Ratio  Avg_Medicare_Pymt_Ratio  Avg_Total_Discharges_Ratio  \\\n",
       "0              -0.512776                -0.510403                    0.943640   \n",
       "1              -0.511428                -0.481265                   -0.563094   \n",
       "2              -0.557435                -0.552805                   -0.367414   \n",
       "\n",
       "   Avg_Total_Pymt_byST  Medicare_Pymt_byST  Total_Discharges_byST  \\\n",
       "0            -0.344831           -0.344831               1.128103   \n",
       "1            -0.343103           -0.343103              -0.547925   \n",
       "2            -0.402073           -0.402073              -0.330259   \n",
       "\n",
       "   Avg_Total_Pymt_bySTDRG  Medicare_Pymt_bySTDRG  Total_Discharges_bySTDRG  \\\n",
       "0               -1.116364              -1.116364                  2.524320   \n",
       "1               -0.120457              -0.120457                  1.732056   \n",
       "2               -0.240415              -0.240415                  1.536120   \n",
       "\n",
       "   Avg_Total_Pymt_bySTDRG_avg  Medicare_Pymt_bySTDRG_avg  \\\n",
       "0                   -1.037184                  -1.037184   \n",
       "1                   -0.037967                  -0.037967   \n",
       "2                   -0.231628                  -0.231628   \n",
       "\n",
       "   Total_Discharges_bySTDRG_avg  \n",
       "0                      3.286577  \n",
       "1                      1.469360  \n",
       "2                      1.298659  "
      ]
     },
     "execution_count": 96,
     "metadata": {},
     "output_type": "execute_result"
    }
   ],
   "source": [
    "# 0.Standardize and Scale the Dataset\n",
    "from sklearn import preprocessing\n",
    "import numpy as np\n",
    "from sklearn.preprocessing import StandardScaler\n",
    "\n",
    "'''\n",
    "variables = ['Avg_Total_Pymts_Ratio', 'Avg_Medicare_Pymt_Ratio', 'Avg_Total_Discharges_Ratio', 'Avg_Total_Pymt_byST', 'Medicare_Pymt_byST','Total_Discharges_byST', 'Avg_Total_Pymt_bySTDRG', 'Medicare_Pymt_bySTDRG', 'Total_Discharges_bySTDRG', 'Avg_Total_Pymt_bySTDRG_avg', 'Medicare_Pymt_bySTDRG_avg', 'Total_Discharges_bySTDRG_avg']\n",
    "x = df.loc[:, variables].values\n",
    "#y = df.loc[:,[target]].values\n",
    "x = StandardScaler().fit_transform(x)\n",
    "x = pd.DataFrame(x)\n",
    "\n",
    "\n",
    "'''\n",
    "#0. Standardize and scale the Dataset, the numeric variables\n",
    "scaler = StandardScaler()\n",
    "scaler.fit(Features.drop(['DRG','ST'], axis=1))\n",
    "\n",
    "scaled_features = scaler.transform(Features.drop(['DRG','ST'], axis=1))\n",
    "scaled_df = pd.DataFrame(scaled_features, columns = Features.drop(['DRG','ST'],axis=1).columns)\n",
    "\n",
    "scaled_df.head(3)"
   ]
  },
  {
   "cell_type": "markdown",
   "id": "dfb6070f",
   "metadata": {},
   "source": [
    "## Section 2.2: Autoencoder"
   ]
  },
  {
   "cell_type": "markdown",
   "id": "220f753e",
   "metadata": {},
   "source": [
    "### What's Autoencoder?\n",
    "Autoencoder model is a special type of neural network that is trained to copy its input to its output. For example, autoencoder first encodes the input/image into a lower dimensional latent representation, then decodes the latent representation back to an output/image. Since it does not require the target variable like a standard neural network model, or in other words, the target variable is the input variable, it is categorized as unsupervised learning.\n",
    "\n",
    "### Why Autoencoder?\n",
    "Autoencoder can be widely applied in anomaly detection because we care about the \"bottleneck\" part, since during the process of compressing to lower dimension, we would lose the information of datapoints that followed same distribution, in other words, because the outliers is anomalous, so the distribution would not be same as the datapoints in normal groups, and the outliers is the \"bottleneck\" that we cared about."
   ]
  },
  {
   "cell_type": "markdown",
   "id": "f89654cf",
   "metadata": {},
   "source": [
    "### Section 2.2.1: Train-test split"
   ]
  },
  {
   "cell_type": "code",
   "execution_count": 97,
   "id": "8450ddb7",
   "metadata": {},
   "outputs": [],
   "source": [
    "#split dataset\n",
    "from sklearn.model_selection import train_test_split\n",
    "\n",
    "# Split the data into training and testing sets\n",
    "X_train, X_test = train_test_split(scaled_df, test_size=0.3, random_state=42)"
   ]
  },
  {
   "cell_type": "markdown",
   "id": "3433172a",
   "metadata": {},
   "source": [
    "### Section 2.2.3: Autoencoder Modeling"
   ]
  },
  {
   "cell_type": "markdown",
   "id": "6d01c01d",
   "metadata": {},
   "source": [
    "### Autoencoder\n",
    "* We will build three models: clf1, clf2, and clf3\n",
    "* clf1 has hidden_neurons = [25, 2, 2, 25]\n",
    "* clf2 has hidden_neurons = [25, 10, 2, 10, 25]\n",
    "* clf3 has hidden_neurons = [25, 15, 10, 2, 10, 15, 25])\n",
    "* The number of the hidden layers and the number of neutrons in a hidden layer: if there are too many hidden layers or too many neutrons, the model tends to overfit; otherwise the model tends to underfit.\n",
    "\n",
    "#### Model 1"
   ]
  },
  {
   "cell_type": "code",
   "execution_count": 98,
   "id": "3878260d",
   "metadata": {},
   "outputs": [
    {
     "name": "stdout",
     "output_type": "stream",
     "text": [
      "Model: \"sequential_3\"\n",
      "_________________________________________________________________\n",
      " Layer (type)                Output Shape              Param #   \n",
      "=================================================================\n",
      " dense_25 (Dense)            (None, 12)                156       \n",
      "                                                                 \n",
      " dropout_22 (Dropout)        (None, 12)                0         \n",
      "                                                                 \n",
      " dense_26 (Dense)            (None, 12)                156       \n",
      "                                                                 \n",
      " dropout_23 (Dropout)        (None, 12)                0         \n",
      "                                                                 \n",
      " dense_27 (Dense)            (None, 25)                325       \n",
      "                                                                 \n",
      " dropout_24 (Dropout)        (None, 25)                0         \n",
      "                                                                 \n",
      " dense_28 (Dense)            (None, 2)                 52        \n",
      "                                                                 \n",
      " dropout_25 (Dropout)        (None, 2)                 0         \n",
      "                                                                 \n",
      " dense_29 (Dense)            (None, 2)                 6         \n",
      "                                                                 \n",
      " dropout_26 (Dropout)        (None, 2)                 0         \n",
      "                                                                 \n",
      " dense_30 (Dense)            (None, 25)                75        \n",
      "                                                                 \n",
      " dropout_27 (Dropout)        (None, 25)                0         \n",
      "                                                                 \n",
      " dense_31 (Dense)            (None, 12)                312       \n",
      "                                                                 \n",
      "=================================================================\n",
      "Total params: 1082 (4.23 KB)\n",
      "Trainable params: 1082 (4.23 KB)\n",
      "Non-trainable params: 0 (0.00 Byte)\n",
      "_________________________________________________________________\n",
      "None\n",
      "Epoch 1/100\n",
      "3211/3211 [==============================] - 13s 3ms/step - loss: 1.1332 - val_loss: 1.0141\n",
      "Epoch 2/100\n",
      "3211/3211 [==============================] - 11s 4ms/step - loss: 1.0157 - val_loss: 0.9964\n",
      "Epoch 3/100\n",
      "3211/3211 [==============================] - 12s 4ms/step - loss: 1.0055 - val_loss: 0.9916\n",
      "Epoch 4/100\n",
      "3211/3211 [==============================] - 12s 4ms/step - loss: 1.0027 - val_loss: 0.9901\n",
      "Epoch 5/100\n",
      "3211/3211 [==============================] - 13s 4ms/step - loss: 1.0018 - val_loss: 0.9895\n",
      "Epoch 6/100\n",
      "3211/3211 [==============================] - 11s 3ms/step - loss: 1.0015 - val_loss: 0.9893\n",
      "Epoch 7/100\n",
      "3211/3211 [==============================] - 11s 3ms/step - loss: 1.0014 - val_loss: 0.9892\n",
      "Epoch 8/100\n",
      "3211/3211 [==============================] - 11s 3ms/step - loss: 1.0013 - val_loss: 0.9891\n",
      "Epoch 9/100\n",
      "3211/3211 [==============================] - 11s 3ms/step - loss: 1.0013 - val_loss: 0.9891\n",
      "Epoch 10/100\n",
      "3211/3211 [==============================] - 11s 3ms/step - loss: 1.0013 - val_loss: 0.9891\n",
      "Epoch 11/100\n",
      "3211/3211 [==============================] - 10s 3ms/step - loss: 1.0013 - val_loss: 0.9890\n",
      "Epoch 12/100\n",
      "3211/3211 [==============================] - 11s 3ms/step - loss: 1.0012 - val_loss: 0.9890\n",
      "Epoch 13/100\n",
      "3211/3211 [==============================] - 12s 4ms/step - loss: 1.0012 - val_loss: 0.9890\n",
      "Epoch 14/100\n",
      "3211/3211 [==============================] - 11s 3ms/step - loss: 1.0012 - val_loss: 0.9890\n",
      "Epoch 15/100\n",
      "3211/3211 [==============================] - 11s 3ms/step - loss: 1.0012 - val_loss: 0.9890\n",
      "Epoch 16/100\n",
      "3211/3211 [==============================] - 11s 4ms/step - loss: 1.0012 - val_loss: 0.9890\n",
      "Epoch 17/100\n",
      "3211/3211 [==============================] - 11s 3ms/step - loss: 1.0012 - val_loss: 0.9890\n",
      "Epoch 18/100\n",
      "3211/3211 [==============================] - 11s 4ms/step - loss: 1.0012 - val_loss: 0.9890\n",
      "Epoch 19/100\n",
      "3211/3211 [==============================] - 11s 3ms/step - loss: 1.0012 - val_loss: 0.9890\n",
      "Epoch 20/100\n",
      "3211/3211 [==============================] - 11s 3ms/step - loss: 1.0012 - val_loss: 0.9890\n",
      "Epoch 21/100\n",
      "3211/3211 [==============================] - 11s 3ms/step - loss: 1.0012 - val_loss: 0.9890\n",
      "Epoch 22/100\n",
      "3211/3211 [==============================] - 11s 3ms/step - loss: 1.0012 - val_loss: 0.9890\n",
      "Epoch 23/100\n",
      "3211/3211 [==============================] - 11s 3ms/step - loss: 1.0012 - val_loss: 0.9890\n",
      "Epoch 24/100\n",
      "3211/3211 [==============================] - 11s 3ms/step - loss: 1.0012 - val_loss: 0.9890\n",
      "Epoch 25/100\n",
      "3211/3211 [==============================] - 11s 3ms/step - loss: 1.0012 - val_loss: 0.9890\n",
      "Epoch 26/100\n",
      "3211/3211 [==============================] - 12s 4ms/step - loss: 1.0012 - val_loss: 0.9890\n",
      "Epoch 27/100\n",
      "3211/3211 [==============================] - 11s 4ms/step - loss: 1.0012 - val_loss: 0.9890\n",
      "Epoch 28/100\n",
      "3211/3211 [==============================] - 11s 3ms/step - loss: 1.0012 - val_loss: 0.9890\n",
      "Epoch 29/100\n",
      "3211/3211 [==============================] - 11s 3ms/step - loss: 1.0012 - val_loss: 0.9890\n",
      "Epoch 30/100\n",
      "3211/3211 [==============================] - 11s 3ms/step - loss: 1.0012 - val_loss: 0.9890\n",
      "Epoch 31/100\n",
      "3211/3211 [==============================] - 11s 3ms/step - loss: 1.0012 - val_loss: 0.9890\n",
      "Epoch 32/100\n",
      "3211/3211 [==============================] - 11s 3ms/step - loss: 1.0012 - val_loss: 0.9890\n",
      "Epoch 33/100\n",
      "3211/3211 [==============================] - 11s 3ms/step - loss: 1.0012 - val_loss: 0.9890\n",
      "Epoch 34/100\n",
      "3211/3211 [==============================] - 13s 4ms/step - loss: 1.0012 - val_loss: 0.9890\n",
      "Epoch 35/100\n",
      "3211/3211 [==============================] - 10s 3ms/step - loss: 1.0012 - val_loss: 0.9890\n",
      "Epoch 36/100\n",
      "3211/3211 [==============================] - 10s 3ms/step - loss: 1.0012 - val_loss: 0.9890\n",
      "Epoch 37/100\n",
      "3211/3211 [==============================] - 13s 4ms/step - loss: 1.0012 - val_loss: 0.9890\n",
      "Epoch 38/100\n",
      "3211/3211 [==============================] - 11s 3ms/step - loss: 1.0012 - val_loss: 0.9890\n",
      "Epoch 39/100\n",
      "3211/3211 [==============================] - 11s 3ms/step - loss: 1.0012 - val_loss: 0.9890\n",
      "Epoch 40/100\n",
      "3211/3211 [==============================] - 12s 4ms/step - loss: 1.0012 - val_loss: 0.9890\n",
      "Epoch 41/100\n",
      "3211/3211 [==============================] - 12s 4ms/step - loss: 1.0012 - val_loss: 0.9890\n",
      "Epoch 42/100\n",
      "3211/3211 [==============================] - 12s 4ms/step - loss: 1.0012 - val_loss: 0.9890\n",
      "Epoch 43/100\n",
      "3211/3211 [==============================] - 12s 4ms/step - loss: 1.0012 - val_loss: 0.9890\n",
      "Epoch 44/100\n",
      "3211/3211 [==============================] - 12s 4ms/step - loss: 1.0012 - val_loss: 0.9890\n",
      "Epoch 45/100\n",
      "3211/3211 [==============================] - 13s 4ms/step - loss: 1.0012 - val_loss: 0.9890\n",
      "Epoch 46/100\n",
      "3211/3211 [==============================] - 12s 4ms/step - loss: 1.0012 - val_loss: 0.9890\n",
      "Epoch 47/100\n",
      "3211/3211 [==============================] - 11s 3ms/step - loss: 1.0012 - val_loss: 0.9890\n",
      "Epoch 48/100\n",
      "3211/3211 [==============================] - 11s 3ms/step - loss: 1.0012 - val_loss: 0.9890\n",
      "Epoch 49/100\n",
      "3211/3211 [==============================] - 11s 3ms/step - loss: 1.0012 - val_loss: 0.9890\n",
      "Epoch 50/100\n",
      "3211/3211 [==============================] - 11s 3ms/step - loss: 1.0012 - val_loss: 0.9890\n",
      "Epoch 51/100\n",
      "3211/3211 [==============================] - 11s 3ms/step - loss: 1.0012 - val_loss: 0.9890\n",
      "Epoch 52/100\n",
      "3211/3211 [==============================] - 11s 3ms/step - loss: 1.0012 - val_loss: 0.9890\n",
      "Epoch 53/100\n",
      "3211/3211 [==============================] - 12s 4ms/step - loss: 1.0012 - val_loss: 0.9890\n",
      "Epoch 54/100\n",
      "3211/3211 [==============================] - 10s 3ms/step - loss: 1.0012 - val_loss: 0.9890\n",
      "Epoch 55/100\n",
      "3211/3211 [==============================] - 10s 3ms/step - loss: 1.0012 - val_loss: 0.9890\n",
      "Epoch 56/100\n",
      "3211/3211 [==============================] - 11s 3ms/step - loss: 1.0012 - val_loss: 0.9890\n",
      "Epoch 57/100\n",
      "3211/3211 [==============================] - 11s 3ms/step - loss: 1.0012 - val_loss: 0.9890\n",
      "Epoch 58/100\n",
      "3211/3211 [==============================] - 10s 3ms/step - loss: 1.0012 - val_loss: 0.9890\n",
      "Epoch 59/100\n",
      "3211/3211 [==============================] - 11s 3ms/step - loss: 1.0012 - val_loss: 0.9890\n",
      "Epoch 60/100\n",
      "3211/3211 [==============================] - 10s 3ms/step - loss: 1.0012 - val_loss: 0.9890\n",
      "Epoch 61/100\n",
      "3211/3211 [==============================] - 10s 3ms/step - loss: 1.0012 - val_loss: 0.9890\n",
      "Epoch 62/100\n",
      "3211/3211 [==============================] - 10s 3ms/step - loss: 1.0012 - val_loss: 0.9890\n",
      "Epoch 63/100\n",
      "3211/3211 [==============================] - 10s 3ms/step - loss: 1.0012 - val_loss: 0.9890\n",
      "Epoch 64/100\n",
      "3211/3211 [==============================] - 11s 3ms/step - loss: 1.0012 - val_loss: 0.9890\n",
      "Epoch 65/100\n",
      "3211/3211 [==============================] - 10s 3ms/step - loss: 1.0012 - val_loss: 0.9890\n",
      "Epoch 66/100\n",
      "3211/3211 [==============================] - 10s 3ms/step - loss: 1.0012 - val_loss: 0.9890\n",
      "Epoch 67/100\n",
      "3211/3211 [==============================] - 10s 3ms/step - loss: 1.0012 - val_loss: 0.9890\n",
      "Epoch 68/100\n",
      "3211/3211 [==============================] - 10s 3ms/step - loss: 1.0012 - val_loss: 0.9890\n",
      "Epoch 69/100\n",
      "3211/3211 [==============================] - 10s 3ms/step - loss: 1.0012 - val_loss: 0.9890\n",
      "Epoch 70/100\n",
      "3211/3211 [==============================] - 11s 3ms/step - loss: 1.0012 - val_loss: 0.9890\n",
      "Epoch 71/100\n",
      "3211/3211 [==============================] - 10s 3ms/step - loss: 1.0012 - val_loss: 0.9890\n",
      "Epoch 72/100\n",
      "3211/3211 [==============================] - 10s 3ms/step - loss: 1.0012 - val_loss: 0.9890\n",
      "Epoch 73/100\n",
      "3211/3211 [==============================] - 10s 3ms/step - loss: 1.0012 - val_loss: 0.9890\n",
      "Epoch 74/100\n",
      "3211/3211 [==============================] - 10s 3ms/step - loss: 1.0012 - val_loss: 0.9890\n",
      "Epoch 75/100\n",
      "3211/3211 [==============================] - 12s 4ms/step - loss: 1.0012 - val_loss: 0.9890\n",
      "Epoch 76/100\n",
      "3211/3211 [==============================] - 10s 3ms/step - loss: 1.0012 - val_loss: 0.9890\n",
      "Epoch 77/100\n",
      "3211/3211 [==============================] - 10s 3ms/step - loss: 1.0012 - val_loss: 0.9890\n",
      "Epoch 78/100\n",
      "3211/3211 [==============================] - 10s 3ms/step - loss: 1.0012 - val_loss: 0.9890\n",
      "Epoch 79/100\n",
      "3211/3211 [==============================] - 10s 3ms/step - loss: 1.0012 - val_loss: 0.9890\n",
      "Epoch 80/100\n",
      "3211/3211 [==============================] - 10s 3ms/step - loss: 1.0012 - val_loss: 0.9890\n",
      "Epoch 81/100\n",
      "3211/3211 [==============================] - 10s 3ms/step - loss: 1.0012 - val_loss: 0.9890\n",
      "Epoch 82/100\n",
      "3211/3211 [==============================] - 10s 3ms/step - loss: 1.0012 - val_loss: 0.9890\n",
      "Epoch 83/100\n",
      "3211/3211 [==============================] - 10s 3ms/step - loss: 1.0012 - val_loss: 0.9890\n",
      "Epoch 84/100\n",
      "3211/3211 [==============================] - 10s 3ms/step - loss: 1.0012 - val_loss: 0.9890\n",
      "Epoch 85/100\n",
      "3211/3211 [==============================] - 10s 3ms/step - loss: 1.0012 - val_loss: 0.9890\n",
      "Epoch 86/100\n",
      "3211/3211 [==============================] - 11s 3ms/step - loss: 1.0012 - val_loss: 0.9890\n",
      "Epoch 87/100\n",
      "3211/3211 [==============================] - 10s 3ms/step - loss: 1.0012 - val_loss: 0.9890\n",
      "Epoch 88/100\n",
      "3211/3211 [==============================] - 11s 3ms/step - loss: 1.0012 - val_loss: 0.9890\n",
      "Epoch 89/100\n",
      "3211/3211 [==============================] - 11s 4ms/step - loss: 1.0012 - val_loss: 0.9890\n",
      "Epoch 90/100\n",
      "3211/3211 [==============================] - 11s 3ms/step - loss: 1.0012 - val_loss: 0.9890\n",
      "Epoch 91/100\n",
      "3211/3211 [==============================] - 12s 4ms/step - loss: 1.0012 - val_loss: 0.9890\n",
      "Epoch 92/100\n",
      "3211/3211 [==============================] - 11s 3ms/step - loss: 1.0012 - val_loss: 0.9890\n",
      "Epoch 93/100\n",
      "3211/3211 [==============================] - 11s 3ms/step - loss: 1.0012 - val_loss: 0.9890\n",
      "Epoch 94/100\n",
      "3211/3211 [==============================] - 11s 4ms/step - loss: 1.0012 - val_loss: 0.9890\n",
      "Epoch 95/100\n",
      "3211/3211 [==============================] - 11s 4ms/step - loss: 1.0012 - val_loss: 0.9890\n",
      "Epoch 96/100\n",
      "3211/3211 [==============================] - 11s 3ms/step - loss: 1.0012 - val_loss: 0.9890\n",
      "Epoch 97/100\n",
      "3211/3211 [==============================] - 11s 4ms/step - loss: 1.0012 - val_loss: 0.9890\n",
      "Epoch 98/100\n",
      "3211/3211 [==============================] - 11s 3ms/step - loss: 1.0012 - val_loss: 0.9890\n",
      "Epoch 99/100\n",
      "3211/3211 [==============================] - 11s 3ms/step - loss: 1.0012 - val_loss: 0.9890\n",
      "Epoch 100/100\n",
      "3211/3211 [==============================] - 11s 3ms/step - loss: 1.0012 - val_loss: 0.9890\n",
      "3568/3568 [==============================] - 7s 2ms/step\n"
     ]
    },
    {
     "data": {
      "text/plain": [
       "AutoEncoder(batch_size=32, contamination=0.1, dropout_rate=0.2, epochs=100,\n",
       "      hidden_activation='relu', hidden_neurons=[25, 2, 2, 25],\n",
       "      l2_regularizer=0.1,\n",
       "      loss=<function mean_squared_error at 0x7facb0323310>,\n",
       "      optimizer='adam', output_activation='sigmoid', preprocessing=True,\n",
       "      random_state=None, validation_size=0.1, verbose=1)"
      ]
     },
     "execution_count": 98,
     "metadata": {},
     "output_type": "execute_result"
    }
   ],
   "source": [
    "#from pyod.models.knn import KNN\n",
    "from pyod.models.auto_encoder import AutoEncoder\n",
    "\n",
    "clf1 = AutoEncoder(hidden_neurons =[25, 2, 2, 25])\n",
    "clf1.fit(X_train)"
   ]
  },
  {
   "cell_type": "code",
   "execution_count": 99,
   "id": "633f4889",
   "metadata": {},
   "outputs": [
    {
     "name": "stdout",
     "output_type": "stream",
     "text": [
      "1529/1529 [==============================] - 3s 2ms/step\n",
      "1529/1529 [==============================] - 3s 2ms/step\n"
     ]
    }
   ],
   "source": [
    "y_train_scores = clf1.decision_scores_  # raw outlier scores\n",
    "\n",
    "# get the prediction on the test data\n",
    "y_test_pred = clf1.predict(X_test)  # outlier labels (0 or 1)\n",
    "# clf.decision_function: Predict raw anomaly score of X using the fitted detector.\n",
    "y_test_scores = clf1.decision_function(X_test)  # outlier scores\n",
    "\n",
    "y_test_pred = pd.Series(y_test_pred)\n",
    "y_test_scores = pd.Series(y_test_scores)"
   ]
  },
  {
   "cell_type": "code",
   "execution_count": 100,
   "id": "25f9a07f",
   "metadata": {},
   "outputs": [
    {
     "data": {
      "text/plain": [
       "0    43948\n",
       "1     4972\n",
       "dtype: int64"
      ]
     },
     "execution_count": 100,
     "metadata": {},
     "output_type": "execute_result"
    }
   ],
   "source": [
    "y_test_pred.value_counts()"
   ]
  },
  {
   "cell_type": "code",
   "execution_count": 101,
   "id": "bc765e98",
   "metadata": {},
   "outputs": [
    {
     "data": {
      "image/png": "[encoded data removed]",
      "text/plain": [
       "<Figure size 640x480 with 1 Axes>"
      ]
     },
     "metadata": {},
     "output_type": "display_data"
    }
   ],
   "source": [
    "import matplotlib.pyplot as plt\n",
    "plt.hist(y_test_scores, bins='auto')  # arguments are passed to np.histogram\n",
    "plt.title(\"Histogram for Model Clf1 Anomaly Scores\")\n",
    "plt.show()"
   ]
  },
  {
   "cell_type": "code",
   "execution_count": 106,
   "id": "03d1ea20",
   "metadata": {},
   "outputs": [
    {
     "data": {
      "text/plain": [
       "0    44103\n",
       "1     4817\n",
       "Name: cluster, dtype: int64"
      ]
     },
     "execution_count": 106,
     "metadata": {},
     "output_type": "execute_result"
    }
   ],
   "source": [
    "df_test = X_test.copy()\n",
    "df_test['score'] = y_test_scores.values\n",
    "df_test['cluster'] = np.where(df_test['score']<5, 0, 1)\n",
    "df_test['cluster'].value_counts()"
   ]
  },
  {
   "cell_type": "code",
   "execution_count": 82,
   "id": "fc69b4ee",
   "metadata": {},
   "outputs": [
    {
     "data": {
      "text/plain": [
       "array([-0.04802576, -0.12049989, -0.10597141, ..., -0.11566492,\n",
       "       -0.12700697, -0.01466496])"
      ]
     },
     "execution_count": 82,
     "metadata": {},
     "output_type": "execute_result"
    }
   ],
   "source": [
    "y_test_scores.values"
   ]
  },
  {
   "cell_type": "code",
   "execution_count": 79,
   "id": "3f4bd770",
   "metadata": {},
   "outputs": [
    {
     "data": {
      "text/plain": [
       "(48920, 14)"
      ]
     },
     "execution_count": 79,
     "metadata": {},
     "output_type": "execute_result"
    }
   ],
   "source": [
    "df_test.shape"
   ]
  },
  {
   "cell_type": "code",
   "execution_count": 135,
   "id": "7931fb97",
   "metadata": {},
   "outputs": [
    {
     "data": {
      "text/plain": [
       "0        4.159920\n",
       "1        2.278387\n",
       "2        2.865211\n",
       "3        1.890159\n",
       "4        1.227750\n",
       "           ...   \n",
       "48915    2.005058\n",
       "48916    1.677419\n",
       "48917    2.609369\n",
       "48918    2.554605\n",
       "48919    4.678828\n",
       "Length: 48920, dtype: float64"
      ]
     },
     "execution_count": 135,
     "metadata": {},
     "output_type": "execute_result"
    }
   ],
   "source": [
    "y_test_scores"
   ]
  },
  {
   "cell_type": "code",
   "execution_count": 107,
   "id": "777b8318",
   "metadata": {},
   "outputs": [
    {
     "data": {
      "text/html": [
       "<div>\n",
       "<style scoped>\n",
       "    .dataframe tbody tr th:only-of-type {\n",
       "        vertical-align: middle;\n",
       "    }\n",
       "\n",
       "    .dataframe tbody tr th {\n",
       "        vertical-align: top;\n",
       "    }\n",
       "\n",
       "    .dataframe thead th {\n",
       "        text-align: right;\n",
       "    }\n",
       "</style>\n",
       "<table border=\"1\" class=\"dataframe\">\n",
       "  <thead>\n",
       "    <tr style=\"text-align: right;\">\n",
       "      <th></th>\n",
       "      <th>Avg_Total_Pymts_Ratio</th>\n",
       "      <th>Avg_Medicare_Pymt_Ratio</th>\n",
       "      <th>Avg_Total_Discharges_Ratio</th>\n",
       "      <th>Avg_Total_Pymt_byST</th>\n",
       "      <th>Medicare_Pymt_byST</th>\n",
       "      <th>Total_Discharges_byST</th>\n",
       "      <th>Avg_Total_Pymt_bySTDRG</th>\n",
       "      <th>Medicare_Pymt_bySTDRG</th>\n",
       "      <th>Total_Discharges_bySTDRG</th>\n",
       "      <th>Avg_Total_Pymt_bySTDRG_avg</th>\n",
       "      <th>Medicare_Pymt_bySTDRG_avg</th>\n",
       "      <th>Total_Discharges_bySTDRG_avg</th>\n",
       "      <th>score</th>\n",
       "    </tr>\n",
       "    <tr>\n",
       "      <th>cluster</th>\n",
       "      <th></th>\n",
       "      <th></th>\n",
       "      <th></th>\n",
       "      <th></th>\n",
       "      <th></th>\n",
       "      <th></th>\n",
       "      <th></th>\n",
       "      <th></th>\n",
       "      <th></th>\n",
       "      <th></th>\n",
       "      <th></th>\n",
       "      <th></th>\n",
       "      <th></th>\n",
       "    </tr>\n",
       "  </thead>\n",
       "  <tbody>\n",
       "    <tr>\n",
       "      <th>0</th>\n",
       "      <td>-0.154865</td>\n",
       "      <td>-0.153108</td>\n",
       "      <td>-0.079168</td>\n",
       "      <td>-0.155538</td>\n",
       "      <td>-0.155538</td>\n",
       "      <td>-0.079388</td>\n",
       "      <td>-0.107016</td>\n",
       "      <td>-0.107016</td>\n",
       "      <td>-0.079271</td>\n",
       "      <td>-0.108045</td>\n",
       "      <td>-0.108045</td>\n",
       "      <td>-0.079369</td>\n",
       "      <td>2.267217</td>\n",
       "    </tr>\n",
       "    <tr>\n",
       "      <th>1</th>\n",
       "      <td>1.382279</td>\n",
       "      <td>1.366178</td>\n",
       "      <td>0.681559</td>\n",
       "      <td>1.378325</td>\n",
       "      <td>1.378325</td>\n",
       "      <td>0.675286</td>\n",
       "      <td>1.024371</td>\n",
       "      <td>1.024371</td>\n",
       "      <td>0.726976</td>\n",
       "      <td>1.021915</td>\n",
       "      <td>1.021915</td>\n",
       "      <td>0.721317</td>\n",
       "      <td>7.500297</td>\n",
       "    </tr>\n",
       "  </tbody>\n",
       "</table>\n",
       "</div>"
      ],
      "text/plain": [
       "         Avg_Total_Pymts_Ratio  Avg_Medicare_Pymt_Ratio  \\\n",
       "cluster                                                   \n",
       "0                    -0.154865                -0.153108   \n",
       "1                     1.382279                 1.366178   \n",
       "\n",
       "         Avg_Total_Discharges_Ratio  Avg_Total_Pymt_byST  Medicare_Pymt_byST  \\\n",
       "cluster                                                                        \n",
       "0                         -0.079168            -0.155538           -0.155538   \n",
       "1                          0.681559             1.378325            1.378325   \n",
       "\n",
       "         Total_Discharges_byST  Avg_Total_Pymt_bySTDRG  Medicare_Pymt_bySTDRG  \\\n",
       "cluster                                                                         \n",
       "0                    -0.079388               -0.107016              -0.107016   \n",
       "1                     0.675286                1.024371               1.024371   \n",
       "\n",
       "         Total_Discharges_bySTDRG  Avg_Total_Pymt_bySTDRG_avg  \\\n",
       "cluster                                                         \n",
       "0                       -0.079271                   -0.108045   \n",
       "1                        0.726976                    1.021915   \n",
       "\n",
       "         Medicare_Pymt_bySTDRG_avg  Total_Discharges_bySTDRG_avg     score  \n",
       "cluster                                                                     \n",
       "0                        -0.108045                     -0.079369  2.267217  \n",
       "1                         1.021915                      0.721317  7.500297  "
      ]
     },
     "execution_count": 107,
     "metadata": {},
     "output_type": "execute_result"
    }
   ],
   "source": [
    "df_test.groupby('cluster').mean()"
   ]
  },
  {
   "cell_type": "markdown",
   "id": "b84399fe",
   "metadata": {},
   "source": [
    "### Model 1 Analysis:\n",
    "1. In model 1, we set up the number of hidder layers to be 4, number of hidden_neurons =[25, 2, 2, 25], the contamination rate is using default, 0.1;\n",
    "2. There is no clear distinguished threshold from the anomaly scores distribution graph, I set the threshhold values to be 5, which means in cluster 0, the anomaly scores of test dataset is less than 5, and the anomaly score of the cluster 1 is greater than 5;\n",
    "3. After calculate the mean value of each feature in both clusters, we can see that the mean scores of cluster 0 in each feature/variable is negative and close to 0, while all mean scores of cluster 1 in all features is ranging from 0 to 2; also, the anomaly score of 'outlier' group is 3.3 times higher than the 'normal' group(2.26 in cluster 0, 7.5 in cluster 1). Therefore 'outlier' group dataset is the anomalous/outlier group."
   ]
  },
  {
   "cell_type": "markdown",
   "id": "360427f1",
   "metadata": {},
   "source": [
    "#### Model 2"
   ]
  },
  {
   "cell_type": "code",
   "execution_count": 108,
   "id": "d07455a0",
   "metadata": {},
   "outputs": [
    {
     "name": "stdout",
     "output_type": "stream",
     "text": [
      "Model: \"sequential_4\"\n",
      "_________________________________________________________________\n",
      " Layer (type)                Output Shape              Param #   \n",
      "=================================================================\n",
      " dense_32 (Dense)            (None, 12)                156       \n",
      "                                                                 \n",
      " dropout_28 (Dropout)        (None, 12)                0         \n",
      "                                                                 \n",
      " dense_33 (Dense)            (None, 12)                156       \n",
      "                                                                 \n",
      " dropout_29 (Dropout)        (None, 12)                0         \n",
      "                                                                 \n",
      " dense_34 (Dense)            (None, 25)                325       \n",
      "                                                                 \n",
      " dropout_30 (Dropout)        (None, 25)                0         \n",
      "                                                                 \n",
      " dense_35 (Dense)            (None, 10)                260       \n",
      "                                                                 \n",
      " dropout_31 (Dropout)        (None, 10)                0         \n",
      "                                                                 \n",
      " dense_36 (Dense)            (None, 2)                 22        \n",
      "                                                                 \n",
      " dropout_32 (Dropout)        (None, 2)                 0         \n",
      "                                                                 \n",
      " dense_37 (Dense)            (None, 10)                30        \n",
      "                                                                 \n",
      " dropout_33 (Dropout)        (None, 10)                0         \n",
      "                                                                 \n",
      " dense_38 (Dense)            (None, 25)                275       \n",
      "                                                                 \n",
      " dropout_34 (Dropout)        (None, 25)                0         \n",
      "                                                                 \n",
      " dense_39 (Dense)            (None, 12)                312       \n",
      "                                                                 \n",
      "=================================================================\n",
      "Total params: 1536 (6.00 KB)\n",
      "Trainable params: 1536 (6.00 KB)\n",
      "Non-trainable params: 0 (0.00 Byte)\n",
      "_________________________________________________________________\n",
      "None\n",
      "Epoch 1/100\n",
      "3211/3211 [==============================] - 14s 4ms/step - loss: 1.1085 - val_loss: 0.9494\n",
      "Epoch 2/100\n",
      "3211/3211 [==============================] - 11s 3ms/step - loss: 0.9566 - val_loss: 0.9093\n",
      "Epoch 3/100\n",
      "3211/3211 [==============================] - 11s 3ms/step - loss: 0.9365 - val_loss: 0.8917\n",
      "Epoch 4/100\n",
      "3211/3211 [==============================] - 11s 3ms/step - loss: 0.9238 - val_loss: 0.9002\n",
      "Epoch 5/100\n",
      "3211/3211 [==============================] - 11s 4ms/step - loss: 0.9242 - val_loss: 0.8836\n",
      "Epoch 6/100\n",
      "3211/3211 [==============================] - 11s 3ms/step - loss: 0.9242 - val_loss: 0.8749\n",
      "Epoch 7/100\n",
      "3211/3211 [==============================] - 11s 3ms/step - loss: 0.9191 - val_loss: 0.8746\n",
      "Epoch 8/100\n",
      "3211/3211 [==============================] - 11s 3ms/step - loss: 0.9170 - val_loss: 0.8622\n",
      "Epoch 9/100\n",
      "3211/3211 [==============================] - 12s 4ms/step - loss: 0.9156 - val_loss: 0.9142\n",
      "Epoch 10/100\n",
      "3211/3211 [==============================] - 12s 4ms/step - loss: 0.9167 - val_loss: 0.8562\n",
      "Epoch 11/100\n",
      "3211/3211 [==============================] - 12s 4ms/step - loss: 0.9186 - val_loss: 0.8723\n",
      "Epoch 12/100\n",
      "3211/3211 [==============================] - 15s 5ms/step - loss: 0.9125 - val_loss: 0.8568\n",
      "Epoch 13/100\n",
      "3211/3211 [==============================] - 12s 4ms/step - loss: 0.9228 - val_loss: 0.8789\n",
      "Epoch 14/100\n",
      "3211/3211 [==============================] - 11s 4ms/step - loss: 0.9092 - val_loss: 0.8577\n",
      "Epoch 15/100\n",
      "3211/3211 [==============================] - 11s 3ms/step - loss: 0.9201 - val_loss: 0.8633\n",
      "Epoch 16/100\n",
      "3211/3211 [==============================] - 11s 3ms/step - loss: 0.9153 - val_loss: 0.8713\n",
      "Epoch 17/100\n",
      "3211/3211 [==============================] - 11s 3ms/step - loss: 0.9155 - val_loss: 0.8473\n",
      "Epoch 18/100\n",
      "3211/3211 [==============================] - 11s 3ms/step - loss: 0.9128 - val_loss: 0.8904\n",
      "Epoch 19/100\n",
      "3211/3211 [==============================] - 11s 3ms/step - loss: 0.9124 - val_loss: 0.8868\n",
      "Epoch 20/100\n",
      "3211/3211 [==============================] - 13s 4ms/step - loss: 0.9108 - val_loss: 0.8574\n",
      "Epoch 21/100\n",
      "3211/3211 [==============================] - 12s 4ms/step - loss: 0.9085 - val_loss: 0.8591\n",
      "Epoch 22/100\n",
      "3211/3211 [==============================] - 12s 4ms/step - loss: 0.9115 - val_loss: 0.8625\n",
      "Epoch 23/100\n",
      "3211/3211 [==============================] - 12s 4ms/step - loss: 0.9171 - val_loss: 0.8877\n",
      "Epoch 24/100\n",
      "3211/3211 [==============================] - 12s 4ms/step - loss: 0.9167 - val_loss: 0.9070\n",
      "Epoch 25/100\n",
      "3211/3211 [==============================] - 13s 4ms/step - loss: 0.9111 - val_loss: 0.8984\n",
      "Epoch 26/100\n",
      "3211/3211 [==============================] - 11s 4ms/step - loss: 0.9062 - val_loss: 0.8684\n",
      "Epoch 27/100\n",
      "3211/3211 [==============================] - 12s 4ms/step - loss: 0.9122 - val_loss: 0.8663\n",
      "Epoch 28/100\n",
      "3211/3211 [==============================] - 11s 3ms/step - loss: 0.9143 - val_loss: 0.8571\n",
      "Epoch 29/100\n",
      "3211/3211 [==============================] - 11s 3ms/step - loss: 0.9090 - val_loss: 0.8607\n",
      "Epoch 30/100\n",
      "3211/3211 [==============================] - 12s 4ms/step - loss: 0.9125 - val_loss: 0.8806\n",
      "Epoch 31/100\n",
      "3211/3211 [==============================] - 11s 4ms/step - loss: 0.9109 - val_loss: 0.8950\n",
      "Epoch 32/100\n",
      "3211/3211 [==============================] - 11s 4ms/step - loss: 0.9135 - val_loss: 0.8660\n",
      "Epoch 33/100\n",
      "3211/3211 [==============================] - 11s 3ms/step - loss: 0.9175 - val_loss: 0.8906\n",
      "Epoch 34/100\n",
      "3211/3211 [==============================] - 11s 3ms/step - loss: 0.9135 - val_loss: 0.8767\n",
      "Epoch 35/100\n",
      "3211/3211 [==============================] - 11s 3ms/step - loss: 0.9131 - val_loss: 0.8590\n",
      "Epoch 36/100\n",
      "3211/3211 [==============================] - 11s 3ms/step - loss: 0.9102 - val_loss: 0.8695\n",
      "Epoch 37/100\n",
      "3211/3211 [==============================] - 11s 3ms/step - loss: 0.9122 - val_loss: 0.8789\n",
      "Epoch 38/100\n",
      "3211/3211 [==============================] - 11s 3ms/step - loss: 0.9118 - val_loss: 0.8776\n",
      "Epoch 39/100\n",
      "3211/3211 [==============================] - 11s 3ms/step - loss: 0.9094 - val_loss: 0.8644\n",
      "Epoch 40/100\n",
      "3211/3211 [==============================] - 11s 4ms/step - loss: 0.9108 - val_loss: 0.8631\n",
      "Epoch 41/100\n",
      "3211/3211 [==============================] - 11s 3ms/step - loss: 0.9087 - val_loss: 0.8667\n",
      "Epoch 42/100\n",
      "3211/3211 [==============================] - 11s 3ms/step - loss: 0.9109 - val_loss: 0.8968\n",
      "Epoch 43/100\n",
      "3211/3211 [==============================] - 11s 4ms/step - loss: 0.9124 - val_loss: 0.9358\n",
      "Epoch 44/100\n",
      "3211/3211 [==============================] - 11s 3ms/step - loss: 0.9494 - val_loss: 0.9248\n",
      "Epoch 45/100\n",
      "3211/3211 [==============================] - 11s 4ms/step - loss: 0.9479 - val_loss: 0.9308\n",
      "Epoch 46/100\n",
      "3211/3211 [==============================] - 12s 4ms/step - loss: 0.9479 - val_loss: 0.9179\n",
      "Epoch 47/100\n",
      "3211/3211 [==============================] - 11s 3ms/step - loss: 0.9484 - val_loss: 0.9534\n",
      "Epoch 48/100\n",
      "3211/3211 [==============================] - 11s 3ms/step - loss: 0.9487 - val_loss: 0.9169\n",
      "Epoch 49/100\n",
      "3211/3211 [==============================] - 11s 3ms/step - loss: 0.9489 - val_loss: 0.9150\n",
      "Epoch 50/100\n",
      "3211/3211 [==============================] - 11s 3ms/step - loss: 0.9484 - val_loss: 0.9227\n",
      "Epoch 51/100\n",
      "3211/3211 [==============================] - 11s 4ms/step - loss: 0.9498 - val_loss: 0.9303\n",
      "Epoch 52/100\n",
      "3211/3211 [==============================] - 12s 4ms/step - loss: 0.9476 - val_loss: 0.9099\n",
      "Epoch 53/100\n",
      "3211/3211 [==============================] - 14s 4ms/step - loss: 0.9459 - val_loss: 0.9139\n",
      "Epoch 54/100\n",
      "3211/3211 [==============================] - 13s 4ms/step - loss: 0.9478 - val_loss: 0.9208\n",
      "Epoch 55/100\n",
      "3211/3211 [==============================] - 12s 4ms/step - loss: 0.9502 - val_loss: 0.9301\n"
     ]
    },
    {
     "name": "stdout",
     "output_type": "stream",
     "text": [
      "Epoch 56/100\n",
      "3211/3211 [==============================] - 11s 4ms/step - loss: 0.9474 - val_loss: 0.9226\n",
      "Epoch 57/100\n",
      "3211/3211 [==============================] - 11s 3ms/step - loss: 0.9479 - val_loss: 0.9390\n",
      "Epoch 58/100\n",
      "3211/3211 [==============================] - 10s 3ms/step - loss: 0.9488 - val_loss: 0.9206\n",
      "Epoch 59/100\n",
      "3211/3211 [==============================] - 11s 3ms/step - loss: 0.9473 - val_loss: 0.9194\n",
      "Epoch 60/100\n",
      "3211/3211 [==============================] - 11s 3ms/step - loss: 0.9453 - val_loss: 0.9161\n",
      "Epoch 61/100\n",
      "3211/3211 [==============================] - 11s 3ms/step - loss: 0.9464 - val_loss: 0.9176\n",
      "Epoch 62/100\n",
      "3211/3211 [==============================] - 11s 4ms/step - loss: 0.9480 - val_loss: 0.9151\n",
      "Epoch 63/100\n",
      "3211/3211 [==============================] - 11s 3ms/step - loss: 0.9470 - val_loss: 0.9177\n",
      "Epoch 64/100\n",
      "3211/3211 [==============================] - 11s 3ms/step - loss: 0.9475 - val_loss: 0.9123\n",
      "Epoch 65/100\n",
      "3211/3211 [==============================] - 11s 3ms/step - loss: 0.9484 - val_loss: 0.9277\n",
      "Epoch 66/100\n",
      "3211/3211 [==============================] - 11s 3ms/step - loss: 0.9464 - val_loss: 0.9153\n",
      "Epoch 67/100\n",
      "3211/3211 [==============================] - 11s 3ms/step - loss: 0.9469 - val_loss: 0.9491\n",
      "Epoch 68/100\n",
      "3211/3211 [==============================] - 11s 3ms/step - loss: 0.9487 - val_loss: 0.9252\n",
      "Epoch 69/100\n",
      "3211/3211 [==============================] - 10s 3ms/step - loss: 0.9464 - val_loss: 0.9268\n",
      "Epoch 70/100\n",
      "3211/3211 [==============================] - 10s 3ms/step - loss: 0.9472 - val_loss: 0.9235\n",
      "Epoch 71/100\n",
      "3211/3211 [==============================] - 10s 3ms/step - loss: 0.9481 - val_loss: 0.9221\n",
      "Epoch 72/100\n",
      "3211/3211 [==============================] - 10s 3ms/step - loss: 0.9460 - val_loss: 0.9213\n",
      "Epoch 73/100\n",
      "3211/3211 [==============================] - 11s 3ms/step - loss: 0.9476 - val_loss: 0.9088\n",
      "Epoch 74/100\n",
      "3211/3211 [==============================] - 11s 3ms/step - loss: 0.9505 - val_loss: 0.9253\n",
      "Epoch 75/100\n",
      "3211/3211 [==============================] - 11s 3ms/step - loss: 0.9459 - val_loss: 0.9290\n",
      "Epoch 76/100\n",
      "3211/3211 [==============================] - 11s 3ms/step - loss: 0.9470 - val_loss: 0.9277\n",
      "Epoch 77/100\n",
      "3211/3211 [==============================] - 11s 3ms/step - loss: 0.9467 - val_loss: 0.9290\n",
      "Epoch 78/100\n",
      "3211/3211 [==============================] - 11s 3ms/step - loss: 0.9509 - val_loss: 0.9554\n",
      "Epoch 79/100\n",
      "3211/3211 [==============================] - 12s 4ms/step - loss: 0.9466 - val_loss: 0.9314\n",
      "Epoch 80/100\n",
      "3211/3211 [==============================] - 10s 3ms/step - loss: 0.9465 - val_loss: 0.9129\n",
      "Epoch 81/100\n",
      "3211/3211 [==============================] - 11s 3ms/step - loss: 0.9459 - val_loss: 0.9285\n",
      "Epoch 82/100\n",
      "3211/3211 [==============================] - 11s 4ms/step - loss: 0.9468 - val_loss: 0.9413\n",
      "Epoch 83/100\n",
      "3211/3211 [==============================] - 11s 3ms/step - loss: 0.9476 - val_loss: 0.9108\n",
      "Epoch 84/100\n",
      "3211/3211 [==============================] - 11s 3ms/step - loss: 0.9486 - val_loss: 0.9295\n",
      "Epoch 85/100\n",
      "3211/3211 [==============================] - 12s 4ms/step - loss: 0.9467 - val_loss: 0.9385\n",
      "Epoch 86/100\n",
      "3211/3211 [==============================] - 11s 3ms/step - loss: 0.9468 - val_loss: 0.9251\n",
      "Epoch 87/100\n",
      "3211/3211 [==============================] - 12s 4ms/step - loss: 0.9467 - val_loss: 0.9117\n",
      "Epoch 88/100\n",
      "3211/3211 [==============================] - 11s 3ms/step - loss: 0.9470 - val_loss: 0.9337\n",
      "Epoch 89/100\n",
      "3211/3211 [==============================] - 11s 3ms/step - loss: 0.9467 - val_loss: 0.9358\n",
      "Epoch 90/100\n",
      "3211/3211 [==============================] - 10s 3ms/step - loss: 0.9473 - val_loss: 0.9258\n",
      "Epoch 91/100\n",
      "3211/3211 [==============================] - 11s 3ms/step - loss: 0.9469 - val_loss: 0.9186\n",
      "Epoch 92/100\n",
      "3211/3211 [==============================] - 11s 3ms/step - loss: 0.9478 - val_loss: 0.9539\n",
      "Epoch 93/100\n",
      "3211/3211 [==============================] - 11s 3ms/step - loss: 0.9466 - val_loss: 0.9261\n",
      "Epoch 94/100\n",
      "3211/3211 [==============================] - 11s 3ms/step - loss: 0.9475 - val_loss: 0.9214\n",
      "Epoch 95/100\n",
      "3211/3211 [==============================] - 13s 4ms/step - loss: 0.9457 - val_loss: 0.9173\n",
      "Epoch 96/100\n",
      "3211/3211 [==============================] - 11s 3ms/step - loss: 0.9474 - val_loss: 0.9252\n",
      "Epoch 97/100\n",
      "3211/3211 [==============================] - 12s 4ms/step - loss: 0.9457 - val_loss: 0.9163\n",
      "Epoch 98/100\n",
      "3211/3211 [==============================] - 12s 4ms/step - loss: 0.9462 - val_loss: 0.9298\n",
      "Epoch 99/100\n",
      "3211/3211 [==============================] - 11s 3ms/step - loss: 0.9481 - val_loss: 0.9346\n",
      "Epoch 100/100\n",
      "3211/3211 [==============================] - 15s 5ms/step - loss: 0.9814 - val_loss: 0.9870\n",
      "3568/3568 [==============================] - 7s 2ms/step\n",
      "1529/1529 [==============================] - 3s 2ms/step\n"
     ]
    }
   ],
   "source": [
    "clf2 = AutoEncoder(hidden_neurons =[25, 10,2, 10, 25])\n",
    "clf2.fit(X_train)\n",
    "\n",
    "# clf.decision_function: Predict raw anomaly score of X using the fitted detector.\n",
    "y_test_scores = clf2.decision_function(X_test)  # outlier scores\n",
    "y_test_scores = pd.Series(y_test_scores)"
   ]
  },
  {
   "cell_type": "code",
   "execution_count": 109,
   "id": "187c3b82",
   "metadata": {},
   "outputs": [
    {
     "data": {
      "image/png": "[encoded data removed]",
      "text/plain": [
       "<Figure size 640x480 with 1 Axes>"
      ]
     },
     "metadata": {},
     "output_type": "display_data"
    }
   ],
   "source": [
    "import matplotlib.pyplot as plt\n",
    "plt.hist(y_test_scores, bins='auto')  # arguments are passed to np.histogram\n",
    "plt.title(\"Histogram for Model Clf2 Anomaly Scores\")\n",
    "plt.show()"
   ]
  },
  {
   "cell_type": "code",
   "execution_count": 112,
   "id": "40d5ca73",
   "metadata": {},
   "outputs": [
    {
     "data": {
      "text/plain": [
       "0    44104\n",
       "1     4816\n",
       "Name: cluster, dtype: int64"
      ]
     },
     "execution_count": 112,
     "metadata": {},
     "output_type": "execute_result"
    }
   ],
   "source": [
    "df_test = X_test.copy()\n",
    "df_test['score'] = y_test_scores.values\n",
    "df_test['cluster'] = np.where(df_test['score']<5, 0, 1)\n",
    "df_test['cluster'].value_counts()"
   ]
  },
  {
   "cell_type": "code",
   "execution_count": 113,
   "id": "6141f999",
   "metadata": {},
   "outputs": [
    {
     "data": {
      "text/html": [
       "<div>\n",
       "<style scoped>\n",
       "    .dataframe tbody tr th:only-of-type {\n",
       "        vertical-align: middle;\n",
       "    }\n",
       "\n",
       "    .dataframe tbody tr th {\n",
       "        vertical-align: top;\n",
       "    }\n",
       "\n",
       "    .dataframe thead th {\n",
       "        text-align: right;\n",
       "    }\n",
       "</style>\n",
       "<table border=\"1\" class=\"dataframe\">\n",
       "  <thead>\n",
       "    <tr style=\"text-align: right;\">\n",
       "      <th></th>\n",
       "      <th>Avg_Total_Pymts_Ratio</th>\n",
       "      <th>Avg_Medicare_Pymt_Ratio</th>\n",
       "      <th>Avg_Total_Discharges_Ratio</th>\n",
       "      <th>Avg_Total_Pymt_byST</th>\n",
       "      <th>Medicare_Pymt_byST</th>\n",
       "      <th>Total_Discharges_byST</th>\n",
       "      <th>Avg_Total_Pymt_bySTDRG</th>\n",
       "      <th>Medicare_Pymt_bySTDRG</th>\n",
       "      <th>Total_Discharges_bySTDRG</th>\n",
       "      <th>Avg_Total_Pymt_bySTDRG_avg</th>\n",
       "      <th>Medicare_Pymt_bySTDRG_avg</th>\n",
       "      <th>Total_Discharges_bySTDRG_avg</th>\n",
       "      <th>score</th>\n",
       "    </tr>\n",
       "    <tr>\n",
       "      <th>cluster</th>\n",
       "      <th></th>\n",
       "      <th></th>\n",
       "      <th></th>\n",
       "      <th></th>\n",
       "      <th></th>\n",
       "      <th></th>\n",
       "      <th></th>\n",
       "      <th></th>\n",
       "      <th></th>\n",
       "      <th></th>\n",
       "      <th></th>\n",
       "      <th></th>\n",
       "      <th></th>\n",
       "    </tr>\n",
       "  </thead>\n",
       "  <tbody>\n",
       "    <tr>\n",
       "      <th>0</th>\n",
       "      <td>-0.154872</td>\n",
       "      <td>-0.153116</td>\n",
       "      <td>-0.079084</td>\n",
       "      <td>-0.155544</td>\n",
       "      <td>-0.155544</td>\n",
       "      <td>-0.079312</td>\n",
       "      <td>-0.107018</td>\n",
       "      <td>-0.107018</td>\n",
       "      <td>-0.079257</td>\n",
       "      <td>-0.108047</td>\n",
       "      <td>-0.108047</td>\n",
       "      <td>-0.079353</td>\n",
       "      <td>2.267487</td>\n",
       "    </tr>\n",
       "    <tr>\n",
       "      <th>1</th>\n",
       "      <td>1.382669</td>\n",
       "      <td>1.366565</td>\n",
       "      <td>0.680944</td>\n",
       "      <td>1.378700</td>\n",
       "      <td>1.378700</td>\n",
       "      <td>0.674741</td>\n",
       "      <td>1.024628</td>\n",
       "      <td>1.024628</td>\n",
       "      <td>0.727015</td>\n",
       "      <td>1.022166</td>\n",
       "      <td>1.022166</td>\n",
       "      <td>0.721334</td>\n",
       "      <td>7.500658</td>\n",
       "    </tr>\n",
       "  </tbody>\n",
       "</table>\n",
       "</div>"
      ],
      "text/plain": [
       "         Avg_Total_Pymts_Ratio  Avg_Medicare_Pymt_Ratio  \\\n",
       "cluster                                                   \n",
       "0                    -0.154872                -0.153116   \n",
       "1                     1.382669                 1.366565   \n",
       "\n",
       "         Avg_Total_Discharges_Ratio  Avg_Total_Pymt_byST  Medicare_Pymt_byST  \\\n",
       "cluster                                                                        \n",
       "0                         -0.079084            -0.155544           -0.155544   \n",
       "1                          0.680944             1.378700            1.378700   \n",
       "\n",
       "         Total_Discharges_byST  Avg_Total_Pymt_bySTDRG  Medicare_Pymt_bySTDRG  \\\n",
       "cluster                                                                         \n",
       "0                    -0.079312               -0.107018              -0.107018   \n",
       "1                     0.674741                1.024628               1.024628   \n",
       "\n",
       "         Total_Discharges_bySTDRG  Avg_Total_Pymt_bySTDRG_avg  \\\n",
       "cluster                                                         \n",
       "0                       -0.079257                   -0.108047   \n",
       "1                        0.727015                    1.022166   \n",
       "\n",
       "         Medicare_Pymt_bySTDRG_avg  Total_Discharges_bySTDRG_avg     score  \n",
       "cluster                                                                     \n",
       "0                        -0.108047                     -0.079353  2.267487  \n",
       "1                         1.022166                      0.721334  7.500658  "
      ]
     },
     "execution_count": 113,
     "metadata": {},
     "output_type": "execute_result"
    }
   ],
   "source": [
    "df_test.groupby('cluster').mean()"
   ]
  },
  {
   "cell_type": "markdown",
   "id": "14331892",
   "metadata": {},
   "source": [
    "### Model 2 Analysis:\n",
    "1. In model 2, we set up the number of hidder layers to be 5, number of hidden_neurons =[25, 10, 2, 10, 25], the contamination rate is using default, 0.1;\n",
    "2. There is no clear distinguished threshold from the anomaly scores distribution graph, I set the threshhold values to be 5, which means in cluster 0, the anomaly scores of test dataset is less than 5, and the anomaly score of the cluster 1 is greater than 5;\n",
    "3. After calculate the mean value of each feature in both clusters, we can see that the mean scores of cluster 0 in each feature/variable is negative and close to 0, while all mean scores of cluster 1 in all features is ranging from 0 to 2; also, the anomaly score of 'outlier' group is 3.3 times higher than the 'normal' group(2.26 in cluster 0, 7.5 in cluster 1). Therefore 'outlier' group dataset is the anomalous/outlier group."
   ]
  },
  {
   "cell_type": "markdown",
   "id": "f8683253",
   "metadata": {},
   "source": [
    "#### Model 3"
   ]
  },
  {
   "cell_type": "code",
   "execution_count": 114,
   "id": "b377dd53",
   "metadata": {},
   "outputs": [
    {
     "name": "stdout",
     "output_type": "stream",
     "text": [
      "Model: \"sequential_5\"\n",
      "_________________________________________________________________\n",
      " Layer (type)                Output Shape              Param #   \n",
      "=================================================================\n",
      " dense_40 (Dense)            (None, 12)                156       \n",
      "                                                                 \n",
      " dropout_35 (Dropout)        (None, 12)                0         \n",
      "                                                                 \n",
      " dense_41 (Dense)            (None, 12)                156       \n",
      "                                                                 \n",
      " dropout_36 (Dropout)        (None, 12)                0         \n",
      "                                                                 \n",
      " dense_42 (Dense)            (None, 25)                325       \n",
      "                                                                 \n",
      " dropout_37 (Dropout)        (None, 25)                0         \n",
      "                                                                 \n",
      " dense_43 (Dense)            (None, 15)                390       \n",
      "                                                                 \n",
      " dropout_38 (Dropout)        (None, 15)                0         \n",
      "                                                                 \n",
      " dense_44 (Dense)            (None, 10)                160       \n",
      "                                                                 \n",
      " dropout_39 (Dropout)        (None, 10)                0         \n",
      "                                                                 \n",
      " dense_45 (Dense)            (None, 2)                 22        \n",
      "                                                                 \n",
      " dropout_40 (Dropout)        (None, 2)                 0         \n",
      "                                                                 \n",
      " dense_46 (Dense)            (None, 10)                30        \n",
      "                                                                 \n",
      " dropout_41 (Dropout)        (None, 10)                0         \n",
      "                                                                 \n",
      " dense_47 (Dense)            (None, 15)                165       \n",
      "                                                                 \n",
      " dropout_42 (Dropout)        (None, 15)                0         \n",
      "                                                                 \n",
      " dense_48 (Dense)            (None, 25)                400       \n",
      "                                                                 \n",
      " dropout_43 (Dropout)        (None, 25)                0         \n",
      "                                                                 \n",
      " dense_49 (Dense)            (None, 12)                312       \n",
      "                                                                 \n",
      "=================================================================\n",
      "Total params: 2116 (8.27 KB)\n",
      "Trainable params: 2116 (8.27 KB)\n",
      "Non-trainable params: 0 (0.00 Byte)\n",
      "_________________________________________________________________\n",
      "None\n",
      "Epoch 1/100\n",
      "3211/3211 [==============================] - 15s 4ms/step - loss: 1.1269 - val_loss: 1.0143\n",
      "Epoch 2/100\n",
      "3211/3211 [==============================] - 11s 4ms/step - loss: 1.0148 - val_loss: 0.9974\n",
      "Epoch 3/100\n",
      "3211/3211 [==============================] - 11s 4ms/step - loss: 1.0052 - val_loss: 0.9927\n",
      "Epoch 4/100\n",
      "3211/3211 [==============================] - 12s 4ms/step - loss: 1.0025 - val_loss: 0.9912\n",
      "Epoch 5/100\n",
      "3211/3211 [==============================] - 13s 4ms/step - loss: 1.0017 - val_loss: 0.9907\n",
      "Epoch 6/100\n",
      "3211/3211 [==============================] - 13s 4ms/step - loss: 1.0014 - val_loss: 0.9905\n",
      "Epoch 7/100\n",
      "3211/3211 [==============================] - 16s 5ms/step - loss: 1.0013 - val_loss: 0.9903\n",
      "Epoch 8/100\n",
      "3211/3211 [==============================] - 15s 5ms/step - loss: 1.0012 - val_loss: 0.9903\n",
      "Epoch 9/100\n",
      "3211/3211 [==============================] - 15s 5ms/step - loss: 1.0012 - val_loss: 0.9902\n",
      "Epoch 10/100\n",
      "3211/3211 [==============================] - 14s 5ms/step - loss: 1.0011 - val_loss: 0.9902\n",
      "Epoch 11/100\n",
      "3211/3211 [==============================] - 12s 4ms/step - loss: 1.0011 - val_loss: 0.9902\n",
      "Epoch 12/100\n",
      "3211/3211 [==============================] - 12s 4ms/step - loss: 1.0011 - val_loss: 0.9902\n",
      "Epoch 13/100\n",
      "3211/3211 [==============================] - 12s 4ms/step - loss: 1.0011 - val_loss: 0.9902\n",
      "Epoch 14/100\n",
      "3211/3211 [==============================] - 14s 4ms/step - loss: 1.0011 - val_loss: 0.9902\n",
      "Epoch 15/100\n",
      "3211/3211 [==============================] - 16s 5ms/step - loss: 1.0011 - val_loss: 0.9902\n",
      "Epoch 16/100\n",
      "3211/3211 [==============================] - 19s 6ms/step - loss: 1.0011 - val_loss: 0.9901\n",
      "Epoch 17/100\n",
      "3211/3211 [==============================] - 19s 6ms/step - loss: 1.0011 - val_loss: 0.9901\n",
      "Epoch 18/100\n",
      "3211/3211 [==============================] - 14s 5ms/step - loss: 1.0011 - val_loss: 0.9901\n",
      "Epoch 19/100\n",
      "3211/3211 [==============================] - 13s 4ms/step - loss: 1.0011 - val_loss: 0.9901\n",
      "Epoch 20/100\n",
      "3211/3211 [==============================] - 13s 4ms/step - loss: 1.0011 - val_loss: 0.9901\n",
      "Epoch 21/100\n",
      "3211/3211 [==============================] - 12s 4ms/step - loss: 1.0011 - val_loss: 0.9901\n",
      "Epoch 22/100\n",
      "3211/3211 [==============================] - 13s 4ms/step - loss: 1.0011 - val_loss: 0.9901\n",
      "Epoch 23/100\n",
      "3211/3211 [==============================] - 12s 4ms/step - loss: 1.0011 - val_loss: 0.9901\n",
      "Epoch 24/100\n",
      "3211/3211 [==============================] - 13s 4ms/step - loss: 1.0011 - val_loss: 0.9901\n",
      "Epoch 25/100\n",
      "3211/3211 [==============================] - 14s 4ms/step - loss: 1.0011 - val_loss: 0.9901\n",
      "Epoch 26/100\n",
      "3211/3211 [==============================] - 13s 4ms/step - loss: 1.0011 - val_loss: 0.9901\n",
      "Epoch 27/100\n",
      "3211/3211 [==============================] - 14s 4ms/step - loss: 1.0011 - val_loss: 0.9901\n",
      "Epoch 28/100\n",
      "3211/3211 [==============================] - 12s 4ms/step - loss: 1.0011 - val_loss: 0.9901\n",
      "Epoch 29/100\n",
      "3211/3211 [==============================] - 12s 4ms/step - loss: 1.0011 - val_loss: 0.9901\n",
      "Epoch 30/100\n",
      "3211/3211 [==============================] - 14s 5ms/step - loss: 1.0011 - val_loss: 0.9901\n",
      "Epoch 31/100\n",
      "3211/3211 [==============================] - 27s 8ms/step - loss: 1.0011 - val_loss: 0.9901\n",
      "Epoch 32/100\n",
      "3211/3211 [==============================] - 17s 5ms/step - loss: 1.0011 - val_loss: 0.9901\n",
      "Epoch 33/100\n",
      "3211/3211 [==============================] - 11s 4ms/step - loss: 1.0011 - val_loss: 0.9901\n",
      "Epoch 34/100\n",
      "3211/3211 [==============================] - 11s 3ms/step - loss: 1.0011 - val_loss: 0.9901\n",
      "Epoch 35/100\n",
      "3211/3211 [==============================] - 13s 4ms/step - loss: 1.0011 - val_loss: 0.9901\n",
      "Epoch 36/100\n",
      "3211/3211 [==============================] - 12s 4ms/step - loss: 1.0011 - val_loss: 0.9901\n",
      "Epoch 37/100\n",
      "3211/3211 [==============================] - 11s 3ms/step - loss: 1.0011 - val_loss: 0.9901\n",
      "Epoch 38/100\n",
      "3211/3211 [==============================] - 11s 4ms/step - loss: 1.0011 - val_loss: 0.9901\n",
      "Epoch 39/100\n",
      "3211/3211 [==============================] - 12s 4ms/step - loss: 1.0011 - val_loss: 0.9901\n",
      "Epoch 40/100\n",
      "3211/3211 [==============================] - 11s 3ms/step - loss: 1.0011 - val_loss: 0.9901\n",
      "Epoch 41/100\n",
      "3211/3211 [==============================] - 12s 4ms/step - loss: 1.0011 - val_loss: 0.9901\n",
      "Epoch 42/100\n",
      "3211/3211 [==============================] - 15s 5ms/step - loss: 1.0011 - val_loss: 0.9901\n",
      "Epoch 43/100\n",
      "3211/3211 [==============================] - 17s 5ms/step - loss: 1.0011 - val_loss: 0.9901\n",
      "Epoch 44/100\n",
      "3211/3211 [==============================] - 12s 4ms/step - loss: 1.0011 - val_loss: 0.9901\n",
      "Epoch 45/100\n",
      "3211/3211 [==============================] - 15s 5ms/step - loss: 1.0011 - val_loss: 0.9901\n",
      "Epoch 46/100\n",
      "3211/3211 [==============================] - 14s 4ms/step - loss: 1.0011 - val_loss: 0.9901\n",
      "Epoch 47/100\n",
      "3211/3211 [==============================] - 15s 5ms/step - loss: 1.0011 - val_loss: 0.9901\n",
      "Epoch 48/100\n",
      "3211/3211 [==============================] - 17s 5ms/step - loss: 1.0011 - val_loss: 0.9901\n",
      "Epoch 49/100\n",
      "3211/3211 [==============================] - 14s 4ms/step - loss: 1.0011 - val_loss: 0.9901\n",
      "Epoch 50/100\n",
      "3211/3211 [==============================] - 24s 7ms/step - loss: 1.0011 - val_loss: 0.9901\n"
     ]
    },
    {
     "name": "stdout",
     "output_type": "stream",
     "text": [
      "Epoch 51/100\n",
      "3211/3211 [==============================] - 14s 4ms/step - loss: 1.0011 - val_loss: 0.9901\n",
      "Epoch 52/100\n",
      "3211/3211 [==============================] - 11s 3ms/step - loss: 1.0011 - val_loss: 0.9901\n",
      "Epoch 53/100\n",
      "3211/3211 [==============================] - 11s 3ms/step - loss: 1.0011 - val_loss: 0.9901\n",
      "Epoch 54/100\n",
      "3211/3211 [==============================] - 11s 3ms/step - loss: 1.0011 - val_loss: 0.9901\n",
      "Epoch 55/100\n",
      "3211/3211 [==============================] - 10s 3ms/step - loss: 1.0011 - val_loss: 0.9901\n",
      "Epoch 56/100\n",
      "3211/3211 [==============================] - 11s 3ms/step - loss: 1.0011 - val_loss: 0.9901\n",
      "Epoch 57/100\n",
      "3211/3211 [==============================] - 11s 3ms/step - loss: 1.0011 - val_loss: 0.9901\n",
      "Epoch 58/100\n",
      "3211/3211 [==============================] - 11s 3ms/step - loss: 1.0011 - val_loss: 0.9901\n",
      "Epoch 59/100\n",
      "3211/3211 [==============================] - 11s 3ms/step - loss: 1.0011 - val_loss: 0.9901\n",
      "Epoch 60/100\n",
      "3211/3211 [==============================] - 11s 3ms/step - loss: 1.0011 - val_loss: 0.9901\n",
      "Epoch 61/100\n",
      "3211/3211 [==============================] - 11s 3ms/step - loss: 1.0011 - val_loss: 0.9901\n",
      "Epoch 62/100\n",
      "3211/3211 [==============================] - 11s 3ms/step - loss: 1.0011 - val_loss: 0.9901\n",
      "Epoch 63/100\n",
      "3211/3211 [==============================] - 11s 3ms/step - loss: 1.0011 - val_loss: 0.9901\n",
      "Epoch 64/100\n",
      "3211/3211 [==============================] - 11s 3ms/step - loss: 1.0011 - val_loss: 0.9901\n",
      "Epoch 65/100\n",
      "3211/3211 [==============================] - 10s 3ms/step - loss: 1.0011 - val_loss: 0.9901\n",
      "Epoch 66/100\n",
      "3211/3211 [==============================] - 11s 3ms/step - loss: 1.0011 - val_loss: 0.9901\n",
      "Epoch 67/100\n",
      "3211/3211 [==============================] - 11s 3ms/step - loss: 1.0011 - val_loss: 0.9901\n",
      "Epoch 68/100\n",
      "3211/3211 [==============================] - 11s 3ms/step - loss: 1.0011 - val_loss: 0.9901\n",
      "Epoch 69/100\n",
      "3211/3211 [==============================] - 11s 3ms/step - loss: 1.0011 - val_loss: 0.9901\n",
      "Epoch 70/100\n",
      "3211/3211 [==============================] - 13s 4ms/step - loss: 1.0011 - val_loss: 0.9901\n",
      "Epoch 71/100\n",
      "3211/3211 [==============================] - 11s 3ms/step - loss: 1.0011 - val_loss: 0.9901\n",
      "Epoch 72/100\n",
      "3211/3211 [==============================] - 11s 3ms/step - loss: 1.0011 - val_loss: 0.9901\n",
      "Epoch 73/100\n",
      "3211/3211 [==============================] - 12s 4ms/step - loss: 1.0011 - val_loss: 0.9901\n",
      "Epoch 74/100\n",
      "3211/3211 [==============================] - 11s 3ms/step - loss: 1.0011 - val_loss: 0.9901\n",
      "Epoch 75/100\n",
      "3211/3211 [==============================] - 11s 3ms/step - loss: 1.0011 - val_loss: 0.9901\n",
      "Epoch 76/100\n",
      "3211/3211 [==============================] - 10s 3ms/step - loss: 1.0011 - val_loss: 0.9901\n",
      "Epoch 77/100\n",
      "3211/3211 [==============================] - 10s 3ms/step - loss: 1.0011 - val_loss: 0.9901\n",
      "Epoch 78/100\n",
      "3211/3211 [==============================] - 10s 3ms/step - loss: 1.0011 - val_loss: 0.9901\n",
      "Epoch 79/100\n",
      "3211/3211 [==============================] - 10s 3ms/step - loss: 1.0011 - val_loss: 0.9901\n",
      "Epoch 80/100\n",
      "3211/3211 [==============================] - 10s 3ms/step - loss: 1.0011 - val_loss: 0.9901\n",
      "Epoch 81/100\n",
      "3211/3211 [==============================] - 12s 4ms/step - loss: 1.0011 - val_loss: 0.9901\n",
      "Epoch 82/100\n",
      "3211/3211 [==============================] - 10s 3ms/step - loss: 1.0011 - val_loss: 0.9901\n",
      "Epoch 83/100\n",
      "3211/3211 [==============================] - 10s 3ms/step - loss: 1.0011 - val_loss: 0.9901\n",
      "Epoch 84/100\n",
      "3211/3211 [==============================] - 10s 3ms/step - loss: 1.0011 - val_loss: 0.9901\n",
      "Epoch 85/100\n",
      "3211/3211 [==============================] - 11s 3ms/step - loss: 1.0011 - val_loss: 0.9901\n",
      "Epoch 86/100\n",
      "3211/3211 [==============================] - 11s 3ms/step - loss: 1.0011 - val_loss: 0.9901\n",
      "Epoch 87/100\n",
      "3211/3211 [==============================] - 11s 3ms/step - loss: 1.0011 - val_loss: 0.9901\n",
      "Epoch 88/100\n",
      "3211/3211 [==============================] - 10s 3ms/step - loss: 1.0011 - val_loss: 0.9901\n",
      "Epoch 89/100\n",
      "3211/3211 [==============================] - 11s 3ms/step - loss: 1.0011 - val_loss: 0.9901\n",
      "Epoch 90/100\n",
      "3211/3211 [==============================] - 11s 3ms/step - loss: 1.0011 - val_loss: 0.9901\n",
      "Epoch 91/100\n",
      "3211/3211 [==============================] - 11s 3ms/step - loss: 1.0011 - val_loss: 0.9901\n",
      "Epoch 92/100\n",
      "3211/3211 [==============================] - 11s 3ms/step - loss: 1.0011 - val_loss: 0.9901\n",
      "Epoch 93/100\n",
      "3211/3211 [==============================] - 11s 3ms/step - loss: 1.0011 - val_loss: 0.9901\n",
      "Epoch 94/100\n",
      "3211/3211 [==============================] - 11s 3ms/step - loss: 1.0011 - val_loss: 0.9901\n",
      "Epoch 95/100\n",
      "3211/3211 [==============================] - 10s 3ms/step - loss: 1.0011 - val_loss: 0.9901\n",
      "Epoch 96/100\n",
      "3211/3211 [==============================] - 10s 3ms/step - loss: 1.0011 - val_loss: 0.9901\n",
      "Epoch 97/100\n",
      "3211/3211 [==============================] - 11s 3ms/step - loss: 1.0011 - val_loss: 0.9901\n",
      "Epoch 98/100\n",
      "3211/3211 [==============================] - 17s 5ms/step - loss: 1.0011 - val_loss: 0.9901\n",
      "Epoch 99/100\n",
      "3211/3211 [==============================] - 13s 4ms/step - loss: 1.0011 - val_loss: 0.9901\n",
      "Epoch 100/100\n",
      "3211/3211 [==============================] - 15s 5ms/step - loss: 1.0011 - val_loss: 0.9901\n",
      "3568/3568 [==============================] - 7s 2ms/step\n",
      "1529/1529 [==============================] - 3s 2ms/step\n"
     ]
    }
   ],
   "source": [
    "clf3 = AutoEncoder(hidden_neurons =[25, 15, 10, 2, 10,15, 25])\n",
    "clf3.fit(X_train)\n",
    "\n",
    "# clf.decision_function: Predict raw anomaly score of X using the fitted detector.\n",
    "y_test_scores = clf3.decision_function(X_test)  # outlier scores\n",
    "y_test_scores = pd.Series(y_test_scores)"
   ]
  },
  {
   "cell_type": "code",
   "execution_count": 115,
   "id": "116363d5",
   "metadata": {},
   "outputs": [
    {
     "data": {
      "image/png": "[encoded data removed]",
      "text/plain": [
       "<Figure size 640x480 with 1 Axes>"
      ]
     },
     "metadata": {},
     "output_type": "display_data"
    }
   ],
   "source": [
    "import matplotlib.pyplot as plt\n",
    "plt.hist(y_test_scores, bins='auto')  \n",
    "plt.title(\"Histogram with Model Clf3 Anomaly Scores\")\n",
    "plt.show()"
   ]
  },
  {
   "cell_type": "code",
   "execution_count": 116,
   "id": "800b3add",
   "metadata": {},
   "outputs": [
    {
     "data": {
      "text/plain": [
       "0    44104\n",
       "1     4816\n",
       "Name: cluster, dtype: int64"
      ]
     },
     "execution_count": 116,
     "metadata": {},
     "output_type": "execute_result"
    }
   ],
   "source": [
    "df_test = X_test.copy()\n",
    "df_test['score'] = y_test_scores.values\n",
    "df_test['cluster'] = np.where(df_test['score']<5, 0, 1)\n",
    "df_test['cluster'].value_counts()"
   ]
  },
  {
   "cell_type": "code",
   "execution_count": 117,
   "id": "9ffc88c7",
   "metadata": {},
   "outputs": [
    {
     "data": {
      "text/html": [
       "<div>\n",
       "<style scoped>\n",
       "    .dataframe tbody tr th:only-of-type {\n",
       "        vertical-align: middle;\n",
       "    }\n",
       "\n",
       "    .dataframe tbody tr th {\n",
       "        vertical-align: top;\n",
       "    }\n",
       "\n",
       "    .dataframe thead th {\n",
       "        text-align: right;\n",
       "    }\n",
       "</style>\n",
       "<table border=\"1\" class=\"dataframe\">\n",
       "  <thead>\n",
       "    <tr style=\"text-align: right;\">\n",
       "      <th></th>\n",
       "      <th>Avg_Total_Pymts_Ratio</th>\n",
       "      <th>Avg_Medicare_Pymt_Ratio</th>\n",
       "      <th>Avg_Total_Discharges_Ratio</th>\n",
       "      <th>Avg_Total_Pymt_byST</th>\n",
       "      <th>Medicare_Pymt_byST</th>\n",
       "      <th>Total_Discharges_byST</th>\n",
       "      <th>Avg_Total_Pymt_bySTDRG</th>\n",
       "      <th>Medicare_Pymt_bySTDRG</th>\n",
       "      <th>Total_Discharges_bySTDRG</th>\n",
       "      <th>Avg_Total_Pymt_bySTDRG_avg</th>\n",
       "      <th>Medicare_Pymt_bySTDRG_avg</th>\n",
       "      <th>Total_Discharges_bySTDRG_avg</th>\n",
       "      <th>score</th>\n",
       "    </tr>\n",
       "    <tr>\n",
       "      <th>cluster</th>\n",
       "      <th></th>\n",
       "      <th></th>\n",
       "      <th></th>\n",
       "      <th></th>\n",
       "      <th></th>\n",
       "      <th></th>\n",
       "      <th></th>\n",
       "      <th></th>\n",
       "      <th></th>\n",
       "      <th></th>\n",
       "      <th></th>\n",
       "      <th></th>\n",
       "      <th></th>\n",
       "    </tr>\n",
       "  </thead>\n",
       "  <tbody>\n",
       "    <tr>\n",
       "      <th>0</th>\n",
       "      <td>-0.154868</td>\n",
       "      <td>-0.153111</td>\n",
       "      <td>-0.079180</td>\n",
       "      <td>-0.155546</td>\n",
       "      <td>-0.155546</td>\n",
       "      <td>-0.079400</td>\n",
       "      <td>-0.106961</td>\n",
       "      <td>-0.106961</td>\n",
       "      <td>-0.079252</td>\n",
       "      <td>-0.107988</td>\n",
       "      <td>-0.107988</td>\n",
       "      <td>-0.079351</td>\n",
       "      <td>2.267319</td>\n",
       "    </tr>\n",
       "    <tr>\n",
       "      <th>1</th>\n",
       "      <td>1.382629</td>\n",
       "      <td>1.366520</td>\n",
       "      <td>0.681825</td>\n",
       "      <td>1.378723</td>\n",
       "      <td>1.378723</td>\n",
       "      <td>0.675547</td>\n",
       "      <td>1.024103</td>\n",
       "      <td>1.024103</td>\n",
       "      <td>0.726971</td>\n",
       "      <td>1.021625</td>\n",
       "      <td>1.021625</td>\n",
       "      <td>0.721320</td>\n",
       "      <td>7.500687</td>\n",
       "    </tr>\n",
       "  </tbody>\n",
       "</table>\n",
       "</div>"
      ],
      "text/plain": [
       "         Avg_Total_Pymts_Ratio  Avg_Medicare_Pymt_Ratio  \\\n",
       "cluster                                                   \n",
       "0                    -0.154868                -0.153111   \n",
       "1                     1.382629                 1.366520   \n",
       "\n",
       "         Avg_Total_Discharges_Ratio  Avg_Total_Pymt_byST  Medicare_Pymt_byST  \\\n",
       "cluster                                                                        \n",
       "0                         -0.079180            -0.155546           -0.155546   \n",
       "1                          0.681825             1.378723            1.378723   \n",
       "\n",
       "         Total_Discharges_byST  Avg_Total_Pymt_bySTDRG  Medicare_Pymt_bySTDRG  \\\n",
       "cluster                                                                         \n",
       "0                    -0.079400               -0.106961              -0.106961   \n",
       "1                     0.675547                1.024103               1.024103   \n",
       "\n",
       "         Total_Discharges_bySTDRG  Avg_Total_Pymt_bySTDRG_avg  \\\n",
       "cluster                                                         \n",
       "0                       -0.079252                   -0.107988   \n",
       "1                        0.726971                    1.021625   \n",
       "\n",
       "         Medicare_Pymt_bySTDRG_avg  Total_Discharges_bySTDRG_avg     score  \n",
       "cluster                                                                     \n",
       "0                        -0.107988                     -0.079351  2.267319  \n",
       "1                         1.021625                      0.721320  7.500687  "
      ]
     },
     "execution_count": 117,
     "metadata": {},
     "output_type": "execute_result"
    }
   ],
   "source": [
    "df_test.groupby('cluster').mean()"
   ]
  },
  {
   "cell_type": "markdown",
   "id": "dfae5c47",
   "metadata": {},
   "source": [
    "### Model 3 Analysis:\n",
    "1. In model 3, we set up the number of hidder layers to be 7, number of hidden_neurons =[25, 15, 10, 2, 10,15, 25], the contamination rate is using default, 0.1;\n",
    "2. There is no clear distinguished threshold from the anomaly scores distribution graph, I set the threshhold values to be 5, which means in cluster 0, the anomaly scores of test dataset is less than 5, and the anomaly score of the cluster 1 is greater than 5;\n",
    "3. After calculate the mean value of each feature in both clusters, we can see that the mean scores of cluster 0 in each feature/variable is negative and close to 0, while all mean scores of cluster 1 in all features is ranging from 0 to 2; also, the anomaly score of 'outlier' group is 3.3 times higher than the 'normal' group(2.26 in cluster 0, 7.5 in cluster 1). Therefore 'outlier' group dataset is the anomalous/outlier group."
   ]
  },
  {
   "cell_type": "markdown",
   "id": "e95b8c59",
   "metadata": {},
   "source": [
    "## Achieve Model Stability by Aggregating Multiple Models\n",
    "* Unsupervised techniques can detect many outliers. But due to its unspervised nature it is not stable, meaning overfitting to a specific dataset.\n",
    "* The solution is to train multiple models then aggregate the scores. \n",
    "* There are four methods to aggregate the outcome:\n",
    "* (1) Average: average scores of all detectors.\n",
    "* (2) Maximum of Maximum (MOM)\n",
    "* (3) Average of Maximum (AOM)\n",
    "* (4) Maximum of Average (MOA)\n",
    "\n",
    "### For here, we choose Average method"
   ]
  },
  {
   "cell_type": "code",
   "execution_count": 118,
   "id": "895bdda9",
   "metadata": {},
   "outputs": [
    {
     "name": "stdout",
     "output_type": "stream",
     "text": [
      "1529/1529 [==============================] - 3s 2ms/step\n",
      "1529/1529 [==============================] - 4s 2ms/step\n",
      "1529/1529 [==============================] - 3s 2ms/step\n"
     ]
    }
   ],
   "source": [
    "from pyod.models.combination import aom, moa, average, maximization\n",
    "from pyod.utils.utility import standardizer\n",
    "\n",
    "# Put all the predictions in a data frame\n",
    "train_scores = pd.DataFrame({'clf1': clf1.decision_scores_,\n",
    "                             'clf2': clf2.decision_scores_,\n",
    "                             'clf3': clf3.decision_scores_\n",
    "                            })\n",
    "\n",
    "test_scores  = pd.DataFrame({'clf1': clf1.decision_function(X_test),\n",
    "                             'clf2': clf2.decision_function(X_test),\n",
    "                             'clf3': clf3.decision_function(X_test) \n",
    "                            })"
   ]
  },
  {
   "cell_type": "code",
   "execution_count": 119,
   "id": "7dd4eeb2",
   "metadata": {},
   "outputs": [
    {
     "data": {
      "text/html": [
       "<div>\n",
       "<style scoped>\n",
       "    .dataframe tbody tr th:only-of-type {\n",
       "        vertical-align: middle;\n",
       "    }\n",
       "\n",
       "    .dataframe tbody tr th {\n",
       "        vertical-align: top;\n",
       "    }\n",
       "\n",
       "    .dataframe thead th {\n",
       "        text-align: right;\n",
       "    }\n",
       "</style>\n",
       "<table border=\"1\" class=\"dataframe\">\n",
       "  <thead>\n",
       "    <tr style=\"text-align: right;\">\n",
       "      <th></th>\n",
       "      <th>clf1</th>\n",
       "      <th>clf2</th>\n",
       "      <th>clf3</th>\n",
       "    </tr>\n",
       "  </thead>\n",
       "  <tbody>\n",
       "    <tr>\n",
       "      <th>0</th>\n",
       "      <td>3.635477</td>\n",
       "      <td>3.633987</td>\n",
       "      <td>3.635872</td>\n",
       "    </tr>\n",
       "    <tr>\n",
       "      <th>1</th>\n",
       "      <td>3.936146</td>\n",
       "      <td>3.937351</td>\n",
       "      <td>3.935922</td>\n",
       "    </tr>\n",
       "    <tr>\n",
       "      <th>2</th>\n",
       "      <td>4.153931</td>\n",
       "      <td>4.155231</td>\n",
       "      <td>4.153477</td>\n",
       "    </tr>\n",
       "    <tr>\n",
       "      <th>3</th>\n",
       "      <td>2.927320</td>\n",
       "      <td>2.927890</td>\n",
       "      <td>2.927825</td>\n",
       "    </tr>\n",
       "    <tr>\n",
       "      <th>4</th>\n",
       "      <td>2.055586</td>\n",
       "      <td>2.056381</td>\n",
       "      <td>2.055869</td>\n",
       "    </tr>\n",
       "  </tbody>\n",
       "</table>\n",
       "</div>"
      ],
      "text/plain": [
       "       clf1      clf2      clf3\n",
       "0  3.635477  3.633987  3.635872\n",
       "1  3.936146  3.937351  3.935922\n",
       "2  4.153931  4.155231  4.153477\n",
       "3  2.927320  2.927890  2.927825\n",
       "4  2.055586  2.056381  2.055869"
      ]
     },
     "execution_count": 119,
     "metadata": {},
     "output_type": "execute_result"
    }
   ],
   "source": [
    "train_scores.head()"
   ]
  },
  {
   "cell_type": "code",
   "execution_count": 120,
   "id": "ac32df00",
   "metadata": {},
   "outputs": [
    {
     "data": {
      "text/html": [
       "<div>\n",
       "<style scoped>\n",
       "    .dataframe tbody tr th:only-of-type {\n",
       "        vertical-align: middle;\n",
       "    }\n",
       "\n",
       "    .dataframe tbody tr th {\n",
       "        vertical-align: top;\n",
       "    }\n",
       "\n",
       "    .dataframe thead th {\n",
       "        text-align: right;\n",
       "    }\n",
       "</style>\n",
       "<table border=\"1\" class=\"dataframe\">\n",
       "  <thead>\n",
       "    <tr style=\"text-align: right;\">\n",
       "      <th></th>\n",
       "      <th>clf1</th>\n",
       "      <th>clf2</th>\n",
       "      <th>clf3</th>\n",
       "    </tr>\n",
       "  </thead>\n",
       "  <tbody>\n",
       "    <tr>\n",
       "      <th>0</th>\n",
       "      <td>4.159235</td>\n",
       "      <td>4.157218</td>\n",
       "      <td>4.159920</td>\n",
       "    </tr>\n",
       "    <tr>\n",
       "      <th>1</th>\n",
       "      <td>2.278311</td>\n",
       "      <td>2.279944</td>\n",
       "      <td>2.278387</td>\n",
       "    </tr>\n",
       "    <tr>\n",
       "      <th>2</th>\n",
       "      <td>2.865869</td>\n",
       "      <td>2.866855</td>\n",
       "      <td>2.865211</td>\n",
       "    </tr>\n",
       "    <tr>\n",
       "      <th>3</th>\n",
       "      <td>1.889883</td>\n",
       "      <td>1.888431</td>\n",
       "      <td>1.890159</td>\n",
       "    </tr>\n",
       "    <tr>\n",
       "      <th>4</th>\n",
       "      <td>1.228033</td>\n",
       "      <td>1.228986</td>\n",
       "      <td>1.227750</td>\n",
       "    </tr>\n",
       "  </tbody>\n",
       "</table>\n",
       "</div>"
      ],
      "text/plain": [
       "       clf1      clf2      clf3\n",
       "0  4.159235  4.157218  4.159920\n",
       "1  2.278311  2.279944  2.278387\n",
       "2  2.865869  2.866855  2.865211\n",
       "3  1.889883  1.888431  1.890159\n",
       "4  1.228033  1.228986  1.227750"
      ]
     },
     "execution_count": 120,
     "metadata": {},
     "output_type": "execute_result"
    }
   ],
   "source": [
    "test_scores.head()"
   ]
  },
  {
   "cell_type": "code",
   "execution_count": 121,
   "id": "82949bb0",
   "metadata": {},
   "outputs": [],
   "source": [
    "# Although we did standardization before, it was for the variables.\n",
    "# Now we do the standardization for the decision scores\n",
    "train_scores_norm, test_scores_norm = standardizer(train_scores,test_scores)"
   ]
  },
  {
   "cell_type": "code",
   "execution_count": 122,
   "id": "e2a6497a",
   "metadata": {},
   "outputs": [
    {
     "data": {
      "text/plain": [
       "(114145, 3)"
      ]
     },
     "execution_count": 122,
     "metadata": {},
     "output_type": "execute_result"
    }
   ],
   "source": [
    "train_scores_norm.shape"
   ]
  },
  {
   "cell_type": "markdown",
   "id": "a5bd1af3",
   "metadata": {},
   "source": [
    "### Average\n",
    "Merge the outlier scores from multiple estimators by taking the average."
   ]
  },
  {
   "cell_type": "code",
   "execution_count": 123,
   "id": "bbacafa7",
   "metadata": {},
   "outputs": [
    {
     "data": {
      "text/plain": [
       "array([-0.25241375,  0.03453308, -0.44272997, -0.76591175, -0.57144391,\n",
       "        4.58912424, -0.2243184 ,  0.68400777,  0.16480487])"
      ]
     },
     "execution_count": 123,
     "metadata": {},
     "output_type": "execute_result"
    }
   ],
   "source": [
    "# Combination by average\n",
    "y_by_average = average(test_scores_norm)\n",
    "y_by_average[1:10]"
   ]
  },
  {
   "cell_type": "code",
   "execution_count": 124,
   "id": "4f642045",
   "metadata": {},
   "outputs": [
    {
     "data": {
      "image/png": "[encoded data removed]",
      "text/plain": [
       "<Figure size 640x480 with 1 Axes>"
      ]
     },
     "metadata": {},
     "output_type": "display_data"
    }
   ],
   "source": [
    "# Combination by average\n",
    "y_by_average = average(test_scores_norm)\n",
    "             \n",
    "import matplotlib.pyplot as plt\n",
    "plt.hist(y_by_average, bins='auto')  # arguments are passed to np.histogram\n",
    "plt.title(\"Combination by average\")\n",
    "plt.show()"
   ]
  },
  {
   "cell_type": "code",
   "execution_count": 129,
   "id": "7f46179f",
   "metadata": {},
   "outputs": [
    {
     "data": {
      "text/plain": [
       "0    43801\n",
       "1     5119\n",
       "Name: y_by_average_cluster, dtype: int64"
      ]
     },
     "execution_count": 129,
     "metadata": {},
     "output_type": "execute_result"
    }
   ],
   "source": [
    "df_test = pd.DataFrame(X_test)\n",
    "df_test['y_by_average_score'] = y_by_average\n",
    "df_test['y_by_average_cluster'] = np.where(df_test['y_by_average_score']<1, 0, 1)\n",
    "df_test['y_by_average_cluster'].value_counts()"
   ]
  },
  {
   "cell_type": "code",
   "execution_count": 130,
   "id": "4871e017",
   "metadata": {},
   "outputs": [
    {
     "data": {
      "text/html": [
       "<div>\n",
       "<style scoped>\n",
       "    .dataframe tbody tr th:only-of-type {\n",
       "        vertical-align: middle;\n",
       "    }\n",
       "\n",
       "    .dataframe tbody tr th {\n",
       "        vertical-align: top;\n",
       "    }\n",
       "\n",
       "    .dataframe thead th {\n",
       "        text-align: right;\n",
       "    }\n",
       "</style>\n",
       "<table border=\"1\" class=\"dataframe\">\n",
       "  <thead>\n",
       "    <tr style=\"text-align: right;\">\n",
       "      <th></th>\n",
       "      <th>Avg_Total_Pymts_Ratio</th>\n",
       "      <th>Avg_Medicare_Pymt_Ratio</th>\n",
       "      <th>Avg_Total_Discharges_Ratio</th>\n",
       "      <th>Avg_Total_Pymt_byST</th>\n",
       "      <th>Medicare_Pymt_byST</th>\n",
       "      <th>Total_Discharges_byST</th>\n",
       "      <th>Avg_Total_Pymt_bySTDRG</th>\n",
       "      <th>Medicare_Pymt_bySTDRG</th>\n",
       "      <th>Total_Discharges_bySTDRG</th>\n",
       "      <th>Avg_Total_Pymt_bySTDRG_avg</th>\n",
       "      <th>Medicare_Pymt_bySTDRG_avg</th>\n",
       "      <th>Total_Discharges_bySTDRG_avg</th>\n",
       "      <th>y_by_average_score</th>\n",
       "    </tr>\n",
       "    <tr>\n",
       "      <th>y_by_average_cluster</th>\n",
       "      <th></th>\n",
       "      <th></th>\n",
       "      <th></th>\n",
       "      <th></th>\n",
       "      <th></th>\n",
       "      <th></th>\n",
       "      <th></th>\n",
       "      <th></th>\n",
       "      <th></th>\n",
       "      <th></th>\n",
       "      <th></th>\n",
       "      <th></th>\n",
       "      <th></th>\n",
       "    </tr>\n",
       "  </thead>\n",
       "  <tbody>\n",
       "    <tr>\n",
       "      <th>0</th>\n",
       "      <td>-0.158344</td>\n",
       "      <td>-0.156492</td>\n",
       "      <td>-0.083950</td>\n",
       "      <td>-0.159006</td>\n",
       "      <td>-0.159006</td>\n",
       "      <td>-0.084230</td>\n",
       "      <td>-0.113150</td>\n",
       "      <td>-0.113150</td>\n",
       "      <td>-0.084206</td>\n",
       "      <td>-0.114161</td>\n",
       "      <td>-0.114161</td>\n",
       "      <td>-0.084395</td>\n",
       "      <td>-0.267005</td>\n",
       "    </tr>\n",
       "    <tr>\n",
       "      <th>1</th>\n",
       "      <td>1.321368</td>\n",
       "      <td>1.305499</td>\n",
       "      <td>0.677594</td>\n",
       "      <td>1.317513</td>\n",
       "      <td>1.317513</td>\n",
       "      <td>0.672193</td>\n",
       "      <td>1.010113</td>\n",
       "      <td>1.010113</td>\n",
       "      <td>0.721634</td>\n",
       "      <td>1.007582</td>\n",
       "      <td>1.007582</td>\n",
       "      <td>0.717083</td>\n",
       "      <td>2.225060</td>\n",
       "    </tr>\n",
       "  </tbody>\n",
       "</table>\n",
       "</div>"
      ],
      "text/plain": [
       "                      Avg_Total_Pymts_Ratio  Avg_Medicare_Pymt_Ratio  \\\n",
       "y_by_average_cluster                                                   \n",
       "0                                 -0.158344                -0.156492   \n",
       "1                                  1.321368                 1.305499   \n",
       "\n",
       "                      Avg_Total_Discharges_Ratio  Avg_Total_Pymt_byST  \\\n",
       "y_by_average_cluster                                                    \n",
       "0                                      -0.083950            -0.159006   \n",
       "1                                       0.677594             1.317513   \n",
       "\n",
       "                      Medicare_Pymt_byST  Total_Discharges_byST  \\\n",
       "y_by_average_cluster                                              \n",
       "0                              -0.159006              -0.084230   \n",
       "1                               1.317513               0.672193   \n",
       "\n",
       "                      Avg_Total_Pymt_bySTDRG  Medicare_Pymt_bySTDRG  \\\n",
       "y_by_average_cluster                                                  \n",
       "0                                  -0.113150              -0.113150   \n",
       "1                                   1.010113               1.010113   \n",
       "\n",
       "                      Total_Discharges_bySTDRG  Avg_Total_Pymt_bySTDRG_avg  \\\n",
       "y_by_average_cluster                                                         \n",
       "0                                    -0.084206                   -0.114161   \n",
       "1                                     0.721634                    1.007582   \n",
       "\n",
       "                      Medicare_Pymt_bySTDRG_avg  Total_Discharges_bySTDRG_avg  \\\n",
       "y_by_average_cluster                                                            \n",
       "0                                     -0.114161                     -0.084395   \n",
       "1                                      1.007582                      0.717083   \n",
       "\n",
       "                      y_by_average_score  \n",
       "y_by_average_cluster                      \n",
       "0                              -0.267005  \n",
       "1                               2.225060  "
      ]
     },
     "execution_count": 130,
     "metadata": {},
     "output_type": "execute_result"
    }
   ],
   "source": [
    "df_test.groupby('y_by_average_cluster').mean()"
   ]
  },
  {
   "cell_type": "markdown",
   "id": "1c97b514",
   "metadata": {},
   "source": [
    "### Aggregating multiple models by Average Analysis:\n",
    "1. In order to avoid overfitting, we can aggregate multiple models by average, from the modeling, we set up the threshold to be 1;\n",
    "2. After calculate the mean value of each feature in both clusters, we can see that the mean scores of cluster 0 in each feature/variable is negative and close to 0, while all mean scores of cluster 1 in all features is ranging from 0 to 2; Outlier\" group suggest that these data points exhibit more pronounced deviations from the norm and are more likely to be outliers."
   ]
  },
  {
   "cell_type": "markdown",
   "id": "a8f897ce",
   "metadata": {},
   "source": [
    "### Autoencoder Analysis Summary:\n",
    "1. Identify anomalous cluster: in previous 3 models, we set up the threshold=5, then seperate the normal and outliers group, for each group we calculate the score in mean, in each outliers group, the mean score is 3-4 times higher than the normal group, \"Outlier\" group suggest that these data points exhibit more pronounced deviations from the norm and are more likely to be outliers.\n",
    "2. By aggregating models: our model would be more stable, ensemble methods can be more stable and less sensitive to small changes in the training data. This stability can prevent overfitting to specific training instances and improve the reliability of the model on new data."
   ]
  },
  {
   "cell_type": "markdown",
   "id": "9502a908",
   "metadata": {},
   "source": [
    "## Section 2.3: iForest"
   ]
  },
  {
   "cell_type": "markdown",
   "id": "9c177cde",
   "metadata": {},
   "source": [
    "### What's iForest?\n",
    "iForest stands for Isolation Forest, Isolation Forest is an ensemble method (similar to random forest), The algorithm has a linear time complexity and a low memory requirement, which works well with high-volume data. Not like random forest, Rather than profiling normal data points in order to find outliers, IForest identifies anomalies directly.\n",
    "\n",
    "### Why iForest?\n",
    "Since  iForest is only focus on the isoloate trees, therefore is widely used in anomaly detection. If a tree structure to isolate every observation, then we can conclude that anomalies would be the data points first to be singled out."
   ]
  },
  {
   "cell_type": "markdown",
   "id": "d15d2011",
   "metadata": {},
   "source": [
    "### Section 2.3.1: Train-test split"
   ]
  },
  {
   "cell_type": "code",
   "execution_count": 136,
   "id": "c6d93bd3",
   "metadata": {},
   "outputs": [],
   "source": [
    "X = scaled_df\n",
    "#y = data[['DRG','Provider_Name','Provider_City','Provider_State']]\n",
    "\n",
    "# 1. Split data into X_train and X_test\n",
    "from pyod.models.iforest import IForest\n",
    "from sklearn.model_selection import train_test_split\n",
    "\n",
    "X_train, X_test = train_test_split(X, test_size=0.3, random_state=42)\n",
    "#X_train_pd = pd.DataFrame(X_train)"
   ]
  },
  {
   "cell_type": "code",
   "execution_count": 137,
   "id": "70bc8630",
   "metadata": {},
   "outputs": [
    {
     "name": "stdout",
     "output_type": "stream",
     "text": [
      "(114145, 12) (48920, 12)\n"
     ]
    }
   ],
   "source": [
    "print(X_train.shape, X_test.shape)"
   ]
  },
  {
   "cell_type": "markdown",
   "id": "a441453e",
   "metadata": {},
   "source": [
    "## IForest\n",
    "* You do not need the target variable to train the unsupervised learning model.\n",
    "* We will create three models: clf1, clf2,and clf3\n",
    "* Model 1: max_samples = 100\n",
    "* Model 2: max_samples = 80\n",
    "* Model 3: max_samples = 60\n",
    "* Suppose your data has 10,000 samples, you can set the max_samples to be anywhere between 100 and 10,000.\n",
    "\n",
    "#### Model 1"
   ]
  },
  {
   "cell_type": "code",
   "execution_count": 138,
   "id": "fecfb594",
   "metadata": {},
   "outputs": [
    {
     "data": {
      "text/plain": [
       "IForest(behaviour='new', bootstrap=False, contamination=0.1, max_features=1.0,\n",
       "    max_samples=100, n_estimators=100, n_jobs=1, random_state=None,\n",
       "    verbose=0)"
      ]
     },
     "execution_count": 138,
     "metadata": {},
     "output_type": "execute_result"
    }
   ],
   "source": [
    "clf1 = IForest(behaviour=\"new\", max_samples=100) \n",
    "clf1.fit(X_train)"
   ]
  },
  {
   "cell_type": "code",
   "execution_count": 139,
   "id": "41ed6824",
   "metadata": {},
   "outputs": [
    {
     "name": "stderr",
     "output_type": "stream",
     "text": [
      "/Users/ruxizhou/opt/anaconda3/lib/python3.9/site-packages/sklearn/base.py:443: UserWarning: X has feature names, but IsolationForest was fitted without feature names\n",
      "  warnings.warn(\n"
     ]
    },
    {
     "data": {
      "text/plain": [
       "0   -0.043469\n",
       "1   -0.111199\n",
       "2   -0.077742\n",
       "3   -0.143230\n",
       "4   -0.175555\n",
       "dtype: float64"
      ]
     },
     "execution_count": 139,
     "metadata": {},
     "output_type": "execute_result"
    }
   ],
   "source": [
    "# clf.decision_function: Predict raw anomaly score of X using the fitted detector.\n",
    "# We apply the model to the test data X_test to get the outlier scores.\n",
    "y_test_scores = clf1.decision_function(X_test)  # outlier scores\n",
    "y_test_scores = pd.Series(y_test_scores)\n",
    "y_test_scores.head()"
   ]
  },
  {
   "cell_type": "code",
   "execution_count": 140,
   "id": "1c869182",
   "metadata": {},
   "outputs": [
    {
     "data": {
      "image/png": "[encoded data removed]",
      "text/plain": [
       "<Figure size 640x480 with 1 Axes>"
      ]
     },
     "metadata": {},
     "output_type": "display_data"
    }
   ],
   "source": [
    "import matplotlib.pyplot as plt\n",
    "plt.hist(y_test_scores, bins='auto')  # arguments are passed to np.histogram\n",
    "plt.title(\"Histogram with 'auto' bins\")\n",
    "plt.show()"
   ]
  },
  {
   "cell_type": "markdown",
   "id": "d134a0d3",
   "metadata": {},
   "source": [
    "* We will identify the outliers as a cluster and demonstrate the X attributes\n",
    "* A high anomaly score means more abnormal. We can suggest those >=0 to be outliers"
   ]
  },
  {
   "cell_type": "code",
   "execution_count": 143,
   "id": "af5b65b2",
   "metadata": {},
   "outputs": [
    {
     "data": {
      "text/plain": [
       "0    43991\n",
       "1     4929\n",
       "Name: cluster, dtype: int64"
      ]
     },
     "execution_count": 143,
     "metadata": {},
     "output_type": "execute_result"
    }
   ],
   "source": [
    "X_test_cluster = X_test.copy()\n",
    "X_test_cluster['distance'] = y_test_scores.values\n",
    "X_test_cluster['cluster'] = np.where(X_test_cluster['distance']<0.0, 0, 1)\n",
    "X_test_cluster['cluster'].value_counts()"
   ]
  },
  {
   "cell_type": "code",
   "execution_count": 144,
   "id": "10ec8c98",
   "metadata": {},
   "outputs": [
    {
     "data": {
      "text/html": [
       "<div>\n",
       "<style scoped>\n",
       "    .dataframe tbody tr th:only-of-type {\n",
       "        vertical-align: middle;\n",
       "    }\n",
       "\n",
       "    .dataframe tbody tr th {\n",
       "        vertical-align: top;\n",
       "    }\n",
       "\n",
       "    .dataframe thead th {\n",
       "        text-align: right;\n",
       "    }\n",
       "</style>\n",
       "<table border=\"1\" class=\"dataframe\">\n",
       "  <thead>\n",
       "    <tr style=\"text-align: right;\">\n",
       "      <th></th>\n",
       "      <th>Avg_Total_Pymts_Ratio</th>\n",
       "      <th>Avg_Medicare_Pymt_Ratio</th>\n",
       "      <th>Avg_Total_Discharges_Ratio</th>\n",
       "      <th>Avg_Total_Pymt_byST</th>\n",
       "      <th>Medicare_Pymt_byST</th>\n",
       "      <th>Total_Discharges_byST</th>\n",
       "      <th>Avg_Total_Pymt_bySTDRG</th>\n",
       "      <th>Medicare_Pymt_bySTDRG</th>\n",
       "      <th>Total_Discharges_bySTDRG</th>\n",
       "      <th>Avg_Total_Pymt_bySTDRG_avg</th>\n",
       "      <th>Medicare_Pymt_bySTDRG_avg</th>\n",
       "      <th>Total_Discharges_bySTDRG_avg</th>\n",
       "      <th>distance</th>\n",
       "    </tr>\n",
       "    <tr>\n",
       "      <th>cluster</th>\n",
       "      <th></th>\n",
       "      <th></th>\n",
       "      <th></th>\n",
       "      <th></th>\n",
       "      <th></th>\n",
       "      <th></th>\n",
       "      <th></th>\n",
       "      <th></th>\n",
       "      <th></th>\n",
       "      <th></th>\n",
       "      <th></th>\n",
       "      <th></th>\n",
       "      <th></th>\n",
       "    </tr>\n",
       "  </thead>\n",
       "  <tbody>\n",
       "    <tr>\n",
       "      <th>0</th>\n",
       "      <td>-0.144649</td>\n",
       "      <td>-0.142903</td>\n",
       "      <td>-0.100602</td>\n",
       "      <td>-0.144695</td>\n",
       "      <td>-0.144695</td>\n",
       "      <td>-0.100963</td>\n",
       "      <td>-0.121679</td>\n",
       "      <td>-0.121679</td>\n",
       "      <td>-0.073872</td>\n",
       "      <td>-0.122867</td>\n",
       "      <td>-0.122867</td>\n",
       "      <td>-0.074296</td>\n",
       "      <td>-0.116158</td>\n",
       "    </tr>\n",
       "    <tr>\n",
       "      <th>1</th>\n",
       "      <td>1.256181</td>\n",
       "      <td>1.240571</td>\n",
       "      <td>0.855567</td>\n",
       "      <td>1.246705</td>\n",
       "      <td>1.246705</td>\n",
       "      <td>0.850693</td>\n",
       "      <td>1.129529</td>\n",
       "      <td>1.129529</td>\n",
       "      <td>0.660469</td>\n",
       "      <td>1.128522</td>\n",
       "      <td>1.128522</td>\n",
       "      <td>0.657849</td>\n",
       "      <td>0.043528</td>\n",
       "    </tr>\n",
       "  </tbody>\n",
       "</table>\n",
       "</div>"
      ],
      "text/plain": [
       "         Avg_Total_Pymts_Ratio  Avg_Medicare_Pymt_Ratio  \\\n",
       "cluster                                                   \n",
       "0                    -0.144649                -0.142903   \n",
       "1                     1.256181                 1.240571   \n",
       "\n",
       "         Avg_Total_Discharges_Ratio  Avg_Total_Pymt_byST  Medicare_Pymt_byST  \\\n",
       "cluster                                                                        \n",
       "0                         -0.100602            -0.144695           -0.144695   \n",
       "1                          0.855567             1.246705            1.246705   \n",
       "\n",
       "         Total_Discharges_byST  Avg_Total_Pymt_bySTDRG  Medicare_Pymt_bySTDRG  \\\n",
       "cluster                                                                         \n",
       "0                    -0.100963               -0.121679              -0.121679   \n",
       "1                     0.850693                1.129529               1.129529   \n",
       "\n",
       "         Total_Discharges_bySTDRG  Avg_Total_Pymt_bySTDRG_avg  \\\n",
       "cluster                                                         \n",
       "0                       -0.073872                   -0.122867   \n",
       "1                        0.660469                    1.128522   \n",
       "\n",
       "         Medicare_Pymt_bySTDRG_avg  Total_Discharges_bySTDRG_avg  distance  \n",
       "cluster                                                                     \n",
       "0                        -0.122867                     -0.074296 -0.116158  \n",
       "1                         1.128522                      0.657849  0.043528  "
      ]
     },
     "execution_count": 144,
     "metadata": {},
     "output_type": "execute_result"
    }
   ],
   "source": [
    "X_test_cluster.groupby('cluster').mean()"
   ]
  },
  {
   "cell_type": "markdown",
   "id": "78d1c52e",
   "metadata": {},
   "source": [
    "### Model 1 Analysis:\n",
    "\n",
    "1. In model 1, we set the max_samples=100, which means that each tree in the forest will be built using a random subset of 100 datapoints drawn from whole dataset;\n",
    "2. There is no clear distinguished threshold from the anomaly scores distribution graph, I set the threshhold values to be 0, a higher anomaly score means more abnormal;\n",
    "3. After calculate the mean value of each feature in both clusters, we can see that the mean scores of cluster 0 in each feature/variable is negative, but the anomaly score of cluster 1 in each feature is greater than 0; We recommend observations in Cluster 1 to be outliers. The average \"distance\" indicates the distances of those points in Cluster 1. The distance of Cluster 1 is higher than that of Cluster 0, meaning points in Cluster 1 are far away from other points."
   ]
  },
  {
   "cell_type": "markdown",
   "id": "3e1d0390",
   "metadata": {},
   "source": [
    "#### Model 2"
   ]
  },
  {
   "cell_type": "code",
   "execution_count": 145,
   "id": "13b951ed",
   "metadata": {},
   "outputs": [
    {
     "data": {
      "text/plain": [
       "IForest(behaviour='new', bootstrap=False, contamination=0.1, max_features=1.0,\n",
       "    max_samples=80, n_estimators=100, n_jobs=1, random_state=None,\n",
       "    verbose=0)"
      ]
     },
     "execution_count": 145,
     "metadata": {},
     "output_type": "execute_result"
    }
   ],
   "source": [
    "clf2 = IForest(behaviour=\"new\", max_samples=80) \n",
    "clf2.fit(X_train)"
   ]
  },
  {
   "cell_type": "code",
   "execution_count": 146,
   "id": "328319fa",
   "metadata": {},
   "outputs": [
    {
     "name": "stderr",
     "output_type": "stream",
     "text": [
      "/Users/ruxizhou/opt/anaconda3/lib/python3.9/site-packages/sklearn/base.py:443: UserWarning: X has feature names, but IsolationForest was fitted without feature names\n",
      "  warnings.warn(\n"
     ]
    },
    {
     "data": {
      "text/plain": [
       "0   -0.039253\n",
       "1   -0.109769\n",
       "2   -0.114348\n",
       "3   -0.148274\n",
       "4   -0.189658\n",
       "dtype: float64"
      ]
     },
     "execution_count": 146,
     "metadata": {},
     "output_type": "execute_result"
    }
   ],
   "source": [
    "# clf.decision_function: Predict raw anomaly score of X using the fitted detector.\n",
    "y_test_scores = clf2.decision_function(X_test)  # outlier scores\n",
    "y_test_scores = pd.Series(y_test_scores)\n",
    "y_test_scores.head()"
   ]
  },
  {
   "cell_type": "code",
   "execution_count": 147,
   "id": "34ad60ac",
   "metadata": {},
   "outputs": [
    {
     "data": {
      "image/png": "[encoded data removed]",
      "text/plain": [
       "<Figure size 640x480 with 1 Axes>"
      ]
     },
     "metadata": {},
     "output_type": "display_data"
    }
   ],
   "source": [
    "import matplotlib.pyplot as plt\n",
    "plt.hist(y_test_scores, bins='auto')  # arguments are passed to np.histogram\n",
    "plt.title(\"Histogram with 'auto' bins\")\n",
    "plt.show()"
   ]
  },
  {
   "cell_type": "code",
   "execution_count": 150,
   "id": "e3b8362a",
   "metadata": {},
   "outputs": [
    {
     "data": {
      "text/plain": [
       "0    44015\n",
       "1     4905\n",
       "Name: cluster, dtype: int64"
      ]
     },
     "execution_count": 150,
     "metadata": {},
     "output_type": "execute_result"
    }
   ],
   "source": [
    "X_test_cluster = X_test.copy()\n",
    "X_test_cluster['distance'] = y_test_scores.values\n",
    "X_test_cluster['cluster'] = np.where(X_test_cluster['distance']<0, 0, 1)\n",
    "X_test_cluster['cluster'].value_counts()"
   ]
  },
  {
   "cell_type": "code",
   "execution_count": 151,
   "id": "ac5dc075",
   "metadata": {},
   "outputs": [
    {
     "data": {
      "text/html": [
       "<div>\n",
       "<style scoped>\n",
       "    .dataframe tbody tr th:only-of-type {\n",
       "        vertical-align: middle;\n",
       "    }\n",
       "\n",
       "    .dataframe tbody tr th {\n",
       "        vertical-align: top;\n",
       "    }\n",
       "\n",
       "    .dataframe thead th {\n",
       "        text-align: right;\n",
       "    }\n",
       "</style>\n",
       "<table border=\"1\" class=\"dataframe\">\n",
       "  <thead>\n",
       "    <tr style=\"text-align: right;\">\n",
       "      <th></th>\n",
       "      <th>Avg_Total_Pymts_Ratio</th>\n",
       "      <th>Avg_Medicare_Pymt_Ratio</th>\n",
       "      <th>Avg_Total_Discharges_Ratio</th>\n",
       "      <th>Avg_Total_Pymt_byST</th>\n",
       "      <th>Medicare_Pymt_byST</th>\n",
       "      <th>Total_Discharges_byST</th>\n",
       "      <th>Avg_Total_Pymt_bySTDRG</th>\n",
       "      <th>Medicare_Pymt_bySTDRG</th>\n",
       "      <th>Total_Discharges_bySTDRG</th>\n",
       "      <th>Avg_Total_Pymt_bySTDRG_avg</th>\n",
       "      <th>Medicare_Pymt_bySTDRG_avg</th>\n",
       "      <th>Total_Discharges_bySTDRG_avg</th>\n",
       "      <th>distance</th>\n",
       "    </tr>\n",
       "    <tr>\n",
       "      <th>cluster</th>\n",
       "      <th></th>\n",
       "      <th></th>\n",
       "      <th></th>\n",
       "      <th></th>\n",
       "      <th></th>\n",
       "      <th></th>\n",
       "      <th></th>\n",
       "      <th></th>\n",
       "      <th></th>\n",
       "      <th></th>\n",
       "      <th></th>\n",
       "      <th></th>\n",
       "      <th></th>\n",
       "    </tr>\n",
       "  </thead>\n",
       "  <tbody>\n",
       "    <tr>\n",
       "      <th>0</th>\n",
       "      <td>-0.182571</td>\n",
       "      <td>-0.180541</td>\n",
       "      <td>-0.071881</td>\n",
       "      <td>-0.183414</td>\n",
       "      <td>-0.183414</td>\n",
       "      <td>-0.072871</td>\n",
       "      <td>-0.097907</td>\n",
       "      <td>-0.097907</td>\n",
       "      <td>-0.060490</td>\n",
       "      <td>-0.099038</td>\n",
       "      <td>-0.099038</td>\n",
       "      <td>-0.061174</td>\n",
       "      <td>-0.123597</td>\n",
       "    </tr>\n",
       "    <tr>\n",
       "      <th>1</th>\n",
       "      <td>1.603322</td>\n",
       "      <td>1.585087</td>\n",
       "      <td>0.602519</td>\n",
       "      <td>1.600956</td>\n",
       "      <td>1.600956</td>\n",
       "      <td>0.603260</td>\n",
       "      <td>0.922336</td>\n",
       "      <td>0.922336</td>\n",
       "      <td>0.543975</td>\n",
       "      <td>0.920816</td>\n",
       "      <td>0.920816</td>\n",
       "      <td>0.543677</td>\n",
       "      <td>0.047566</td>\n",
       "    </tr>\n",
       "  </tbody>\n",
       "</table>\n",
       "</div>"
      ],
      "text/plain": [
       "         Avg_Total_Pymts_Ratio  Avg_Medicare_Pymt_Ratio  \\\n",
       "cluster                                                   \n",
       "0                    -0.182571                -0.180541   \n",
       "1                     1.603322                 1.585087   \n",
       "\n",
       "         Avg_Total_Discharges_Ratio  Avg_Total_Pymt_byST  Medicare_Pymt_byST  \\\n",
       "cluster                                                                        \n",
       "0                         -0.071881            -0.183414           -0.183414   \n",
       "1                          0.602519             1.600956            1.600956   \n",
       "\n",
       "         Total_Discharges_byST  Avg_Total_Pymt_bySTDRG  Medicare_Pymt_bySTDRG  \\\n",
       "cluster                                                                         \n",
       "0                    -0.072871               -0.097907              -0.097907   \n",
       "1                     0.603260                0.922336               0.922336   \n",
       "\n",
       "         Total_Discharges_bySTDRG  Avg_Total_Pymt_bySTDRG_avg  \\\n",
       "cluster                                                         \n",
       "0                       -0.060490                   -0.099038   \n",
       "1                        0.543975                    0.920816   \n",
       "\n",
       "         Medicare_Pymt_bySTDRG_avg  Total_Discharges_bySTDRG_avg  distance  \n",
       "cluster                                                                     \n",
       "0                        -0.099038                     -0.061174 -0.123597  \n",
       "1                         0.920816                      0.543677  0.047566  "
      ]
     },
     "execution_count": 151,
     "metadata": {},
     "output_type": "execute_result"
    }
   ],
   "source": [
    "X_test_cluster.groupby('cluster').mean()"
   ]
  },
  {
   "cell_type": "markdown",
   "id": "288c7467",
   "metadata": {},
   "source": [
    "### Model 2 Analysis:\n",
    "\n",
    "1. In model 2, we set the max_samples=80, which means that each tree in the forest will be built using a random subset of 80 datapoints drawn from whole dataset;\n",
    "2. There is no clear distinguished threshold from the anomaly scores distribution graph, I set the threshhold values to be 0, a higher anomaly score means more abnormal;\n",
    "3. After calculate the mean value of each feature in both clusters, we can see that the mean scores of cluster 0 in each feature/variable is negative, but the anomaly score of cluster 1 in each feature is greater than 0; We recommend observations in Cluster 1 to be outliers. The average \"distance\" indicates the distances of those points in Cluster 1. The distance of Cluster 1 is higher than that of Cluster 0, meaning points in Cluster 1 are far away from other points."
   ]
  },
  {
   "cell_type": "markdown",
   "id": "5a9d1ce4",
   "metadata": {},
   "source": [
    "#### Model 3"
   ]
  },
  {
   "cell_type": "code",
   "execution_count": 152,
   "id": "a1ca62d3",
   "metadata": {},
   "outputs": [
    {
     "data": {
      "text/plain": [
       "IForest(behaviour='new', bootstrap=False, contamination=0.1, max_features=1.0,\n",
       "    max_samples=60, n_estimators=100, n_jobs=1, random_state=None,\n",
       "    verbose=0)"
      ]
     },
     "execution_count": 152,
     "metadata": {},
     "output_type": "execute_result"
    }
   ],
   "source": [
    "clf3 = IForest(behaviour=\"new\", max_samples=60) \n",
    "clf3.fit(X_train)"
   ]
  },
  {
   "cell_type": "code",
   "execution_count": 153,
   "id": "8453b07a",
   "metadata": {},
   "outputs": [
    {
     "name": "stderr",
     "output_type": "stream",
     "text": [
      "/Users/ruxizhou/opt/anaconda3/lib/python3.9/site-packages/sklearn/base.py:443: UserWarning: X has feature names, but IsolationForest was fitted without feature names\n",
      "  warnings.warn(\n"
     ]
    },
    {
     "data": {
      "text/plain": [
       "0   -0.048330\n",
       "1   -0.102355\n",
       "2   -0.090906\n",
       "3   -0.148981\n",
       "4   -0.185141\n",
       "dtype: float64"
      ]
     },
     "execution_count": 153,
     "metadata": {},
     "output_type": "execute_result"
    }
   ],
   "source": [
    "# clf.decision_function: Predict raw anomaly score of X using the fitted detector.\n",
    "y_test_scores = clf3.decision_function(X_test)  # outlier scores\n",
    "y_test_scores = pd.Series(y_test_scores)\n",
    "y_test_scores.head()"
   ]
  },
  {
   "cell_type": "code",
   "execution_count": 154,
   "id": "0ad506b3",
   "metadata": {},
   "outputs": [
    {
     "data": {
      "image/png": "[encoded data removed]",
      "text/plain": [
       "<Figure size 640x480 with 1 Axes>"
      ]
     },
     "metadata": {},
     "output_type": "display_data"
    }
   ],
   "source": [
    "import matplotlib.pyplot as plt\n",
    "plt.hist(y_test_scores, bins='auto')  # arguments are passed to np.histogram\n",
    "plt.title(\"Histogram with 'auto' bins\")\n",
    "plt.show()"
   ]
  },
  {
   "cell_type": "code",
   "execution_count": 157,
   "id": "6e86f63c",
   "metadata": {},
   "outputs": [
    {
     "data": {
      "text/plain": [
       "0    44007\n",
       "1     4913\n",
       "Name: cluster, dtype: int64"
      ]
     },
     "execution_count": 157,
     "metadata": {},
     "output_type": "execute_result"
    }
   ],
   "source": [
    "X_test_cluster = X_test.copy()\n",
    "X_test_cluster['distance'] = y_test_scores.values\n",
    "X_test_cluster['cluster'] = np.where(X_test_cluster['distance']<0, 0, 1)\n",
    "X_test_cluster['cluster'].value_counts()"
   ]
  },
  {
   "cell_type": "code",
   "execution_count": 158,
   "id": "df6258d4",
   "metadata": {},
   "outputs": [
    {
     "data": {
      "text/html": [
       "<div>\n",
       "<style scoped>\n",
       "    .dataframe tbody tr th:only-of-type {\n",
       "        vertical-align: middle;\n",
       "    }\n",
       "\n",
       "    .dataframe tbody tr th {\n",
       "        vertical-align: top;\n",
       "    }\n",
       "\n",
       "    .dataframe thead th {\n",
       "        text-align: right;\n",
       "    }\n",
       "</style>\n",
       "<table border=\"1\" class=\"dataframe\">\n",
       "  <thead>\n",
       "    <tr style=\"text-align: right;\">\n",
       "      <th></th>\n",
       "      <th>Avg_Total_Pymts_Ratio</th>\n",
       "      <th>Avg_Medicare_Pymt_Ratio</th>\n",
       "      <th>Avg_Total_Discharges_Ratio</th>\n",
       "      <th>Avg_Total_Pymt_byST</th>\n",
       "      <th>Medicare_Pymt_byST</th>\n",
       "      <th>Total_Discharges_byST</th>\n",
       "      <th>Avg_Total_Pymt_bySTDRG</th>\n",
       "      <th>Medicare_Pymt_bySTDRG</th>\n",
       "      <th>Total_Discharges_bySTDRG</th>\n",
       "      <th>Avg_Total_Pymt_bySTDRG_avg</th>\n",
       "      <th>Medicare_Pymt_bySTDRG_avg</th>\n",
       "      <th>Total_Discharges_bySTDRG_avg</th>\n",
       "      <th>distance</th>\n",
       "    </tr>\n",
       "    <tr>\n",
       "      <th>cluster</th>\n",
       "      <th></th>\n",
       "      <th></th>\n",
       "      <th></th>\n",
       "      <th></th>\n",
       "      <th></th>\n",
       "      <th></th>\n",
       "      <th></th>\n",
       "      <th></th>\n",
       "      <th></th>\n",
       "      <th></th>\n",
       "      <th></th>\n",
       "      <th></th>\n",
       "      <th></th>\n",
       "    </tr>\n",
       "  </thead>\n",
       "  <tbody>\n",
       "    <tr>\n",
       "      <th>0</th>\n",
       "      <td>-0.187727</td>\n",
       "      <td>-0.185402</td>\n",
       "      <td>-0.066989</td>\n",
       "      <td>-0.188230</td>\n",
       "      <td>-0.188230</td>\n",
       "      <td>-0.067814</td>\n",
       "      <td>-0.099654</td>\n",
       "      <td>-0.099654</td>\n",
       "      <td>-0.039301</td>\n",
       "      <td>-0.100898</td>\n",
       "      <td>-0.100898</td>\n",
       "      <td>-0.039402</td>\n",
       "      <td>-0.117980</td>\n",
       "    </tr>\n",
       "    <tr>\n",
       "      <th>1</th>\n",
       "      <td>1.646597</td>\n",
       "      <td>1.625750</td>\n",
       "      <td>0.557602</td>\n",
       "      <td>1.641191</td>\n",
       "      <td>1.641191</td>\n",
       "      <td>0.556867</td>\n",
       "      <td>0.936327</td>\n",
       "      <td>0.936327</td>\n",
       "      <td>0.353201</td>\n",
       "      <td>0.935818</td>\n",
       "      <td>0.935818</td>\n",
       "      <td>0.347680</td>\n",
       "      <td>0.044766</td>\n",
       "    </tr>\n",
       "  </tbody>\n",
       "</table>\n",
       "</div>"
      ],
      "text/plain": [
       "         Avg_Total_Pymts_Ratio  Avg_Medicare_Pymt_Ratio  \\\n",
       "cluster                                                   \n",
       "0                    -0.187727                -0.185402   \n",
       "1                     1.646597                 1.625750   \n",
       "\n",
       "         Avg_Total_Discharges_Ratio  Avg_Total_Pymt_byST  Medicare_Pymt_byST  \\\n",
       "cluster                                                                        \n",
       "0                         -0.066989            -0.188230           -0.188230   \n",
       "1                          0.557602             1.641191            1.641191   \n",
       "\n",
       "         Total_Discharges_byST  Avg_Total_Pymt_bySTDRG  Medicare_Pymt_bySTDRG  \\\n",
       "cluster                                                                         \n",
       "0                    -0.067814               -0.099654              -0.099654   \n",
       "1                     0.556867                0.936327               0.936327   \n",
       "\n",
       "         Total_Discharges_bySTDRG  Avg_Total_Pymt_bySTDRG_avg  \\\n",
       "cluster                                                         \n",
       "0                       -0.039301                   -0.100898   \n",
       "1                        0.353201                    0.935818   \n",
       "\n",
       "         Medicare_Pymt_bySTDRG_avg  Total_Discharges_bySTDRG_avg  distance  \n",
       "cluster                                                                     \n",
       "0                        -0.100898                     -0.039402 -0.117980  \n",
       "1                         0.935818                      0.347680  0.044766  "
      ]
     },
     "execution_count": 158,
     "metadata": {},
     "output_type": "execute_result"
    }
   ],
   "source": [
    "X_test_cluster.groupby('cluster').mean()"
   ]
  },
  {
   "cell_type": "markdown",
   "id": "c5892902",
   "metadata": {},
   "source": [
    "### Model 3 Analysis:\n",
    "\n",
    "1. In model 3, we set the max_samples=60, which means that each tree in the forest will be built using a random subset of 60 datapoints drawn from whole dataset;\n",
    "2. There is no clear distinguished threshold from the anomaly scores distribution graph, I set the threshhold values to be 0, a higher anomaly score means more abnormal;\n",
    "3. After calculate the mean value of each feature in both clusters, we can see that the mean scores of cluster 0 in each feature/variable is negative, but the anomaly score of cluster 1 in each feature is greater than 0; We recommend observations in Cluster 1 to be outliers. The average \"distance\" indicates the distances of those points in Cluster 1. The distance of Cluster 1 is higher than that of Cluster 0, meaning points in Cluster 1 are far away from other points."
   ]
  },
  {
   "cell_type": "markdown",
   "id": "7385ce37",
   "metadata": {},
   "source": [
    "## Achieve Model Stability by Aggregating Multiple Models\n",
    "* Unsupervised techniques can detect many outliers. But due to its unspervised nature it is not stable, meaning overfitting to a specific dataset.\n",
    "* The solution is to train multiple models then aggregate the scores. \n",
    "* There are four methods to aggregate the outcome:\n",
    "* (1) Average: average scores of all detectors.\n",
    "* (2) Maximum of Maximum (MOM)\n",
    "* (3) Average of Maximum (AOM)\n",
    "* (4) Maximum of Average (MOA)\n",
    "\n",
    "### For here, we choose Average method"
   ]
  },
  {
   "cell_type": "code",
   "execution_count": 159,
   "id": "29d22cf4",
   "metadata": {},
   "outputs": [],
   "source": [
    "from pyod.models.combination import aom, moa, average, maximization\n",
    "from pyod.utils.utility import standardizer\n",
    "from pyod.utils.data import generate_data\n",
    "from pyod.utils.data import evaluate_print"
   ]
  },
  {
   "cell_type": "code",
   "execution_count": 160,
   "id": "16a26731",
   "metadata": {},
   "outputs": [
    {
     "name": "stderr",
     "output_type": "stream",
     "text": [
      "/Users/ruxizhou/opt/anaconda3/lib/python3.9/site-packages/sklearn/base.py:443: UserWarning: X has feature names, but IsolationForest was fitted without feature names\n",
      "  warnings.warn(\n",
      "/Users/ruxizhou/opt/anaconda3/lib/python3.9/site-packages/sklearn/base.py:443: UserWarning: X has feature names, but IsolationForest was fitted without feature names\n",
      "  warnings.warn(\n",
      "/Users/ruxizhou/opt/anaconda3/lib/python3.9/site-packages/sklearn/base.py:443: UserWarning: X has feature names, but IsolationForest was fitted without feature names\n",
      "  warnings.warn(\n"
     ]
    }
   ],
   "source": [
    "# The predictions of the training data can be obtained by clf.decision_scores_.\n",
    "# It is already generated during the model building process.\n",
    "train_scores = pd.DataFrame({'clf1': clf1.decision_scores_,\n",
    "                             'clf2': clf2.decision_scores_,\n",
    "                             'clf3': clf3.decision_scores_\n",
    "                            })\n",
    "\n",
    "# The predictions of the test data need to be predicted using clf.decision_function(X_test)\n",
    "test_scores  = pd.DataFrame({'clf1': clf1.decision_function(X_test),\n",
    "                             'clf2': clf2.decision_function(X_test),\n",
    "                             'clf3': clf3.decision_function(X_test) \n",
    "                            })"
   ]
  },
  {
   "cell_type": "code",
   "execution_count": 161,
   "id": "0b2d918b",
   "metadata": {},
   "outputs": [
    {
     "data": {
      "text/html": [
       "<div>\n",
       "<style scoped>\n",
       "    .dataframe tbody tr th:only-of-type {\n",
       "        vertical-align: middle;\n",
       "    }\n",
       "\n",
       "    .dataframe tbody tr th {\n",
       "        vertical-align: top;\n",
       "    }\n",
       "\n",
       "    .dataframe thead th {\n",
       "        text-align: right;\n",
       "    }\n",
       "</style>\n",
       "<table border=\"1\" class=\"dataframe\">\n",
       "  <thead>\n",
       "    <tr style=\"text-align: right;\">\n",
       "      <th></th>\n",
       "      <th>clf1</th>\n",
       "      <th>clf2</th>\n",
       "      <th>clf3</th>\n",
       "    </tr>\n",
       "  </thead>\n",
       "  <tbody>\n",
       "    <tr>\n",
       "      <th>0</th>\n",
       "      <td>-0.059996</td>\n",
       "      <td>-0.072839</td>\n",
       "      <td>-0.048848</td>\n",
       "    </tr>\n",
       "    <tr>\n",
       "      <th>1</th>\n",
       "      <td>-0.024068</td>\n",
       "      <td>-0.018288</td>\n",
       "      <td>-0.002627</td>\n",
       "    </tr>\n",
       "    <tr>\n",
       "      <th>2</th>\n",
       "      <td>0.006880</td>\n",
       "      <td>-0.014830</td>\n",
       "      <td>0.001136</td>\n",
       "    </tr>\n",
       "    <tr>\n",
       "      <th>3</th>\n",
       "      <td>-0.099521</td>\n",
       "      <td>-0.071309</td>\n",
       "      <td>-0.070978</td>\n",
       "    </tr>\n",
       "    <tr>\n",
       "      <th>4</th>\n",
       "      <td>-0.168108</td>\n",
       "      <td>-0.171368</td>\n",
       "      <td>-0.165106</td>\n",
       "    </tr>\n",
       "  </tbody>\n",
       "</table>\n",
       "</div>"
      ],
      "text/plain": [
       "       clf1      clf2      clf3\n",
       "0 -0.059996 -0.072839 -0.048848\n",
       "1 -0.024068 -0.018288 -0.002627\n",
       "2  0.006880 -0.014830  0.001136\n",
       "3 -0.099521 -0.071309 -0.070978\n",
       "4 -0.168108 -0.171368 -0.165106"
      ]
     },
     "execution_count": 161,
     "metadata": {},
     "output_type": "execute_result"
    }
   ],
   "source": [
    "train_scores.head()"
   ]
  },
  {
   "cell_type": "code",
   "execution_count": 162,
   "id": "374f387e",
   "metadata": {},
   "outputs": [
    {
     "data": {
      "text/html": [
       "<div>\n",
       "<style scoped>\n",
       "    .dataframe tbody tr th:only-of-type {\n",
       "        vertical-align: middle;\n",
       "    }\n",
       "\n",
       "    .dataframe tbody tr th {\n",
       "        vertical-align: top;\n",
       "    }\n",
       "\n",
       "    .dataframe thead th {\n",
       "        text-align: right;\n",
       "    }\n",
       "</style>\n",
       "<table border=\"1\" class=\"dataframe\">\n",
       "  <thead>\n",
       "    <tr style=\"text-align: right;\">\n",
       "      <th></th>\n",
       "      <th>clf1</th>\n",
       "      <th>clf2</th>\n",
       "      <th>clf3</th>\n",
       "    </tr>\n",
       "  </thead>\n",
       "  <tbody>\n",
       "    <tr>\n",
       "      <th>0</th>\n",
       "      <td>-0.043469</td>\n",
       "      <td>-0.039253</td>\n",
       "      <td>-0.048330</td>\n",
       "    </tr>\n",
       "    <tr>\n",
       "      <th>1</th>\n",
       "      <td>-0.111199</td>\n",
       "      <td>-0.109769</td>\n",
       "      <td>-0.102355</td>\n",
       "    </tr>\n",
       "    <tr>\n",
       "      <th>2</th>\n",
       "      <td>-0.077742</td>\n",
       "      <td>-0.114348</td>\n",
       "      <td>-0.090906</td>\n",
       "    </tr>\n",
       "    <tr>\n",
       "      <th>3</th>\n",
       "      <td>-0.143230</td>\n",
       "      <td>-0.148274</td>\n",
       "      <td>-0.148981</td>\n",
       "    </tr>\n",
       "    <tr>\n",
       "      <th>4</th>\n",
       "      <td>-0.175555</td>\n",
       "      <td>-0.189658</td>\n",
       "      <td>-0.185141</td>\n",
       "    </tr>\n",
       "  </tbody>\n",
       "</table>\n",
       "</div>"
      ],
      "text/plain": [
       "       clf1      clf2      clf3\n",
       "0 -0.043469 -0.039253 -0.048330\n",
       "1 -0.111199 -0.109769 -0.102355\n",
       "2 -0.077742 -0.114348 -0.090906\n",
       "3 -0.143230 -0.148274 -0.148981\n",
       "4 -0.175555 -0.189658 -0.185141"
      ]
     },
     "execution_count": 162,
     "metadata": {},
     "output_type": "execute_result"
    }
   ],
   "source": [
    "test_scores.head()"
   ]
  },
  {
   "cell_type": "code",
   "execution_count": 163,
   "id": "9230f569",
   "metadata": {},
   "outputs": [],
   "source": [
    "# Although we did standardization before, it was for the variables.\n",
    "# Now we do the standardization for the decision scores\n",
    "train_scores_norm, test_scores_norm = standardizer(train_scores,test_scores)"
   ]
  },
  {
   "cell_type": "code",
   "execution_count": 164,
   "id": "c5b2f283",
   "metadata": {},
   "outputs": [
    {
     "data": {
      "text/plain": [
       "(114145, 3)"
      ]
     },
     "execution_count": 164,
     "metadata": {},
     "output_type": "execute_result"
    }
   ],
   "source": [
    "train_scores_norm.shape"
   ]
  },
  {
   "cell_type": "markdown",
   "id": "26feb568",
   "metadata": {},
   "source": [
    "### Average\n",
    "The \"average\" function in PyOD averages the outlier scores from multiple estimators."
   ]
  },
  {
   "cell_type": "code",
   "execution_count": 165,
   "id": "41508b7d",
   "metadata": {},
   "outputs": [
    {
     "data": {
      "text/plain": [
       "array([-0.07984078,  0.12444172, -0.65526748, -1.19466498, -0.89969728,\n",
       "        3.05825321, -0.57189498,  1.39575803,  0.42818774])"
      ]
     },
     "execution_count": 165,
     "metadata": {},
     "output_type": "execute_result"
    }
   ],
   "source": [
    "# Combination by average\n",
    "y_by_average = average(test_scores_norm)\n",
    "y_by_average[1:10]"
   ]
  },
  {
   "cell_type": "code",
   "execution_count": 166,
   "id": "1ca16dd3",
   "metadata": {},
   "outputs": [
    {
     "data": {
      "image/png": "[encoded data removed]",
      "text/plain": [
       "<Figure size 640x480 with 1 Axes>"
      ]
     },
     "metadata": {},
     "output_type": "display_data"
    }
   ],
   "source": [
    "# Combination by average\n",
    "y_by_average = average(test_scores_norm)\n",
    "             \n",
    "import matplotlib.pyplot as plt\n",
    "plt.hist(y_by_average, bins='auto')  # arguments are passed to np.histogram\n",
    "plt.title(\"Combination by average\")\n",
    "plt.show()"
   ]
  },
  {
   "cell_type": "code",
   "execution_count": 171,
   "id": "b098c299",
   "metadata": {},
   "outputs": [
    {
     "data": {
      "text/plain": [
       "0    43980\n",
       "1     4940\n",
       "Name: y_by_average_cluster, dtype: int64"
      ]
     },
     "execution_count": 171,
     "metadata": {},
     "output_type": "execute_result"
    }
   ],
   "source": [
    "df_test = pd.DataFrame(X_test)\n",
    "df_test['y_by_average_score'] = y_by_average\n",
    "df_test['y_by_average_cluster'] = np.where(df_test['y_by_average_score']<1.5, 0, 1)\n",
    "df_test['y_by_average_cluster'].value_counts()"
   ]
  },
  {
   "cell_type": "code",
   "execution_count": 169,
   "id": "d836c635",
   "metadata": {},
   "outputs": [
    {
     "data": {
      "text/html": [
       "<div>\n",
       "<style scoped>\n",
       "    .dataframe tbody tr th:only-of-type {\n",
       "        vertical-align: middle;\n",
       "    }\n",
       "\n",
       "    .dataframe tbody tr th {\n",
       "        vertical-align: top;\n",
       "    }\n",
       "\n",
       "    .dataframe thead th {\n",
       "        text-align: right;\n",
       "    }\n",
       "</style>\n",
       "<table border=\"1\" class=\"dataframe\">\n",
       "  <thead>\n",
       "    <tr style=\"text-align: right;\">\n",
       "      <th></th>\n",
       "      <th>Avg_Total_Pymts_Ratio</th>\n",
       "      <th>Avg_Medicare_Pymt_Ratio</th>\n",
       "      <th>Avg_Total_Discharges_Ratio</th>\n",
       "      <th>Avg_Total_Pymt_byST</th>\n",
       "      <th>Medicare_Pymt_byST</th>\n",
       "      <th>Total_Discharges_byST</th>\n",
       "      <th>Avg_Total_Pymt_bySTDRG</th>\n",
       "      <th>Medicare_Pymt_bySTDRG</th>\n",
       "      <th>Total_Discharges_bySTDRG</th>\n",
       "      <th>Avg_Total_Pymt_bySTDRG_avg</th>\n",
       "      <th>Medicare_Pymt_bySTDRG_avg</th>\n",
       "      <th>Total_Discharges_bySTDRG_avg</th>\n",
       "      <th>y_by_average_score</th>\n",
       "    </tr>\n",
       "    <tr>\n",
       "      <th>y_by_average_cluster</th>\n",
       "      <th></th>\n",
       "      <th></th>\n",
       "      <th></th>\n",
       "      <th></th>\n",
       "      <th></th>\n",
       "      <th></th>\n",
       "      <th></th>\n",
       "      <th></th>\n",
       "      <th></th>\n",
       "      <th></th>\n",
       "      <th></th>\n",
       "      <th></th>\n",
       "      <th></th>\n",
       "    </tr>\n",
       "  </thead>\n",
       "  <tbody>\n",
       "    <tr>\n",
       "      <th>0</th>\n",
       "      <td>-0.175801</td>\n",
       "      <td>-0.173857</td>\n",
       "      <td>-0.080992</td>\n",
       "      <td>-0.176023</td>\n",
       "      <td>-0.176023</td>\n",
       "      <td>-0.081963</td>\n",
       "      <td>-0.108196</td>\n",
       "      <td>-0.108196</td>\n",
       "      <td>-0.056627</td>\n",
       "      <td>-0.109349</td>\n",
       "      <td>-0.109349</td>\n",
       "      <td>-0.056779</td>\n",
       "      <td>-0.245961</td>\n",
       "    </tr>\n",
       "    <tr>\n",
       "      <th>1</th>\n",
       "      <td>1.530403</td>\n",
       "      <td>1.513070</td>\n",
       "      <td>0.678851</td>\n",
       "      <td>1.522508</td>\n",
       "      <td>1.522508</td>\n",
       "      <td>0.679417</td>\n",
       "      <td>1.006711</td>\n",
       "      <td>1.006711</td>\n",
       "      <td>0.505301</td>\n",
       "      <td>1.005392</td>\n",
       "      <td>1.005392</td>\n",
       "      <td>0.500270</td>\n",
       "      <td>2.152206</td>\n",
       "    </tr>\n",
       "  </tbody>\n",
       "</table>\n",
       "</div>"
      ],
      "text/plain": [
       "                      Avg_Total_Pymts_Ratio  Avg_Medicare_Pymt_Ratio  \\\n",
       "y_by_average_cluster                                                   \n",
       "0                                 -0.175801                -0.173857   \n",
       "1                                  1.530403                 1.513070   \n",
       "\n",
       "                      Avg_Total_Discharges_Ratio  Avg_Total_Pymt_byST  \\\n",
       "y_by_average_cluster                                                    \n",
       "0                                      -0.080992            -0.176023   \n",
       "1                                       0.678851             1.522508   \n",
       "\n",
       "                      Medicare_Pymt_byST  Total_Discharges_byST  \\\n",
       "y_by_average_cluster                                              \n",
       "0                              -0.176023              -0.081963   \n",
       "1                               1.522508               0.679417   \n",
       "\n",
       "                      Avg_Total_Pymt_bySTDRG  Medicare_Pymt_bySTDRG  \\\n",
       "y_by_average_cluster                                                  \n",
       "0                                  -0.108196              -0.108196   \n",
       "1                                   1.006711               1.006711   \n",
       "\n",
       "                      Total_Discharges_bySTDRG  Avg_Total_Pymt_bySTDRG_avg  \\\n",
       "y_by_average_cluster                                                         \n",
       "0                                    -0.056627                   -0.109349   \n",
       "1                                     0.505301                    1.005392   \n",
       "\n",
       "                      Medicare_Pymt_bySTDRG_avg  Total_Discharges_bySTDRG_avg  \\\n",
       "y_by_average_cluster                                                            \n",
       "0                                     -0.109349                     -0.056779   \n",
       "1                                      1.005392                      0.500270   \n",
       "\n",
       "                      y_by_average_score  \n",
       "y_by_average_cluster                      \n",
       "0                              -0.245961  \n",
       "1                               2.152206  "
      ]
     },
     "execution_count": 169,
     "metadata": {},
     "output_type": "execute_result"
    }
   ],
   "source": [
    "df_test.groupby('y_by_average_cluster').mean()"
   ]
  },
  {
   "cell_type": "markdown",
   "id": "4cf74a09",
   "metadata": {},
   "source": [
    "### Aggregating multiple models by Average Analysis:\n",
    "1. In order to avoid overfitting, we can aggregate multiple models by average, from the modeling, we set up the threshold to be 1;\n",
    "2. After calculate the mean value of each feature in both clusters, we can see that the mean scores of cluster 0 in each feature/variable is negative, while all mean scores of cluster 1 in all features is ranging from 0 to 2; Outlier group suggest that these data points exhibit more pronounced deviations from the norm and are more likely to be outliers."
   ]
  },
  {
   "cell_type": "markdown",
   "id": "0424b885",
   "metadata": {},
   "source": [
    "### iForest Analysis Summary:\n",
    "1. Identify anomalous cluster: in previous 3 models, we tuned the parameters and we set the threshold=0, then seperate the normal and outliers group, for each group we calculate the score in mean, in each outliers group, the mean distance score is greater the normal group, \"Outlier\" group suggest that these data points exhibit more pronounced deviations from the norm and are more likely to be outliers.\n",
    "2. By aggregating models: our model would be more stable, ensemble methods can be more stable and less sensitive to small changes in the training data. This stability can prevent overfitting to specific training instances and improve the reliability of the model on new data."
   ]
  },
  {
   "cell_type": "markdown",
   "id": "31e1b823",
   "metadata": {},
   "source": [
    "# Summary\n",
    "\n",
    "##### Business insight:\n",
    "1. Both Autoencoder and iForest are very efficient in anomaly detection, they offer advantages in terms of efficiency and effectiveness, they are well-suited for scenarios where efficiency is a priority, making them valuable choices for anomaly detection tasks;\n",
    "2. The \"Outlier\" group might might represent cases that need closer examination, this could be due to potential fraud, this group represent cases that are unusual but not necessarily fraudulent. They might be cases that require special attention due to their high values. We can use the invesitigate in these cases and trace back the datapoint to the original dataset, find out the common points that these anomalies have made, remark them and use these as important variables/feature therefor further improve our initial modeling regulatories."
   ]
  },
  {
   "cell_type": "code",
   "execution_count": null,
   "id": "8e59a79b",
   "metadata": {},
   "outputs": [],
   "source": []
  }
 ],
 "metadata": {
  "kernelspec": {
   "display_name": "Python 3 (ipykernel)",
   "language": "python",
   "name": "python3"
  },
  "language_info": {
   "codemirror_mode": {
    "name": "ipython",
    "version": 3
   },
   "file_extension": ".py",
   "mimetype": "text/x-python",
   "name": "python",
   "nbconvert_exporter": "python",
   "pygments_lexer": "ipython3",
   "version": "3.9.13"
  }
 },
 "nbformat": 4,
 "nbformat_minor": 5
}
