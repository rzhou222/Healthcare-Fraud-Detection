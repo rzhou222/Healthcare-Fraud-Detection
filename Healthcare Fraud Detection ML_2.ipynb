{
 "cells": [
  {
   "cell_type": "markdown",
   "id": "dc317f32",
   "metadata": {},
   "source": [
    "# Module 7: Unsupervised ML on healthcare dataset features"
   ]
  },
  {
   "cell_type": "markdown",
   "id": "9a4d6c67",
   "metadata": {},
   "source": [
    "## Section 1: Wrap-up features that created from assignment 5"
   ]
  },
  {
   "cell_type": "markdown",
   "id": "97721ae1",
   "metadata": {},
   "source": [
    "### Section 1.1: Data Preparation, change columns and data types"
   ]
  },
  {
   "cell_type": "code",
   "execution_count": 41,
   "id": "f9b23fea",
   "metadata": {},
   "outputs": [
    {
     "data": {
      "text/html": [
       "<div>\n",
       "<style scoped>\n",
       "    .dataframe tbody tr th:only-of-type {\n",
       "        vertical-align: middle;\n",
       "    }\n",
       "\n",
       "    .dataframe tbody tr th {\n",
       "        vertical-align: top;\n",
       "    }\n",
       "\n",
       "    .dataframe thead th {\n",
       "        text-align: right;\n",
       "    }\n",
       "</style>\n",
       "<table border=\"1\" class=\"dataframe\">\n",
       "  <thead>\n",
       "    <tr style=\"text-align: right;\">\n",
       "      <th></th>\n",
       "      <th>DRG</th>\n",
       "      <th>Provider_Id</th>\n",
       "      <th>Provider_Name</th>\n",
       "      <th>Provider_StreetAddress</th>\n",
       "      <th>Provider_City</th>\n",
       "      <th>Provider_State</th>\n",
       "      <th>Provider_Zipcode</th>\n",
       "      <th>Hospital_referral_region_desp</th>\n",
       "      <th>Total_Discharges</th>\n",
       "      <th>Average_Total_Payments</th>\n",
       "      <th>Average_Medicare_Payment</th>\n",
       "    </tr>\n",
       "  </thead>\n",
       "  <tbody>\n",
       "    <tr>\n",
       "      <th>0</th>\n",
       "      <td>039 - EXTRACRANIAL PROCEDURES W/O CC/MCC</td>\n",
       "      <td>10001</td>\n",
       "      <td>SOUTHEAST ALABAMA MEDICAL CENTER</td>\n",
       "      <td>1108 ROSS CLARK CIRCLE</td>\n",
       "      <td>DOTHAN</td>\n",
       "      <td>AL</td>\n",
       "      <td>36301</td>\n",
       "      <td>AL - Dothan</td>\n",
       "      <td>91</td>\n",
       "      <td>$5777.24</td>\n",
       "      <td>$4763.73</td>\n",
       "    </tr>\n",
       "  </tbody>\n",
       "</table>\n",
       "</div>"
      ],
      "text/plain": [
       "                                        DRG  Provider_Id  \\\n",
       "0  039 - EXTRACRANIAL PROCEDURES W/O CC/MCC        10001   \n",
       "\n",
       "                      Provider_Name  Provider_StreetAddress Provider_City  \\\n",
       "0  SOUTHEAST ALABAMA MEDICAL CENTER  1108 ROSS CLARK CIRCLE        DOTHAN   \n",
       "\n",
       "  Provider_State  Provider_Zipcode Hospital_referral_region_desp  \\\n",
       "0             AL             36301                   AL - Dothan   \n",
       "\n",
       "   Total_Discharges Average_Total_Payments Average_Medicare_Payment  \n",
       "0                91               $5777.24                 $4763.73  "
      ]
     },
     "execution_count": 41,
     "metadata": {},
     "output_type": "execute_result"
    }
   ],
   "source": [
    "import pandas as pd\n",
    "import numpy as np\n",
    "import matplotlib.pyplot as plt\n",
    "import seaborn as sns\n",
    "%matplotlib inline\n",
    "\n",
    "data = pd.read_csv('inpatientCharges.csv')\n",
    "data.columns = ['DRG','Provider_Id', 'Provider_Name','Provider_StreetAddress','Provider_City',\n",
    "               'Provider_State','Provider_Zipcode','Hospital_referral_region_desp',\n",
    "                'Total_Discharges','Average_Covered_Charges','Average_Total_Payments',\n",
    "                'Average_Medicare_Payment']\n",
    "data = data.drop('Average_Covered_Charges',axis=1)\n",
    "data.head(1)"
   ]
  },
  {
   "cell_type": "code",
   "execution_count": 42,
   "id": "ff0d339c",
   "metadata": {},
   "outputs": [
    {
     "name": "stderr",
     "output_type": "stream",
     "text": [
      "/var/folders/4_/810dy4d13s9c2627491y7jdh0000gn/T/ipykernel_1648/2932651901.py:6: FutureWarning: The default value of regex will change from True to False in a future version.\n",
      "  data['Average_Total_Payments'] = (data['Average_Total_Payments']\n",
      "/var/folders/4_/810dy4d13s9c2627491y7jdh0000gn/T/ipykernel_1648/2932651901.py:8: FutureWarning: The default value of regex will change from True to False in a future version.\n",
      "  data['Average_Medicare_Payment'] = (data['Average_Medicare_Payment']\n"
     ]
    }
   ],
   "source": [
    "# Change data type and transfer spending amount with dollar sign into numeric\n",
    "data['DRG'] = data['DRG'].astype('category')\n",
    "data['Provider_State'] = data['Provider_State'].astype('category')\n",
    "data['Provider_City'] = data['Provider_City'].astype('category')\n",
    "data['Provider_Id'] = data['Provider_Id'].astype('category')\n",
    "data['Average_Total_Payments'] = (data['Average_Total_Payments']\n",
    "                              .str.replace(r'[^-+\\d.]', '').astype(float))\n",
    "data['Average_Medicare_Payment'] = (data['Average_Medicare_Payment']\n",
    "                              .str.replace(r'[^-+\\d.]', '').astype(float))"
   ]
  },
  {
   "cell_type": "markdown",
   "id": "42d97b2e",
   "metadata": {},
   "source": [
    "### Section 1.2: Feature Engineering"
   ]
  },
  {
   "cell_type": "markdown",
   "id": "86c58512",
   "metadata": {},
   "source": [
    "#### Section 1.2.1: Create benchmark tables - State & DRG average"
   ]
  },
  {
   "cell_type": "code",
   "execution_count": 43,
   "id": "74c7d6d6",
   "metadata": {},
   "outputs": [],
   "source": [
    "# AVG\n",
    "benchmark_avg = data.groupby(['Provider_State','DRG'])['Average_Total_Payments'].mean().reset_index()\n",
    "benchmark_avg.columns = ['Provider_State','DRG','Avg_Payment_ByStateDRG']\n",
    "#benchmark_avg.head()\n",
    "\n",
    "# Median\n",
    "benchmark_median = data.groupby(['Provider_State','DRG'])['Average_Total_Payments'].median().reset_index()\n",
    "benchmark_median.columns = ['Provider_State','DRG','Avg_Payment_ByStateDRG']\n",
    "#benchmark_median.head()"
   ]
  },
  {
   "cell_type": "markdown",
   "id": "1ef78b9f",
   "metadata": {},
   "source": [
    "#### Section 1.2.1: Create benchmark tables - State & DRG average on \"Average Medicare Payments\""
   ]
  },
  {
   "cell_type": "code",
   "execution_count": 44,
   "id": "a5f087c6",
   "metadata": {},
   "outputs": [],
   "source": [
    "# Overall Mean\n",
    "benchmark_overall_avg = data[['Average_Total_Payments','Average_Medicare_Payment','Total_Discharges']].mean()\n",
    "benchmark_overall_avg = pd.DataFrame(benchmark_overall_avg).T\n",
    "benchmark_overall_avg\n",
    "\n",
    "# Overall Median\n",
    "#benchmark_Overall_median = data[['Average_Total_Payments','Average_Medicare_Payment','Total_Discharges']].median()\n",
    "#benchmark_Overall_median = pd.DataFrame(benchmark_Overall_median).T\n",
    "#benchmark_Overall_median\n",
    "\n",
    "benchmark_Overall_Average = data[['Average_Total_Payments','Average_Medicare_Payment','Total_Discharges']].median()\n",
    "benchmark_Overall_Average = pd.DataFrame(benchmark_Overall_Average).T\n",
    "#benchmark_Overall_Average\n",
    "\n",
    "# Median by state\n",
    "benchmark_by_State = data.groupby(['Provider_State'])[['Average_Total_Payments','Average_Medicare_Payment','Total_Discharges']].median().reset_index()\n",
    "benchmark_by_State.columns = ['Provider_State','Median_Average_Total_Payments','Median_Medicare_Payment','Median_Total_Discharges']\n",
    "#benchmark_by_State.head()\n",
    "\n",
    "# Median by state&DRG\n",
    "benchmark_by_StateDRG = data.groupby(['Provider_State','DRG'])[['Average_Total_Payments','Average_Medicare_Payment','Total_Discharges']].median().reset_index()\n",
    "benchmark_by_StateDRG.columns = ['Provider_State','DRG','Median_Average_Total_Payments','Median_Medicare_Payment','Median_Total_Discharges']\n",
    "#benchmark_by_StateDRG.head()\n",
    "\n",
    "# Mean by state&DRG\n",
    "benchmark_by_StateDRG_avg = data.groupby(['Provider_State','DRG'])[['Average_Total_Payments','Average_Medicare_Payment','Total_Discharges']].mean().reset_index()\n",
    "benchmark_by_StateDRG_avg.columns = ['Provider_State','DRG','Median_Average_Total_Payments','Median_Medicare_Payment','Median_Total_Discharges']\n",
    "#benchmark_by_StateDRG_avg.head()"
   ]
  },
  {
   "cell_type": "markdown",
   "id": "8c6ba59d",
   "metadata": {},
   "source": [
    "#### Section 1.2.2: Revise Features and merge to dataset"
   ]
  },
  {
   "cell_type": "code",
   "execution_count": 45,
   "id": "15623444",
   "metadata": {},
   "outputs": [
    {
     "data": {
      "text/html": [
       "<div>\n",
       "<style scoped>\n",
       "    .dataframe tbody tr th:only-of-type {\n",
       "        vertical-align: middle;\n",
       "    }\n",
       "\n",
       "    .dataframe tbody tr th {\n",
       "        vertical-align: top;\n",
       "    }\n",
       "\n",
       "    .dataframe thead th {\n",
       "        text-align: right;\n",
       "    }\n",
       "</style>\n",
       "<table border=\"1\" class=\"dataframe\">\n",
       "  <thead>\n",
       "    <tr style=\"text-align: right;\">\n",
       "      <th></th>\n",
       "      <th>Avg_Total_Pymts_by_id_mean_Ratio</th>\n",
       "      <th>Avg_Medicare_Pymts_by_id_mean_Ratio</th>\n",
       "      <th>Avg_Total_Discharges_by_id_mean_Ratio</th>\n",
       "    </tr>\n",
       "  </thead>\n",
       "  <tbody>\n",
       "    <tr>\n",
       "      <th>0</th>\n",
       "      <td>0.595133</td>\n",
       "      <td>0.560802</td>\n",
       "      <td>2.127346</td>\n",
       "    </tr>\n",
       "  </tbody>\n",
       "</table>\n",
       "</div>"
      ],
      "text/plain": [
       "   Avg_Total_Pymts_by_id_mean_Ratio  Avg_Medicare_Pymts_by_id_mean_Ratio  \\\n",
       "0                          0.595133                             0.560802   \n",
       "\n",
       "   Avg_Total_Discharges_by_id_mean_Ratio  \n",
       "0                               2.127346  "
      ]
     },
     "execution_count": 45,
     "metadata": {},
     "output_type": "execute_result"
    }
   ],
   "source": [
    "Feature123 = pd.DataFrame()\n",
    "Feature123['Avg_Total_Pymts_by_id_mean_Ratio'] = data['Average_Total_Payments']/benchmark_overall_avg['Average_Total_Payments']\n",
    "Feature123['Avg_Medicare_Pymts_by_id_mean_Ratio'] = data['Average_Medicare_Payment']/benchmark_overall_avg['Average_Medicare_Payment']\n",
    "Feature123['Avg_Total_Discharges_by_id_mean_Ratio'] = data['Total_Discharges']/benchmark_overall_avg['Total_Discharges']\n",
    "\n",
    "Feature123.head(1)"
   ]
  },
  {
   "cell_type": "markdown",
   "id": "00cf89be",
   "metadata": {},
   "source": [
    "##### Thought process:\n",
    "\n",
    "1. On assignment 5, I created 3 features('Average_Total_Payments','Average_Medicare_Payment','Total_Discharges') for 'overall' level in mean, 3 features in 'overall' level in median; 3 features for 'ST' level in mean, 3 features for 'ST&DRG'level in mean\n",
    "2. For better accuracy improvement, I'd like to change the 3 features that created for 'overall' level in mean, change to 'ST&DRG' level in mean; These 3 features are feature 10-12 in the following"
   ]
  },
  {
   "cell_type": "markdown",
   "id": "fcfbd7f5",
   "metadata": {},
   "source": [
    "#### Feature 1-3: Compare total payments, medicare payments, total discharges to 'overall median' bechmark"
   ]
  },
  {
   "cell_type": "code",
   "execution_count": 46,
   "id": "8fe1c026",
   "metadata": {},
   "outputs": [
    {
     "name": "stderr",
     "output_type": "stream",
     "text": [
      "/var/folders/4_/810dy4d13s9c2627491y7jdh0000gn/T/ipykernel_1648/2184401094.py:2: FutureWarning: The frame.append method is deprecated and will be removed from pandas in a future version. Use pandas.concat instead.\n",
      "  df = df.append([benchmark_Overall_Average]*data.shape[0],ignore_index=True)\n"
     ]
    }
   ],
   "source": [
    "df = pd.DataFrame()\n",
    "df = df.append([benchmark_Overall_Average]*data.shape[0],ignore_index=True)\n",
    "# rename columns\n",
    "df = df.rename(columns={'Average_Total_Payments': 'Median_Avg_Total_Pymts', \n",
    "                        'Average_Medicare_Payment': 'Median_Avg_Medicare_Pymt',\n",
    "                       'Total_Discharges': 'Median_Total_Discharges'})\n",
    "#df"
   ]
  },
  {
   "cell_type": "code",
   "execution_count": 47,
   "id": "499827c0",
   "metadata": {},
   "outputs": [],
   "source": [
    "Feature123 = pd.DataFrame()\n",
    "Feature123['Avg_Total_Pymts_Ratio'] = data['Average_Total_Payments']/df['Median_Avg_Total_Pymts']\n",
    "Feature123['Avg_Medicare_Pymt_Ratio'] = data['Average_Medicare_Payment']/df['Median_Avg_Medicare_Pymt']\n",
    "Feature123['Avg_Total_Discharges_Ratio'] = data['Total_Discharges']/df['Median_Total_Discharges']\n",
    "\n",
    "#Feature123.head()"
   ]
  },
  {
   "cell_type": "code",
   "execution_count": 48,
   "id": "89dd7ee6",
   "metadata": {},
   "outputs": [
    {
     "data": {
      "text/html": [
       "<div>\n",
       "<style scoped>\n",
       "    .dataframe tbody tr th:only-of-type {\n",
       "        vertical-align: middle;\n",
       "    }\n",
       "\n",
       "    .dataframe tbody tr th {\n",
       "        vertical-align: top;\n",
       "    }\n",
       "\n",
       "    .dataframe thead th {\n",
       "        text-align: right;\n",
       "    }\n",
       "</style>\n",
       "<table border=\"1\" class=\"dataframe\">\n",
       "  <thead>\n",
       "    <tr style=\"text-align: right;\">\n",
       "      <th></th>\n",
       "      <th>ST</th>\n",
       "      <th>DRG</th>\n",
       "      <th>Avg_Total_Pymts_Ratio</th>\n",
       "      <th>Avg_Medicare_Pymt_Ratio</th>\n",
       "      <th>Avg_Total_Discharges_Ratio</th>\n",
       "    </tr>\n",
       "  </thead>\n",
       "  <tbody>\n",
       "    <tr>\n",
       "      <th>0</th>\n",
       "      <td>AL</td>\n",
       "      <td>039 - EXTRACRANIAL PROCEDURES W/O CC/MCC</td>\n",
       "      <td>0.800826</td>\n",
       "      <td>0.773526</td>\n",
       "      <td>3.370370</td>\n",
       "    </tr>\n",
       "    <tr>\n",
       "      <th>1</th>\n",
       "      <td>AL</td>\n",
       "      <td>039 - EXTRACRANIAL PROCEDURES W/O CC/MCC</td>\n",
       "      <td>0.802258</td>\n",
       "      <td>0.808109</td>\n",
       "      <td>0.518519</td>\n",
       "    </tr>\n",
       "    <tr>\n",
       "      <th>2</th>\n",
       "      <td>AL</td>\n",
       "      <td>039 - EXTRACRANIAL PROCEDURES W/O CC/MCC</td>\n",
       "      <td>0.753379</td>\n",
       "      <td>0.723199</td>\n",
       "      <td>0.888889</td>\n",
       "    </tr>\n",
       "  </tbody>\n",
       "</table>\n",
       "</div>"
      ],
      "text/plain": [
       "   ST                                       DRG  Avg_Total_Pymts_Ratio  \\\n",
       "0  AL  039 - EXTRACRANIAL PROCEDURES W/O CC/MCC               0.800826   \n",
       "1  AL  039 - EXTRACRANIAL PROCEDURES W/O CC/MCC               0.802258   \n",
       "2  AL  039 - EXTRACRANIAL PROCEDURES W/O CC/MCC               0.753379   \n",
       "\n",
       "   Avg_Medicare_Pymt_Ratio  Avg_Total_Discharges_Ratio  \n",
       "0                 0.773526                    3.370370  \n",
       "1                 0.808109                    0.518519  \n",
       "2                 0.723199                    0.888889  "
      ]
     },
     "execution_count": 48,
     "metadata": {},
     "output_type": "execute_result"
    }
   ],
   "source": [
    "# Create an empty dataframe to collect the features\n",
    "Features = pd.DataFrame()\n",
    "Features[['ST','DRG']] = data[['Provider_State','DRG']]\n",
    "\n",
    "\n",
    "# add the new feature average spending to the dataset \n",
    "Features =  [Features,Feature123]\n",
    "Features = pd.concat(Features,axis=1)\n",
    "Features.head(3)"
   ]
  },
  {
   "cell_type": "markdown",
   "id": "b81315c3",
   "metadata": {},
   "source": [
    "#### Feature 4-6: The ratio of total payments, medicare payments, total discharges to 'State level median' bechmark"
   ]
  },
  {
   "cell_type": "code",
   "execution_count": 49,
   "id": "7d78f8de",
   "metadata": {},
   "outputs": [],
   "source": [
    "# add the new feature average spending to the dataset \n",
    "F456 = pd.merge(data, benchmark_by_State, how='left', on='Provider_State')\n",
    "#F456.head()"
   ]
  },
  {
   "cell_type": "code",
   "execution_count": 50,
   "id": "7fe68a31",
   "metadata": {},
   "outputs": [
    {
     "data": {
      "text/html": [
       "<div>\n",
       "<style scoped>\n",
       "    .dataframe tbody tr th:only-of-type {\n",
       "        vertical-align: middle;\n",
       "    }\n",
       "\n",
       "    .dataframe tbody tr th {\n",
       "        vertical-align: top;\n",
       "    }\n",
       "\n",
       "    .dataframe thead th {\n",
       "        text-align: right;\n",
       "    }\n",
       "</style>\n",
       "<table border=\"1\" class=\"dataframe\">\n",
       "  <thead>\n",
       "    <tr style=\"text-align: right;\">\n",
       "      <th></th>\n",
       "      <th>ST</th>\n",
       "      <th>DRG</th>\n",
       "      <th>Avg_Total_Pymts_Ratio</th>\n",
       "      <th>Avg_Medicare_Pymt_Ratio</th>\n",
       "      <th>Avg_Total_Discharges_Ratio</th>\n",
       "      <th>Avg_Total_Pymt_byST</th>\n",
       "      <th>Medicare_Pymt_byST</th>\n",
       "      <th>Total_Discharges_byST</th>\n",
       "    </tr>\n",
       "  </thead>\n",
       "  <tbody>\n",
       "    <tr>\n",
       "      <th>163062</th>\n",
       "      <td>TX</td>\n",
       "      <td>948 - SIGNS &amp; SYMPTOMS W/O MCC</td>\n",
       "      <td>0.790724</td>\n",
       "      <td>0.658989</td>\n",
       "      <td>0.703704</td>\n",
       "      <td>0.823440</td>\n",
       "      <td>0.823440</td>\n",
       "      <td>0.76</td>\n",
       "    </tr>\n",
       "    <tr>\n",
       "      <th>163063</th>\n",
       "      <td>TX</td>\n",
       "      <td>948 - SIGNS &amp; SYMPTOMS W/O MCC</td>\n",
       "      <td>1.062238</td>\n",
       "      <td>1.112054</td>\n",
       "      <td>0.407407</td>\n",
       "      <td>1.106188</td>\n",
       "      <td>1.106188</td>\n",
       "      <td>0.44</td>\n",
       "    </tr>\n",
       "    <tr>\n",
       "      <th>163064</th>\n",
       "      <td>TX</td>\n",
       "      <td>948 - SIGNS &amp; SYMPTOMS W/O MCC</td>\n",
       "      <td>0.490671</td>\n",
       "      <td>0.468853</td>\n",
       "      <td>0.444444</td>\n",
       "      <td>0.510973</td>\n",
       "      <td>0.510973</td>\n",
       "      <td>0.48</td>\n",
       "    </tr>\n",
       "  </tbody>\n",
       "</table>\n",
       "</div>"
      ],
      "text/plain": [
       "        ST                             DRG  Avg_Total_Pymts_Ratio  \\\n",
       "163062  TX  948 - SIGNS & SYMPTOMS W/O MCC               0.790724   \n",
       "163063  TX  948 - SIGNS & SYMPTOMS W/O MCC               1.062238   \n",
       "163064  TX  948 - SIGNS & SYMPTOMS W/O MCC               0.490671   \n",
       "\n",
       "        Avg_Medicare_Pymt_Ratio  Avg_Total_Discharges_Ratio  \\\n",
       "163062                 0.658989                    0.703704   \n",
       "163063                 1.112054                    0.407407   \n",
       "163064                 0.468853                    0.444444   \n",
       "\n",
       "        Avg_Total_Pymt_byST  Medicare_Pymt_byST  Total_Discharges_byST  \n",
       "163062             0.823440            0.823440                   0.76  \n",
       "163063             1.106188            1.106188                   0.44  \n",
       "163064             0.510973            0.510973                   0.48  "
      ]
     },
     "execution_count": 50,
     "metadata": {},
     "output_type": "execute_result"
    }
   ],
   "source": [
    "Average_Total_Payments_byST = F456['Average_Total_Payments']/F456['Median_Average_Total_Payments']\n",
    "Medicare_Payment_byST = F456['Average_Medicare_Payment']/F456['Median_Medicare_Payment']\n",
    "Total_Discharges_byST = F456['Total_Discharges']/F456['Median_Total_Discharges']\n",
    "\n",
    "Features['Avg_Total_Pymt_byST'] = Average_Total_Payments_byST\n",
    "Features['Medicare_Pymt_byST'] = Average_Total_Payments_byST\n",
    "Features['Total_Discharges_byST'] = Total_Discharges_byST\n",
    "Features.tail(3)"
   ]
  },
  {
   "cell_type": "markdown",
   "id": "be00e74b",
   "metadata": {},
   "source": [
    "#### Feature 7-9: The ratio of total payments, medicare payments, total discharges to 'State&DRG level median bechmark"
   ]
  },
  {
   "cell_type": "code",
   "execution_count": 51,
   "id": "bcb45337",
   "metadata": {},
   "outputs": [],
   "source": [
    "# add the new feature average spending to the dataset \n",
    "F789 = pd.merge(data, benchmark_by_StateDRG, how='left', on='Provider_State' and 'DRG')\n",
    "#F789.head()"
   ]
  },
  {
   "cell_type": "code",
   "execution_count": 52,
   "id": "a1ef51b9",
   "metadata": {},
   "outputs": [],
   "source": [
    "Average_Total_Payments_bySTDRG = F789['Average_Total_Payments']/F789['Median_Average_Total_Payments']\n",
    "Medicare_Payment_bySTDRG = F789['Average_Medicare_Payment']/F789['Median_Medicare_Payment']\n",
    "Total_Discharges_bySTDRG = F789['Total_Discharges']/F789['Median_Total_Discharges']\n",
    "\n",
    "Features['Avg_Total_Pymt_bySTDRG'] = Average_Total_Payments_bySTDRG\n",
    "Features['Medicare_Pymt_bySTDRG'] = Average_Total_Payments_bySTDRG\n",
    "Features['Total_Discharges_bySTDRG'] = Total_Discharges_bySTDRG"
   ]
  },
  {
   "cell_type": "markdown",
   "id": "d6d66cea",
   "metadata": {},
   "source": [
    "#### Feature 10-12: The ratio of total payments, medicare payments, total discharges to 'State&DRG level mean bechmark"
   ]
  },
  {
   "cell_type": "code",
   "execution_count": 53,
   "id": "429bbd60",
   "metadata": {},
   "outputs": [],
   "source": [
    "# add the new feature average spending to the dataset \n",
    "F101112 = pd.merge(data, benchmark_by_StateDRG_avg, how='left', on='Provider_State' and 'DRG')\n",
    "#F101112.head(3)"
   ]
  },
  {
   "cell_type": "code",
   "execution_count": 54,
   "id": "03284dba",
   "metadata": {},
   "outputs": [
    {
     "name": "stdout",
     "output_type": "stream",
     "text": [
      "<class 'pandas.core.frame.DataFrame'>\n",
      "RangeIndex: 163065 entries, 0 to 163064\n",
      "Data columns (total 14 columns):\n",
      " #   Column                        Non-Null Count   Dtype   \n",
      "---  ------                        --------------   -----   \n",
      " 0   ST                            163065 non-null  category\n",
      " 1   DRG                           163065 non-null  category\n",
      " 2   Avg_Total_Pymts_Ratio         163065 non-null  float64 \n",
      " 3   Avg_Medicare_Pymt_Ratio       163065 non-null  float64 \n",
      " 4   Avg_Total_Discharges_Ratio    163065 non-null  float64 \n",
      " 5   Avg_Total_Pymt_byST           163065 non-null  float64 \n",
      " 6   Medicare_Pymt_byST            163065 non-null  float64 \n",
      " 7   Total_Discharges_byST         163065 non-null  float64 \n",
      " 8   Avg_Total_Pymt_bySTDRG        163065 non-null  float64 \n",
      " 9   Medicare_Pymt_bySTDRG         163065 non-null  float64 \n",
      " 10  Total_Discharges_bySTDRG      163065 non-null  float64 \n",
      " 11  Avg_Total_Pymt_bySTDRG_avg    163065 non-null  float64 \n",
      " 12  Medicare_Pymt_bySTDRG_avg     163065 non-null  float64 \n",
      " 13  Total_Discharges_bySTDRG_avg  163065 non-null  float64 \n",
      "dtypes: category(2), float64(12)\n",
      "memory usage: 15.2 MB\n"
     ]
    }
   ],
   "source": [
    "Average_Total_Payments_bySTDRG_avg = F101112['Average_Total_Payments']/F101112['Median_Average_Total_Payments']\n",
    "Medicare_Payment_bySTDRG_avg = F101112['Average_Medicare_Payment']/F101112['Median_Medicare_Payment']\n",
    "Total_Discharges_bySTDRG_avg = F101112['Total_Discharges']/F101112['Median_Total_Discharges']\n",
    "\n",
    "Features['Avg_Total_Pymt_bySTDRG_avg'] = Average_Total_Payments_bySTDRG_avg\n",
    "Features['Medicare_Pymt_bySTDRG_avg'] = Average_Total_Payments_bySTDRG_avg\n",
    "Features['Total_Discharges_bySTDRG_avg'] = Total_Discharges_bySTDRG_avg\n",
    "\n",
    "# For some hospitals, it is possible Total Discharges=0 and cause missing values in the dataset, \n",
    "Features.iloc[:,8:] = Features.iloc[:,8:].fillna(0)\n",
    "Features.info()"
   ]
  },
  {
   "cell_type": "markdown",
   "id": "94a27384",
   "metadata": {},
   "source": [
    "#### Features visualization"
   ]
  },
  {
   "cell_type": "code",
   "execution_count": 55,
   "id": "684edd45",
   "metadata": {},
   "outputs": [
    {
     "data": {
      "text/plain": [
       "<AxesSubplot:xlabel='variable', ylabel='value'>"
      ]
     },
     "execution_count": 55,
     "metadata": {},
     "output_type": "execute_result"
    },
    {
     "data": {
      "image/png": "[encoded data removed]",
      "text/plain": [
       "<Figure size 1500x500 with 1 Axes>"
      ]
     },
     "metadata": {},
     "output_type": "display_data"
    }
   ],
   "source": [
    "plt.figure(figsize=(15,5)) # Plot a graph with reasonable size.\n",
    "x1,x2,y1,y2 = plt.axis()  \n",
    "plt.axis((x1,x2,0,5))\n",
    "plt.xticks(rotation=-15)\n",
    "\n",
    "sns.boxplot(x=\"variable\", y=\"value\", data=pd.melt(Features.iloc[:,2::]))"
   ]
  },
  {
   "cell_type": "code",
   "execution_count": 56,
   "id": "82394092",
   "metadata": {},
   "outputs": [
    {
     "data": {
      "text/plain": [
       "<AxesSubplot:xlabel='variable', ylabel='value'>"
      ]
     },
     "execution_count": 56,
     "metadata": {},
     "output_type": "execute_result"
    },
    {
     "data": {
      "image/png": "[encoded data removed]",
      "text/plain": [
       "<Figure size 1500x500 with 1 Axes>"
      ]
     },
     "metadata": {},
     "output_type": "display_data"
    }
   ],
   "source": [
    "plt.figure(figsize=(15,5)) # Plot a graph with reasonable size.\n",
    "plt.xticks(rotation=-20)\n",
    "\n",
    "sns.boxplot(x=\"variable\", y=\"value\", data=pd.melt(Features.iloc[:,2::]))"
   ]
  },
  {
   "cell_type": "markdown",
   "id": "4b59d0aa",
   "metadata": {},
   "source": [
    "### Summary:\n",
    "1. From the features boxplot, we can see that every features are right skewed, and for some features, their anomalous outlier have reached 120 times more than ratio;\n",
    "2. There are so many anomalies in the dataset, and our features can help us to find these data points;\n",
    "3. Since we don't have target variable, we will use unsupervised ML technique to find anomalies."
   ]
  },
  {
   "cell_type": "markdown",
   "id": "8f31f976",
   "metadata": {},
   "source": [
    "# Section 2: Modeling"
   ]
  },
  {
   "cell_type": "markdown",
   "id": "8fe4de7b",
   "metadata": {},
   "source": [
    "## Section 2.1: Standardization"
   ]
  },
  {
   "cell_type": "code",
   "execution_count": 57,
   "id": "4244ce1d",
   "metadata": {},
   "outputs": [
    {
     "data": {
      "text/html": [
       "<div>\n",
       "<style scoped>\n",
       "    .dataframe tbody tr th:only-of-type {\n",
       "        vertical-align: middle;\n",
       "    }\n",
       "\n",
       "    .dataframe tbody tr th {\n",
       "        vertical-align: top;\n",
       "    }\n",
       "\n",
       "    .dataframe thead th {\n",
       "        text-align: right;\n",
       "    }\n",
       "</style>\n",
       "<table border=\"1\" class=\"dataframe\">\n",
       "  <thead>\n",
       "    <tr style=\"text-align: right;\">\n",
       "      <th></th>\n",
       "      <th>Avg_Total_Pymts_Ratio</th>\n",
       "      <th>Avg_Medicare_Pymt_Ratio</th>\n",
       "      <th>Avg_Total_Discharges_Ratio</th>\n",
       "      <th>Avg_Total_Pymt_byST</th>\n",
       "      <th>Medicare_Pymt_byST</th>\n",
       "      <th>Total_Discharges_byST</th>\n",
       "      <th>Avg_Total_Pymt_bySTDRG</th>\n",
       "      <th>Medicare_Pymt_bySTDRG</th>\n",
       "      <th>Total_Discharges_bySTDRG</th>\n",
       "      <th>Avg_Total_Pymt_bySTDRG_avg</th>\n",
       "      <th>Medicare_Pymt_bySTDRG_avg</th>\n",
       "      <th>Total_Discharges_bySTDRG_avg</th>\n",
       "    </tr>\n",
       "  </thead>\n",
       "  <tbody>\n",
       "    <tr>\n",
       "      <th>0</th>\n",
       "      <td>-0.512776</td>\n",
       "      <td>-0.510403</td>\n",
       "      <td>0.943640</td>\n",
       "      <td>-0.344831</td>\n",
       "      <td>-0.344831</td>\n",
       "      <td>1.128103</td>\n",
       "      <td>-1.116364</td>\n",
       "      <td>-1.116364</td>\n",
       "      <td>2.524320</td>\n",
       "      <td>-1.037184</td>\n",
       "      <td>-1.037184</td>\n",
       "      <td>3.286577</td>\n",
       "    </tr>\n",
       "    <tr>\n",
       "      <th>1</th>\n",
       "      <td>-0.511428</td>\n",
       "      <td>-0.481265</td>\n",
       "      <td>-0.563094</td>\n",
       "      <td>-0.343103</td>\n",
       "      <td>-0.343103</td>\n",
       "      <td>-0.547925</td>\n",
       "      <td>-0.120457</td>\n",
       "      <td>-0.120457</td>\n",
       "      <td>1.732056</td>\n",
       "      <td>-0.037967</td>\n",
       "      <td>-0.037967</td>\n",
       "      <td>1.469360</td>\n",
       "    </tr>\n",
       "    <tr>\n",
       "      <th>2</th>\n",
       "      <td>-0.557435</td>\n",
       "      <td>-0.552805</td>\n",
       "      <td>-0.367414</td>\n",
       "      <td>-0.402073</td>\n",
       "      <td>-0.402073</td>\n",
       "      <td>-0.330259</td>\n",
       "      <td>-0.240415</td>\n",
       "      <td>-0.240415</td>\n",
       "      <td>1.536120</td>\n",
       "      <td>-0.231628</td>\n",
       "      <td>-0.231628</td>\n",
       "      <td>1.298659</td>\n",
       "    </tr>\n",
       "  </tbody>\n",
       "</table>\n",
       "</div>"
      ],
      "text/plain": [
       "   Avg_Total_Pymts_Ratio  Avg_Medicare_Pymt_Ratio  Avg_Total_Discharges_Ratio  \\\n",
       "0              -0.512776                -0.510403                    0.943640   \n",
       "1              -0.511428                -0.481265                   -0.563094   \n",
       "2              -0.557435                -0.552805                   -0.367414   \n",
       "\n",
       "   Avg_Total_Pymt_byST  Medicare_Pymt_byST  Total_Discharges_byST  \\\n",
       "0            -0.344831           -0.344831               1.128103   \n",
       "1            -0.343103           -0.343103              -0.547925   \n",
       "2            -0.402073           -0.402073              -0.330259   \n",
       "\n",
       "   Avg_Total_Pymt_bySTDRG  Medicare_Pymt_bySTDRG  Total_Discharges_bySTDRG  \\\n",
       "0               -1.116364              -1.116364                  2.524320   \n",
       "1               -0.120457              -0.120457                  1.732056   \n",
       "2               -0.240415              -0.240415                  1.536120   \n",
       "\n",
       "   Avg_Total_Pymt_bySTDRG_avg  Medicare_Pymt_bySTDRG_avg  \\\n",
       "0                   -1.037184                  -1.037184   \n",
       "1                   -0.037967                  -0.037967   \n",
       "2                   -0.231628                  -0.231628   \n",
       "\n",
       "   Total_Discharges_bySTDRG_avg  \n",
       "0                      3.286577  \n",
       "1                      1.469360  \n",
       "2                      1.298659  "
      ]
     },
     "execution_count": 57,
     "metadata": {},
     "output_type": "execute_result"
    }
   ],
   "source": [
    "# 0.Standardize and Scale the Dataset\n",
    "from sklearn import preprocessing\n",
    "import numpy as np\n",
    "from sklearn.preprocessing import StandardScaler\n",
    "\n",
    "'''\n",
    "variables = ['Avg_Total_Pymts_Ratio', 'Avg_Medicare_Pymt_Ratio', 'Avg_Total_Discharges_Ratio', 'Avg_Total_Pymt_byST', 'Medicare_Pymt_byST','Total_Discharges_byST', 'Avg_Total_Pymt_bySTDRG', 'Medicare_Pymt_bySTDRG', 'Total_Discharges_bySTDRG', 'Avg_Total_Pymt_bySTDRG_avg', 'Medicare_Pymt_bySTDRG_avg', 'Total_Discharges_bySTDRG_avg']\n",
    "x = df.loc[:, variables].values\n",
    "#y = df.loc[:,[target]].values\n",
    "x = StandardScaler().fit_transform(x)\n",
    "x = pd.DataFrame(x)\n",
    "\n",
    "\n",
    "'''\n",
    "#0. Standardize and scale the Dataset, the numeric variables\n",
    "scaler = StandardScaler()\n",
    "scaler.fit(Features.drop(['DRG','ST'], axis=1))\n",
    "\n",
    "scaled_features = scaler.transform(Features.drop(['DRG','ST'], axis=1))\n",
    "scaled_df = pd.DataFrame(scaled_features, columns = Features.drop(['DRG','ST'],axis=1).columns)\n",
    "\n",
    "scaled_df.head(3)"
   ]
  },
  {
   "cell_type": "markdown",
   "id": "d8b4d7dc",
   "metadata": {},
   "source": [
    "## Section 2.2: PCA"
   ]
  },
  {
   "cell_type": "markdown",
   "id": "4f6ce03f",
   "metadata": {},
   "source": [
    "### What's PCA?\n",
    "PCA stands for Principal Component Analysis, it's a dimension reduction technique, the main goal is to lower/reduce dimensions and preserving as much information and variance as possible; to achieve the closer distance from data point to projected lines, PCA needs to maximize the length of the other right-angled side since the distance from the data point to the origin is constant(Pythagorean theorem).\n",
    "\n",
    "### Why PCA?\n",
    "Since we have previouly created 12 features, PCA could helps in reducing the number of redundant features while retaining as much information as possible, therefore increase the readibility/interpretablity of modeling."
   ]
  },
  {
   "cell_type": "markdown",
   "id": "1fc41b65",
   "metadata": {},
   "source": [
    "### Section 2.2.1: Train-test split"
   ]
  },
  {
   "cell_type": "code",
   "execution_count": 58,
   "id": "e1a13270",
   "metadata": {},
   "outputs": [],
   "source": [
    "#split dataset\n",
    "from sklearn.model_selection import train_test_split\n",
    "\n",
    "# Split the data into training and testing sets\n",
    "X_train, X_test = train_test_split(scaled_df, test_size=0.3, random_state=42)"
   ]
  },
  {
   "cell_type": "markdown",
   "id": "891ce125",
   "metadata": {},
   "source": [
    "### Section 2.2.2: Build PCA model"
   ]
  },
  {
   "cell_type": "code",
   "execution_count": 59,
   "id": "2614b5f1",
   "metadata": {},
   "outputs": [],
   "source": [
    "from pyod.models.pca import PCA\n",
    "pca = PCA(contamination=0.05) \n",
    "pca.fit(X_train)\n",
    "\n",
    "# get the prediction labels and outlier scores of the training data\n",
    "y_train_pred = pca.labels_  # binary labels (0: inliers, 1: outliers)\n",
    "y_train_scores = pca.decision_scores_  # .decision_scores_ yields the raw outlier scores for the training data\n",
    "y_train_scores = pca.decision_function(X_train) # You also can use .decision_function()\n",
    "y_train_pred = pca.predict(X_train) # You also can use .decision_function()\n",
    "\n",
    "y_test_scores = pca.decision_function(X_test) # You also can use .decision_function()\n",
    "y_test_pred = pca.predict(X_test) # You also can use .decision_function()"
   ]
  },
  {
   "cell_type": "code",
   "execution_count": 60,
   "id": "9b31ee6f",
   "metadata": {},
   "outputs": [
    {
     "data": {
      "text/plain": [
       "{'contamination': 0.05,\n",
       " 'copy': True,\n",
       " 'iterated_power': 'auto',\n",
       " 'n_components': None,\n",
       " 'n_selected_components': None,\n",
       " 'random_state': None,\n",
       " 'standardization': True,\n",
       " 'svd_solver': 'auto',\n",
       " 'tol': 0.0,\n",
       " 'weighted': True,\n",
       " 'whiten': False}"
      ]
     },
     "execution_count": 60,
     "metadata": {},
     "output_type": "execute_result"
    }
   ],
   "source": [
    "pca.get_params()"
   ]
  },
  {
   "cell_type": "code",
   "execution_count": 61,
   "id": "cad4f8f1",
   "metadata": {},
   "outputs": [
    {
     "data": {
      "text/plain": [
       "[array([4.19784459e+00, 3.74521485e+00, 1.99316008e+00, 1.93752937e+00,\n",
       "        5.89790353e-02, 3.71236874e-02, 1.13169497e-02, 1.04460761e-02,\n",
       "        8.49048735e-03, 1.88607628e-33, 1.35501939e-33, 1.34997971e-35]),\n",
       " array([3.49817318e-01, 3.12098504e-01, 1.66095218e-01, 1.61459366e-01,\n",
       "        4.91487655e-03, 3.09361351e-03, 9.43070883e-04, 8.70498719e-04,\n",
       "        7.07534414e-04, 1.57171646e-34, 1.12917293e-34, 1.12497323e-36])]"
      ]
     },
     "execution_count": 61,
     "metadata": {},
     "output_type": "execute_result"
    }
   ],
   "source": [
    "[pca.explained_variance_,\n",
    "pca.explained_variance_ratio_]"
   ]
  },
  {
   "cell_type": "code",
   "execution_count": 62,
   "id": "72a5a073",
   "metadata": {},
   "outputs": [
    {
     "name": "stdout",
     "output_type": "stream",
     "text": [
      "['0.3498173180', '0.3120985040', '0.1660952180', '0.1614593660', '0.0049148765', '0.0030936135', '0.0009430709', '0.0008704987', '0.0007075344', '0.0000000000', '0.0000000000', '0.0000000000']\n"
     ]
    }
   ],
   "source": [
    "explained_variance = pca.explained_variance_ratio_\n",
    "explained_variance\n",
    "\n",
    "explained_variance = np.array([3.49817318e-01, 3.12098504e-01, 1.66095218e-01, 1.61459366e-01, 4.91487655e-03, 3.09361351e-03, 9.43070883e-04, 8.70498719e-04, 7.07534414e-04, 1.57171646e-34, 1.12917293e-34, 1.12497323e-36])\n",
    "formatted_explained_variance = [\"{:.10f}\".format(variance) for variance in explained_variance]\n",
    "\n",
    "# Print the formatted numbers\n",
    "print(formatted_explained_variance)"
   ]
  },
  {
   "cell_type": "code",
   "execution_count": 63,
   "id": "9a93bbb6",
   "metadata": {},
   "outputs": [
    {
     "data": {
      "text/html": [
       "<div>\n",
       "<style scoped>\n",
       "    .dataframe tbody tr th:only-of-type {\n",
       "        vertical-align: middle;\n",
       "    }\n",
       "\n",
       "    .dataframe tbody tr th {\n",
       "        vertical-align: top;\n",
       "    }\n",
       "\n",
       "    .dataframe thead th {\n",
       "        text-align: right;\n",
       "    }\n",
       "</style>\n",
       "<table border=\"1\" class=\"dataframe\">\n",
       "  <thead>\n",
       "    <tr style=\"text-align: right;\">\n",
       "      <th></th>\n",
       "      <th>PC</th>\n",
       "      <th>Explained Variance</th>\n",
       "      <th>Cumulative Variance</th>\n",
       "    </tr>\n",
       "  </thead>\n",
       "  <tbody>\n",
       "    <tr>\n",
       "      <th>0</th>\n",
       "      <td></td>\n",
       "      <td>0.000000e+00</td>\n",
       "      <td>0.000</td>\n",
       "    </tr>\n",
       "    <tr>\n",
       "      <th>1</th>\n",
       "      <td>PC1</td>\n",
       "      <td>3.498173e-01</td>\n",
       "      <td>0.350</td>\n",
       "    </tr>\n",
       "    <tr>\n",
       "      <th>2</th>\n",
       "      <td>PC2</td>\n",
       "      <td>3.120985e-01</td>\n",
       "      <td>0.662</td>\n",
       "    </tr>\n",
       "    <tr>\n",
       "      <th>3</th>\n",
       "      <td>PC3</td>\n",
       "      <td>1.660952e-01</td>\n",
       "      <td>0.828</td>\n",
       "    </tr>\n",
       "    <tr>\n",
       "      <th>4</th>\n",
       "      <td>PC4</td>\n",
       "      <td>1.614594e-01</td>\n",
       "      <td>0.989</td>\n",
       "    </tr>\n",
       "    <tr>\n",
       "      <th>5</th>\n",
       "      <td>PC5</td>\n",
       "      <td>4.914877e-03</td>\n",
       "      <td>0.994</td>\n",
       "    </tr>\n",
       "    <tr>\n",
       "      <th>6</th>\n",
       "      <td>PC6</td>\n",
       "      <td>3.093614e-03</td>\n",
       "      <td>0.997</td>\n",
       "    </tr>\n",
       "    <tr>\n",
       "      <th>7</th>\n",
       "      <td>PC7</td>\n",
       "      <td>9.430709e-04</td>\n",
       "      <td>0.998</td>\n",
       "    </tr>\n",
       "    <tr>\n",
       "      <th>8</th>\n",
       "      <td>PC8</td>\n",
       "      <td>8.704987e-04</td>\n",
       "      <td>0.999</td>\n",
       "    </tr>\n",
       "    <tr>\n",
       "      <th>9</th>\n",
       "      <td>PC9</td>\n",
       "      <td>7.075344e-04</td>\n",
       "      <td>1.000</td>\n",
       "    </tr>\n",
       "    <tr>\n",
       "      <th>10</th>\n",
       "      <td>PC10</td>\n",
       "      <td>1.571716e-34</td>\n",
       "      <td>1.000</td>\n",
       "    </tr>\n",
       "    <tr>\n",
       "      <th>11</th>\n",
       "      <td>PC11</td>\n",
       "      <td>1.129173e-34</td>\n",
       "      <td>1.000</td>\n",
       "    </tr>\n",
       "    <tr>\n",
       "      <th>12</th>\n",
       "      <td>PC12</td>\n",
       "      <td>1.124973e-36</td>\n",
       "      <td>1.000</td>\n",
       "    </tr>\n",
       "  </tbody>\n",
       "</table>\n",
       "</div>"
      ],
      "text/plain": [
       "      PC  Explained Variance  Cumulative Variance\n",
       "0               0.000000e+00                0.000\n",
       "1    PC1        3.498173e-01                0.350\n",
       "2    PC2        3.120985e-01                0.662\n",
       "3    PC3        1.660952e-01                0.828\n",
       "4    PC4        1.614594e-01                0.989\n",
       "5    PC5        4.914877e-03                0.994\n",
       "6    PC6        3.093614e-03                0.997\n",
       "7    PC7        9.430709e-04                0.998\n",
       "8    PC8        8.704987e-04                0.999\n",
       "9    PC9        7.075344e-04                1.000\n",
       "10  PC10        1.571716e-34                1.000\n",
       "11  PC11        1.129173e-34                1.000\n",
       "12  PC12        1.124973e-36                1.000"
      ]
     },
     "execution_count": 63,
     "metadata": {},
     "output_type": "execute_result"
    }
   ],
   "source": [
    "explained_variance = np.insert(explained_variance, 0, 0)\n",
    "cumulative_variance = np.cumsum(np.round(explained_variance, decimals=3))\n",
    "\n",
    "pc_df = pd.DataFrame(['','PC1', 'PC2', 'PC3','PC4',\"PC5\",'PC6','PC7','PC8','PC9','PC10','PC11','PC12'], columns=['PC'])\n",
    "explained_variance_df = pd.DataFrame(explained_variance, columns=['Explained Variance'])\n",
    "cumulative_variance_df = pd.DataFrame(cumulative_variance, columns=['Cumulative Variance'])\n",
    "\n",
    "df_explained_variance = pd.concat([pc_df, explained_variance_df, cumulative_variance_df], axis=1)\n",
    "df_explained_variance\n"
   ]
  },
  {
   "cell_type": "markdown",
   "id": "661944ff",
   "metadata": {},
   "source": [
    "### Section 2.2.3: Determine the threshold"
   ]
  },
  {
   "cell_type": "code",
   "execution_count": 64,
   "id": "08d988c9",
   "metadata": {},
   "outputs": [
    {
     "name": "stdout",
     "output_type": "stream",
     "text": [
      "The threshold for the defined comtanimation rate: 6.098192472581077e+36\n"
     ]
    }
   ],
   "source": [
    "print(\"The threshold for the defined comtanimation rate:\" , pca.threshold_)"
   ]
  },
  {
   "cell_type": "code",
   "execution_count": 65,
   "id": "c25c55c3",
   "metadata": {},
   "outputs": [
    {
     "data": {
      "image/png": "[encoded data removed]",
      "text/plain": [
       "<Figure size 640x480 with 1 Axes>"
      ]
     },
     "metadata": {},
     "output_type": "display_data"
    }
   ],
   "source": [
    "import matplotlib.pyplot as plt\n",
    "plt.hist(y_train_scores, bins='auto')  # arguments are passed to np.histogram\n",
    "plt.title(\"Histogram with 'auto' bins\")\n",
    "plt.xlabel('PCA outlier score')\n",
    "plt.show()"
   ]
  },
  {
   "cell_type": "markdown",
   "id": "d92c4d00",
   "metadata": {},
   "source": [
    "### Section 2.2.4: Descriptive statistics of the normal and the abnormal groups"
   ]
  },
  {
   "cell_type": "code",
   "execution_count": 66,
   "id": "3f80fd83",
   "metadata": {},
   "outputs": [
    {
     "data": {
      "text/html": [
       "<div>\n",
       "<style scoped>\n",
       "    .dataframe tbody tr th:only-of-type {\n",
       "        vertical-align: middle;\n",
       "    }\n",
       "\n",
       "    .dataframe tbody tr th {\n",
       "        vertical-align: top;\n",
       "    }\n",
       "\n",
       "    .dataframe thead th {\n",
       "        text-align: right;\n",
       "    }\n",
       "</style>\n",
       "<table border=\"1\" class=\"dataframe\">\n",
       "  <thead>\n",
       "    <tr style=\"text-align: right;\">\n",
       "      <th></th>\n",
       "      <th>Group</th>\n",
       "      <th>Count</th>\n",
       "      <th>Count %</th>\n",
       "      <th>Avg_Total_Pymts_Ratio</th>\n",
       "      <th>Avg_Medicare_Pymt_Ratio</th>\n",
       "      <th>Avg_Total_Discharges_Ratio</th>\n",
       "      <th>Avg_Total_Pymt_byST</th>\n",
       "      <th>Medicare_Pymt_byST</th>\n",
       "      <th>Total_Discharges_byST</th>\n",
       "      <th>Avg_Total_Pymt_bySTDRG</th>\n",
       "      <th>Medicare_Pymt_bySTDRG</th>\n",
       "      <th>Total_Discharges_bySTDRG</th>\n",
       "      <th>Avg_Total_Pymt_bySTDRG_avg</th>\n",
       "      <th>Medicare_Pymt_bySTDRG_avg</th>\n",
       "      <th>Total_Discharges_bySTDRG_avg</th>\n",
       "      <th>Anomaly_Score</th>\n",
       "    </tr>\n",
       "  </thead>\n",
       "  <tbody>\n",
       "    <tr>\n",
       "      <th>0</th>\n",
       "      <td>Normal</td>\n",
       "      <td>108437</td>\n",
       "      <td>94.999343</td>\n",
       "      <td>-0.11</td>\n",
       "      <td>-0.11</td>\n",
       "      <td>-0.05</td>\n",
       "      <td>-0.11</td>\n",
       "      <td>-0.11</td>\n",
       "      <td>-0.05</td>\n",
       "      <td>-0.06</td>\n",
       "      <td>-0.06</td>\n",
       "      <td>-0.04</td>\n",
       "      <td>-0.06</td>\n",
       "      <td>-0.06</td>\n",
       "      <td>-0.04</td>\n",
       "      <td>2.419126e+36</td>\n",
       "    </tr>\n",
       "    <tr>\n",
       "      <th>1</th>\n",
       "      <td>Outlier</td>\n",
       "      <td>5708</td>\n",
       "      <td>5.000657</td>\n",
       "      <td>2.12</td>\n",
       "      <td>2.10</td>\n",
       "      <td>0.98</td>\n",
       "      <td>2.10</td>\n",
       "      <td>2.10</td>\n",
       "      <td>0.99</td>\n",
       "      <td>1.07</td>\n",
       "      <td>1.07</td>\n",
       "      <td>0.79</td>\n",
       "      <td>1.07</td>\n",
       "      <td>1.07</td>\n",
       "      <td>0.78</td>\n",
       "      <td>8.568635e+36</td>\n",
       "    </tr>\n",
       "  </tbody>\n",
       "</table>\n",
       "</div>"
      ],
      "text/plain": [
       "     Group   Count    Count %  Avg_Total_Pymts_Ratio  Avg_Medicare_Pymt_Ratio  \\\n",
       "0   Normal  108437  94.999343                  -0.11                    -0.11   \n",
       "1  Outlier    5708   5.000657                   2.12                     2.10   \n",
       "\n",
       "   Avg_Total_Discharges_Ratio  Avg_Total_Pymt_byST  Medicare_Pymt_byST  \\\n",
       "0                       -0.05                -0.11               -0.11   \n",
       "1                        0.98                 2.10                2.10   \n",
       "\n",
       "   Total_Discharges_byST  Avg_Total_Pymt_bySTDRG  Medicare_Pymt_bySTDRG  \\\n",
       "0                  -0.05                   -0.06                  -0.06   \n",
       "1                   0.99                    1.07                   1.07   \n",
       "\n",
       "   Total_Discharges_bySTDRG  Avg_Total_Pymt_bySTDRG_avg  \\\n",
       "0                     -0.04                       -0.06   \n",
       "1                      0.79                        1.07   \n",
       "\n",
       "   Medicare_Pymt_bySTDRG_avg  Total_Discharges_bySTDRG_avg  Anomaly_Score  \n",
       "0                      -0.06                         -0.04   2.419126e+36  \n",
       "1                       1.07                          0.78   8.568635e+36  "
      ]
     },
     "execution_count": 66,
     "metadata": {},
     "output_type": "execute_result"
    }
   ],
   "source": [
    "threshold = pca.threshold_\n",
    "threshold\n",
    "\n",
    "def descriptive_stat_threshold(df,pred_score, threshold):\n",
    "    # Let's see how many '0's and '1's.\n",
    "    df = pd.DataFrame(df)\n",
    "    df['Anomaly_Score'] = pred_score\n",
    "    df['Group'] = np.where(df['Anomaly_Score']< threshold, 'Normal', 'Outlier')\n",
    "\n",
    "    # Now let's show the summary statistics:\n",
    "    cnt = df.groupby('Group')['Anomaly_Score'].count().reset_index().rename(columns={'Anomaly_Score':'Count'})\n",
    "    cnt['Count %'] = (cnt['Count'] / cnt['Count'].sum()) * 100 # The count and count %\n",
    "    stat = df.groupby('Group').mean().round(2).reset_index() # The avg.\n",
    "    stat = cnt.merge(stat, left_on='Group',right_on='Group') # Put the count and the avg. together\n",
    "    return (stat)\n",
    "\n",
    "descriptive_stat_threshold(X_train,y_train_scores, threshold)"
   ]
  },
  {
   "cell_type": "code",
   "execution_count": 67,
   "id": "3887ddde",
   "metadata": {},
   "outputs": [
    {
     "data": {
      "text/html": [
       "<div>\n",
       "<style scoped>\n",
       "    .dataframe tbody tr th:only-of-type {\n",
       "        vertical-align: middle;\n",
       "    }\n",
       "\n",
       "    .dataframe tbody tr th {\n",
       "        vertical-align: top;\n",
       "    }\n",
       "\n",
       "    .dataframe thead th {\n",
       "        text-align: right;\n",
       "    }\n",
       "</style>\n",
       "<table border=\"1\" class=\"dataframe\">\n",
       "  <thead>\n",
       "    <tr style=\"text-align: right;\">\n",
       "      <th></th>\n",
       "      <th>Group</th>\n",
       "      <th>Count</th>\n",
       "      <th>Count %</th>\n",
       "      <th>Avg_Total_Pymts_Ratio</th>\n",
       "      <th>Avg_Medicare_Pymt_Ratio</th>\n",
       "      <th>Avg_Total_Discharges_Ratio</th>\n",
       "      <th>Avg_Total_Pymt_byST</th>\n",
       "      <th>Medicare_Pymt_byST</th>\n",
       "      <th>Total_Discharges_byST</th>\n",
       "      <th>Avg_Total_Pymt_bySTDRG</th>\n",
       "      <th>Medicare_Pymt_bySTDRG</th>\n",
       "      <th>Total_Discharges_bySTDRG</th>\n",
       "      <th>Avg_Total_Pymt_bySTDRG_avg</th>\n",
       "      <th>Medicare_Pymt_bySTDRG_avg</th>\n",
       "      <th>Total_Discharges_bySTDRG_avg</th>\n",
       "      <th>Anomaly_Score</th>\n",
       "    </tr>\n",
       "  </thead>\n",
       "  <tbody>\n",
       "    <tr>\n",
       "      <th>0</th>\n",
       "      <td>Normal</td>\n",
       "      <td>46537</td>\n",
       "      <td>95.128782</td>\n",
       "      <td>-0.11</td>\n",
       "      <td>-0.11</td>\n",
       "      <td>-0.05</td>\n",
       "      <td>-0.11</td>\n",
       "      <td>-0.11</td>\n",
       "      <td>-0.05</td>\n",
       "      <td>-0.05</td>\n",
       "      <td>-0.05</td>\n",
       "      <td>-0.04</td>\n",
       "      <td>-0.06</td>\n",
       "      <td>-0.06</td>\n",
       "      <td>-0.04</td>\n",
       "      <td>2.421752e+36</td>\n",
       "    </tr>\n",
       "    <tr>\n",
       "      <th>1</th>\n",
       "      <td>Outlier</td>\n",
       "      <td>2383</td>\n",
       "      <td>4.871218</td>\n",
       "      <td>2.05</td>\n",
       "      <td>2.03</td>\n",
       "      <td>0.90</td>\n",
       "      <td>2.02</td>\n",
       "      <td>2.02</td>\n",
       "      <td>0.88</td>\n",
       "      <td>1.14</td>\n",
       "      <td>1.14</td>\n",
       "      <td>0.81</td>\n",
       "      <td>1.14</td>\n",
       "      <td>1.14</td>\n",
       "      <td>0.81</td>\n",
       "      <td>8.454950e+36</td>\n",
       "    </tr>\n",
       "  </tbody>\n",
       "</table>\n",
       "</div>"
      ],
      "text/plain": [
       "     Group  Count    Count %  Avg_Total_Pymts_Ratio  Avg_Medicare_Pymt_Ratio  \\\n",
       "0   Normal  46537  95.128782                  -0.11                    -0.11   \n",
       "1  Outlier   2383   4.871218                   2.05                     2.03   \n",
       "\n",
       "   Avg_Total_Discharges_Ratio  Avg_Total_Pymt_byST  Medicare_Pymt_byST  \\\n",
       "0                       -0.05                -0.11               -0.11   \n",
       "1                        0.90                 2.02                2.02   \n",
       "\n",
       "   Total_Discharges_byST  Avg_Total_Pymt_bySTDRG  Medicare_Pymt_bySTDRG  \\\n",
       "0                  -0.05                   -0.05                  -0.05   \n",
       "1                   0.88                    1.14                   1.14   \n",
       "\n",
       "   Total_Discharges_bySTDRG  Avg_Total_Pymt_bySTDRG_avg  \\\n",
       "0                     -0.04                       -0.06   \n",
       "1                      0.81                        1.14   \n",
       "\n",
       "   Medicare_Pymt_bySTDRG_avg  Total_Discharges_bySTDRG_avg  Anomaly_Score  \n",
       "0                      -0.06                         -0.04   2.421752e+36  \n",
       "1                       1.14                          0.81   8.454950e+36  "
      ]
     },
     "execution_count": 67,
     "metadata": {},
     "output_type": "execute_result"
    }
   ],
   "source": [
    "descriptive_stat_threshold(X_test,y_test_scores, threshold)"
   ]
  },
  {
   "cell_type": "markdown",
   "id": "1a7a8333",
   "metadata": {},
   "source": [
    "### PCA Analysis:\n",
    "1. From the PCA cumulative variance graph, we can conclude that PC1 explained 35% of the variance, PC1-PC4 explain 98.9% of the variance, PC5-PC12 explained the left variance (less than 1.1%);\n",
    "2. 4 principal components covered 98.9% variance and data for the whole dataset, PCA helps us to reduce the dimension of large dataset and avoid overfitting problem."
   ]
  },
  {
   "cell_type": "markdown",
   "id": "77d0c81b",
   "metadata": {},
   "source": [
    "### Identify anomalous cluster:\n",
    "1. Based on the threshold, we seperate the normal and outliers group, for each group we calculate the anomaly score in mean, for both train and test dataset;\n",
    "2. The anomaly score of each variable in 'outlier' group is higher than 'normal' group, for example, in feature 'Avg_Total_Pymts_Ratio', the anomaly score of 'normal' group in mean is -0.11 and the anomaly score of 'outlier' group is 2.12; also, the anomaly score of 'outlier' group is 4 times highere than the 'normal' group. Therefor 'outlier' group in both train and test dataset is the anomalous/outlier group."
   ]
  },
  {
   "cell_type": "markdown",
   "id": "10b5d345",
   "metadata": {},
   "source": [
    "## Section 2.3: KNN"
   ]
  },
  {
   "cell_type": "markdown",
   "id": "6d20e217",
   "metadata": {},
   "source": [
    "### What's KNN?\n",
    "KNN stands for k-Nearest Neighbors. since KNNs is used for the computation of the distance to the k neighbors, so KNN does not have any learning involved, therefore, there are no parameters we can tune to make the performance better.\n",
    "\n",
    "### Why KNN?\n",
    "In anomaly detection,  an outlier is a point that is distant from neighboring points, a higher score means abnormal datapoint"
   ]
  },
  {
   "cell_type": "markdown",
   "id": "5f18bd96",
   "metadata": {},
   "source": [
    "### Section 2.3.1: Train-test split"
   ]
  },
  {
   "cell_type": "code",
   "execution_count": 68,
   "id": "cb8c8441",
   "metadata": {},
   "outputs": [],
   "source": [
    "X = scaled_df\n",
    "#y = data[['DRG','Provider_Name','Provider_City','Provider_State']]"
   ]
  },
  {
   "cell_type": "code",
   "execution_count": 69,
   "id": "08eb71df",
   "metadata": {},
   "outputs": [],
   "source": [
    "# 1. Split data into X_train and X_test\n",
    "from pyod.models.knn import KNN\n",
    "from sklearn.model_selection import train_test_split\n",
    "\n",
    "X_train, X_test = train_test_split(X, test_size=0.3, random_state=42)\n",
    "#X_train_pd = pd.DataFrame(X_train)"
   ]
  },
  {
   "cell_type": "code",
   "execution_count": 70,
   "id": "875d90fc",
   "metadata": {},
   "outputs": [
    {
     "name": "stdout",
     "output_type": "stream",
     "text": [
      "(114145, 12) (48920, 12)\n"
     ]
    }
   ],
   "source": [
    "print(X_train.shape, X_test.shape)"
   ]
  },
  {
   "cell_type": "markdown",
   "id": "2aef883e",
   "metadata": {},
   "source": [
    "### Section 2.3.2: Build KNN model"
   ]
  },
  {
   "cell_type": "code",
   "execution_count": 71,
   "id": "fa5959d2",
   "metadata": {},
   "outputs": [],
   "source": [
    "# train kNN detector\n",
    "from pyod.models.knn import KNN\n",
    "knn = KNN()\n",
    "knn.fit(X_train)\n",
    "# If you want to see the predictions of the training data, you can use this way:\n",
    "y_train_scores = knn.decision_scores_"
   ]
  },
  {
   "cell_type": "code",
   "execution_count": 72,
   "id": "223b0a11",
   "metadata": {},
   "outputs": [
    {
     "data": {
      "text/plain": [
       "{'algorithm': 'auto',\n",
       " 'contamination': 0.1,\n",
       " 'leaf_size': 30,\n",
       " 'method': 'largest',\n",
       " 'metric': 'minkowski',\n",
       " 'metric_params': None,\n",
       " 'n_jobs': 1,\n",
       " 'n_neighbors': 5,\n",
       " 'p': 2,\n",
       " 'radius': 1.0}"
      ]
     },
     "execution_count": 72,
     "metadata": {},
     "output_type": "execute_result"
    }
   ],
   "source": [
    "knn.get_params()"
   ]
  },
  {
   "cell_type": "markdown",
   "id": "30322b9d",
   "metadata": {},
   "source": [
    "### Section 2.3.3: Determine the threshold"
   ]
  },
  {
   "cell_type": "code",
   "execution_count": 73,
   "id": "6713c9d3",
   "metadata": {},
   "outputs": [
    {
     "name": "stdout",
     "output_type": "stream",
     "text": [
      "The training data: {0: 109021, 1: 5124}\n",
      "The training data: {0: 46486, 1: 2434}\n",
      "The threshold for the defined comtanimation rate: 0.8410626227549308\n"
     ]
    }
   ],
   "source": [
    "from pyod.models.knn import KNN\n",
    "knn = KNN(contamination=0.05) \n",
    "knn.fit(X_train)\n",
    "\n",
    "# Training data\n",
    "y_train_scores = knn.decision_function(X_train)\n",
    "y_train_pred = knn.predict(X_train)\n",
    "\n",
    "# Test data\n",
    "y_test_scores = knn.decision_function(X_test)\n",
    "y_test_pred = knn.predict(X_test) # outlier labels (0 or 1)\n",
    "\n",
    "def count_stat(vector):\n",
    "    # Because it is '0' and '1', we can run a count statistic. \n",
    "    unique, counts = np.unique(vector, return_counts=True)\n",
    "    return dict(zip(unique, counts))\n",
    "\n",
    "print(\"The training data:\", count_stat(y_train_pred))\n",
    "print(\"The training data:\", count_stat(y_test_pred))\n",
    "# Threshold for the defined comtanimation rate\n",
    "print(\"The threshold for the defined comtanimation rate:\" , knn.threshold_)"
   ]
  },
  {
   "cell_type": "code",
   "execution_count": 74,
   "id": "0eeaa49c",
   "metadata": {},
   "outputs": [
    {
     "data": {
      "image/png": "[encoded data removed]",
      "text/plain": [
       "<Figure size 640x480 with 1 Axes>"
      ]
     },
     "metadata": {},
     "output_type": "display_data"
    }
   ],
   "source": [
    "import matplotlib.pyplot as plt\n",
    "plt.hist(y_train_scores, bins='auto')  # arguments are passed to np.histogram\n",
    "plt.title(\"Histogram with 'auto' bins\")\n",
    "plt.xlabel('KNN outlier score')\n",
    "plt.show()"
   ]
  },
  {
   "cell_type": "markdown",
   "id": "2495ca55",
   "metadata": {},
   "source": [
    "### Section 2.3.4: Descriptive statistics of the normal and the abnormal groups"
   ]
  },
  {
   "cell_type": "code",
   "execution_count": 75,
   "id": "804d22aa",
   "metadata": {},
   "outputs": [
    {
     "data": {
      "text/html": [
       "<div>\n",
       "<style scoped>\n",
       "    .dataframe tbody tr th:only-of-type {\n",
       "        vertical-align: middle;\n",
       "    }\n",
       "\n",
       "    .dataframe tbody tr th {\n",
       "        vertical-align: top;\n",
       "    }\n",
       "\n",
       "    .dataframe thead th {\n",
       "        text-align: right;\n",
       "    }\n",
       "</style>\n",
       "<table border=\"1\" class=\"dataframe\">\n",
       "  <thead>\n",
       "    <tr style=\"text-align: right;\">\n",
       "      <th></th>\n",
       "      <th>Group</th>\n",
       "      <th>Count</th>\n",
       "      <th>Count %</th>\n",
       "      <th>Avg_Total_Pymts_Ratio</th>\n",
       "      <th>Avg_Medicare_Pymt_Ratio</th>\n",
       "      <th>Avg_Total_Discharges_Ratio</th>\n",
       "      <th>Avg_Total_Pymt_byST</th>\n",
       "      <th>Medicare_Pymt_byST</th>\n",
       "      <th>Total_Discharges_byST</th>\n",
       "      <th>Avg_Total_Pymt_bySTDRG</th>\n",
       "      <th>Medicare_Pymt_bySTDRG</th>\n",
       "      <th>Total_Discharges_bySTDRG</th>\n",
       "      <th>Avg_Total_Pymt_bySTDRG_avg</th>\n",
       "      <th>Medicare_Pymt_bySTDRG_avg</th>\n",
       "      <th>Total_Discharges_bySTDRG_avg</th>\n",
       "      <th>Anomaly_Score</th>\n",
       "    </tr>\n",
       "  </thead>\n",
       "  <tbody>\n",
       "    <tr>\n",
       "      <th>0</th>\n",
       "      <td>Normal</td>\n",
       "      <td>109021</td>\n",
       "      <td>95.510973</td>\n",
       "      <td>-0.07</td>\n",
       "      <td>-0.07</td>\n",
       "      <td>-0.07</td>\n",
       "      <td>-0.07</td>\n",
       "      <td>-0.07</td>\n",
       "      <td>-0.08</td>\n",
       "      <td>-0.04</td>\n",
       "      <td>-0.04</td>\n",
       "      <td>-0.07</td>\n",
       "      <td>-0.04</td>\n",
       "      <td>-0.04</td>\n",
       "      <td>-0.07</td>\n",
       "      <td>0.34</td>\n",
       "    </tr>\n",
       "    <tr>\n",
       "      <th>1</th>\n",
       "      <td>Outlier</td>\n",
       "      <td>5124</td>\n",
       "      <td>4.489027</td>\n",
       "      <td>1.56</td>\n",
       "      <td>1.48</td>\n",
       "      <td>1.63</td>\n",
       "      <td>1.48</td>\n",
       "      <td>1.48</td>\n",
       "      <td>1.65</td>\n",
       "      <td>0.80</td>\n",
       "      <td>0.80</td>\n",
       "      <td>1.48</td>\n",
       "      <td>0.80</td>\n",
       "      <td>0.80</td>\n",
       "      <td>1.42</td>\n",
       "      <td>1.27</td>\n",
       "    </tr>\n",
       "  </tbody>\n",
       "</table>\n",
       "</div>"
      ],
      "text/plain": [
       "     Group   Count    Count %  Avg_Total_Pymts_Ratio  Avg_Medicare_Pymt_Ratio  \\\n",
       "0   Normal  109021  95.510973                  -0.07                    -0.07   \n",
       "1  Outlier    5124   4.489027                   1.56                     1.48   \n",
       "\n",
       "   Avg_Total_Discharges_Ratio  Avg_Total_Pymt_byST  Medicare_Pymt_byST  \\\n",
       "0                       -0.07                -0.07               -0.07   \n",
       "1                        1.63                 1.48                1.48   \n",
       "\n",
       "   Total_Discharges_byST  Avg_Total_Pymt_bySTDRG  Medicare_Pymt_bySTDRG  \\\n",
       "0                  -0.08                   -0.04                  -0.04   \n",
       "1                   1.65                    0.80                   0.80   \n",
       "\n",
       "   Total_Discharges_bySTDRG  Avg_Total_Pymt_bySTDRG_avg  \\\n",
       "0                     -0.07                       -0.04   \n",
       "1                      1.48                        0.80   \n",
       "\n",
       "   Medicare_Pymt_bySTDRG_avg  Total_Discharges_bySTDRG_avg  Anomaly_Score  \n",
       "0                      -0.04                         -0.07           0.34  \n",
       "1                       0.80                          1.42           1.27  "
      ]
     },
     "execution_count": 75,
     "metadata": {},
     "output_type": "execute_result"
    }
   ],
   "source": [
    "threshold = knn.threshold_ # Or other value from the above histogram\n",
    "\n",
    "def descriptive_stat_threshold(df,pred_score, threshold):\n",
    "    # Let's see how many '0's and '1's.\n",
    "    df = pd.DataFrame(df)\n",
    "    df['Anomaly_Score'] = pred_score\n",
    "    df['Group'] = np.where(df['Anomaly_Score']< threshold, 'Normal', 'Outlier')\n",
    "\n",
    "    # Now let's show the summary statistics:\n",
    "    cnt = df.groupby('Group')['Anomaly_Score'].count().reset_index().rename(columns={'Anomaly_Score':'Count'})\n",
    "    cnt['Count %'] = (cnt['Count'] / cnt['Count'].sum()) * 100 # The count and count %\n",
    "    stat = df.groupby('Group').mean().round(2).reset_index() # The avg.\n",
    "    stat = cnt.merge(stat, left_on='Group',right_on='Group') # Put the count and the avg. together\n",
    "    return (stat)\n",
    "\n",
    "descriptive_stat_threshold(X_train,y_train_scores, threshold)"
   ]
  },
  {
   "cell_type": "code",
   "execution_count": 78,
   "id": "26224b53",
   "metadata": {},
   "outputs": [
    {
     "data": {
      "text/html": [
       "<div>\n",
       "<style scoped>\n",
       "    .dataframe tbody tr th:only-of-type {\n",
       "        vertical-align: middle;\n",
       "    }\n",
       "\n",
       "    .dataframe tbody tr th {\n",
       "        vertical-align: top;\n",
       "    }\n",
       "\n",
       "    .dataframe thead th {\n",
       "        text-align: right;\n",
       "    }\n",
       "</style>\n",
       "<table border=\"1\" class=\"dataframe\">\n",
       "  <thead>\n",
       "    <tr style=\"text-align: right;\">\n",
       "      <th></th>\n",
       "      <th>Group</th>\n",
       "      <th>Count</th>\n",
       "      <th>Count %</th>\n",
       "      <th>Avg_Total_Pymts_Ratio</th>\n",
       "      <th>Avg_Medicare_Pymt_Ratio</th>\n",
       "      <th>Avg_Total_Discharges_Ratio</th>\n",
       "      <th>Avg_Total_Pymt_byST</th>\n",
       "      <th>Medicare_Pymt_byST</th>\n",
       "      <th>Total_Discharges_byST</th>\n",
       "      <th>Avg_Total_Pymt_bySTDRG</th>\n",
       "      <th>Medicare_Pymt_bySTDRG</th>\n",
       "      <th>Total_Discharges_bySTDRG</th>\n",
       "      <th>Avg_Total_Pymt_bySTDRG_avg</th>\n",
       "      <th>Medicare_Pymt_bySTDRG_avg</th>\n",
       "      <th>Total_Discharges_bySTDRG_avg</th>\n",
       "      <th>Anomaly_Score</th>\n",
       "    </tr>\n",
       "  </thead>\n",
       "  <tbody>\n",
       "    <tr>\n",
       "      <th>0</th>\n",
       "      <td>Normal</td>\n",
       "      <td>46486</td>\n",
       "      <td>95.02453</td>\n",
       "      <td>-0.08</td>\n",
       "      <td>-0.08</td>\n",
       "      <td>-0.08</td>\n",
       "      <td>-0.08</td>\n",
       "      <td>-0.08</td>\n",
       "      <td>-0.08</td>\n",
       "      <td>-0.03</td>\n",
       "      <td>-0.03</td>\n",
       "      <td>-0.08</td>\n",
       "      <td>-0.04</td>\n",
       "      <td>-0.04</td>\n",
       "      <td>-0.07</td>\n",
       "      <td>0.35</td>\n",
       "    </tr>\n",
       "    <tr>\n",
       "      <th>1</th>\n",
       "      <td>Outlier</td>\n",
       "      <td>2434</td>\n",
       "      <td>4.97547</td>\n",
       "      <td>1.51</td>\n",
       "      <td>1.43</td>\n",
       "      <td>1.48</td>\n",
       "      <td>1.43</td>\n",
       "      <td>1.43</td>\n",
       "      <td>1.48</td>\n",
       "      <td>0.75</td>\n",
       "      <td>0.75</td>\n",
       "      <td>1.47</td>\n",
       "      <td>0.75</td>\n",
       "      <td>0.75</td>\n",
       "      <td>1.39</td>\n",
       "      <td>1.27</td>\n",
       "    </tr>\n",
       "  </tbody>\n",
       "</table>\n",
       "</div>"
      ],
      "text/plain": [
       "     Group  Count   Count %  Avg_Total_Pymts_Ratio  Avg_Medicare_Pymt_Ratio  \\\n",
       "0   Normal  46486  95.02453                  -0.08                    -0.08   \n",
       "1  Outlier   2434   4.97547                   1.51                     1.43   \n",
       "\n",
       "   Avg_Total_Discharges_Ratio  Avg_Total_Pymt_byST  Medicare_Pymt_byST  \\\n",
       "0                       -0.08                -0.08               -0.08   \n",
       "1                        1.48                 1.43                1.43   \n",
       "\n",
       "   Total_Discharges_byST  Avg_Total_Pymt_bySTDRG  Medicare_Pymt_bySTDRG  \\\n",
       "0                  -0.08                   -0.03                  -0.03   \n",
       "1                   1.48                    0.75                   0.75   \n",
       "\n",
       "   Total_Discharges_bySTDRG  Avg_Total_Pymt_bySTDRG_avg  \\\n",
       "0                     -0.08                       -0.04   \n",
       "1                      1.47                        0.75   \n",
       "\n",
       "   Medicare_Pymt_bySTDRG_avg  Total_Discharges_bySTDRG_avg  Anomaly_Score  \n",
       "0                      -0.04                         -0.07           0.35  \n",
       "1                       0.75                          1.39           1.27  "
      ]
     },
     "execution_count": 78,
     "metadata": {},
     "output_type": "execute_result"
    }
   ],
   "source": [
    "descriptive_stat_threshold(X_test,y_test_scores, threshold)"
   ]
  },
  {
   "cell_type": "markdown",
   "id": "6282c503",
   "metadata": {},
   "source": [
    "### KNN Analysis:\n",
    "1. For KNN modeling, we set up the k to 5, which is compute the distance for 5 neighbors, for each data point,it then identifies the 5 points that are closest to the one being evaluated.\n",
    "2. For classify, if the majority of the k nearest neighbors are of the same class (in the case of classification), then the point is classified as that class; however, if the point has a different class from the majority, or if there is no clear majority, it may be considered an outlier.\n",
    "3. Therefor, if the point's class differs significantly from the majority of its 5 nearest neighbors, it could be considered an anomaly."
   ]
  },
  {
   "cell_type": "markdown",
   "id": "9031f4dc",
   "metadata": {},
   "source": [
    "### Identify anomalous cluster:\n",
    "1. Based on the threshold=0.84, we seperate the normal and outliers group, for each group we calculate the anomaly score in mean, for both train and test dataset;\n",
    "2. The anomaly score of each variable in 'outlier' group is higher than 'normal' group, for example, in feature 'Avg_Total_Pymts_Ratio', the anomaly score of 'normal' group in mean is -0.07 and the anomaly score of 'outlier' group is 1.56; also, the anomaly score of 'outlier' group is 4 times highere than the 'normal' group(train: 0.34 to 1.27; test: 0.35% to 1.27%). Therefor 'outlier' group in both train and test dataset is the anomalous/outlier group."
   ]
  },
  {
   "cell_type": "markdown",
   "id": "8959e348",
   "metadata": {},
   "source": [
    "# Summary\n",
    "\n",
    "##### Business insight:\n",
    "The \"Outlier\" group might might represent cases that need closer examination, this could be due to potential fraud, this group represent cases that are unusual but not necessarily fraudulent. They might be cases that require special attention due to their high values. We can use the invesitigate in these cases and trace back the datapoint to the original dataset, find out the common points that these anomalies have made, remark them and use these as important variables/feature therefor further improve our initial modeling regulatories."
   ]
  },
  {
   "cell_type": "code",
   "execution_count": null,
   "id": "72a75ca6",
   "metadata": {},
   "outputs": [],
   "source": []
  }
 ],
 "metadata": {
  "kernelspec": {
   "display_name": "Python 3 (ipykernel)",
   "language": "python",
   "name": "python3"
  },
  "language_info": {
   "codemirror_mode": {
    "name": "ipython",
    "version": 3
   },
   "file_extension": ".py",
   "mimetype": "text/x-python",
   "name": "python",
   "nbconvert_exporter": "python",
   "pygments_lexer": "ipython3",
   "version": "3.9.13"
  }
 },
 "nbformat": 4,
 "nbformat_minor": 5
}
